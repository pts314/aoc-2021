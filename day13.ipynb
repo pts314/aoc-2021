{
 "cells": [
  {
   "cell_type": "code",
   "execution_count": 2,
   "id": "ca7ba7c1-8deb-4f5c-aa38-82ea5093a804",
   "metadata": {},
   "outputs": [],
   "source": [
    "import numpy as np\n",
    "import matplotlib.pyplot as plt\n",
    "import copy"
   ]
  },
  {
   "cell_type": "code",
   "execution_count": 3,
   "id": "4b1ab4bc-c94d-4525-92de-e271f0841b75",
   "metadata": {},
   "outputs": [],
   "source": [
    "with open(\"/home/peter/Downloads/AdventOfCode/day13Input.txt\") as fh:\n",
    "    lines = fh.readlines()"
   ]
  },
  {
   "cell_type": "code",
   "execution_count": 16,
   "id": "a21e21fb-3926-4b69-8341-7af3873ee14b",
   "metadata": {},
   "outputs": [],
   "source": [
    "def npFromLines(lines):\n",
    "    board = np.zeros(shape=(len(lines),len(lines[0].strip())),dtype=np.int32)\n",
    "    for i in range(len(lines)):\n",
    "        for j in range(len(lines[i].strip())):\n",
    "            board[i][j] = int(lines[i][j])\n",
    "    return board\n",
    "#board = npFromLines(lines)\n",
    "points = []\n",
    "folds = []\n",
    "for line in lines:\n",
    "    if len( line.strip().split(\",\") ) == 2:\n",
    "        x,y = line.strip().split(\",\")\n",
    "        points.append((int(x),int(y)))\n",
    "    elif \"fold along\" in line: \n",
    "        foo = line.strip().split(\" \")\n",
    "        folds.append(foo[2])\n",
    "    "
   ]
  },
  {
   "cell_type": "code",
   "execution_count": 40,
   "id": "f4e3fa13-178b-445b-8b65-cf98d644d1d3",
   "metadata": {},
   "outputs": [
    {
     "name": "stdout",
     "output_type": "stream",
     "text": [
      "(1311, 895)\n"
     ]
    }
   ],
   "source": [
    "sizeX = max([int(x[0]) for x in points])\n",
    "sizeY = max([int(x[1]) for x in points])\n",
    "board = np.zeros(shape=(655*2+1,447*2+1),dtype=int)\n",
    "print(board.shape)\n",
    "for point in points:\n",
    "    #print(point)\n",
    "    board[point[0],point[1]] = 1"
   ]
  },
  {
   "cell_type": "code",
   "execution_count": 41,
   "id": "131bb9da-8360-4c2f-9073-162e292bfefb",
   "metadata": {},
   "outputs": [
    {
     "name": "stdout",
     "output_type": "stream",
     "text": [
      "['x=655', 'y=447', 'x=327', 'y=223', 'x=163', 'y=111', 'x=81', 'y=55', 'x=40', 'y=27', 'y=13', 'y=6']\n"
     ]
    }
   ],
   "source": [
    "print(folds)"
   ]
  },
  {
   "cell_type": "code",
   "execution_count": 43,
   "id": "8320d4d8-34e5-4801-b949-0331cc686b2b",
   "metadata": {},
   "outputs": [],
   "source": [
    "def fold(board, yorx, location):\n",
    "    pass\n",
    "            "
   ]
  },
  {
   "cell_type": "markdown",
   "id": "0c6f16e1-8cc2-4236-82cf-d0a957a8a9ab",
   "metadata": {
    "jp-MarkdownHeadingCollapsed": true,
    "tags": []
   },
   "source": [
    "1306/655"
   ]
  },
  {
   "cell_type": "code",
   "execution_count": 44,
   "id": "c7a12d8f-6f7a-4a58-a043-480d7e16398d",
   "metadata": {},
   "outputs": [],
   "source": [
    "board1 = board + np.flip(board,axis=0)"
   ]
  },
  {
   "cell_type": "code",
   "execution_count": 45,
   "id": "9e9c081f-1e1e-414c-9b31-4bc088aebd4c",
   "metadata": {},
   "outputs": [],
   "source": [
    "baord1 = board1[0:655,:]"
   ]
  },
  {
   "cell_type": "code",
   "execution_count": 46,
   "id": "96418ee8-3d97-42d2-b54c-f1f1443512f2",
   "metadata": {},
   "outputs": [
    {
     "data": {
      "text/plain": [
       "(655, 895)"
      ]
     },
     "execution_count": 46,
     "metadata": {},
     "output_type": "execute_result"
    }
   ],
   "source": [
    "baord1.shape"
   ]
  },
  {
   "cell_type": "code",
   "execution_count": 47,
   "id": "63b34dd4-2786-41c6-a39a-4463e777e1d6",
   "metadata": {},
   "outputs": [
    {
     "data": {
      "text/plain": [
       "592"
      ]
     },
     "execution_count": 47,
     "metadata": {},
     "output_type": "execute_result"
    }
   ],
   "source": [
    "np.count_nonzero(baord1)"
   ]
  },
  {
   "cell_type": "code",
   "execution_count": 37,
   "id": "dffa1c8b-6b2f-4e5a-bb29-b734f2a737d7",
   "metadata": {},
   "outputs": [
    {
     "data": {
      "text/plain": [
       "327.5"
      ]
     },
     "execution_count": 37,
     "metadata": {},
     "output_type": "execute_result"
    }
   ],
   "source": [
    "655/2"
   ]
  },
  {
   "cell_type": "code",
   "execution_count": 39,
   "id": "cf6f8700-a369-4fe6-9630-c0c14cb94e7e",
   "metadata": {},
   "outputs": [
    {
     "data": {
      "text/plain": [
       "653.0"
      ]
     },
     "execution_count": 39,
     "metadata": {},
     "output_type": "execute_result"
    }
   ],
   "source": [
    "1306/2"
   ]
  },
  {
   "cell_type": "code",
   "execution_count": 49,
   "id": "9d27631f-c304-45f0-ae70-06b64a3ffdeb",
   "metadata": {},
   "outputs": [],
   "source": [
    "board1 = board\n",
    "for fold in folds:\n",
    "    if \"x\" in fold:\n",
    "        axis=0\n",
    "    else:\n",
    "        axis=1\n",
    "    board1 = board1 + np.flip(board1,axis=axis)\n",
    "    if axis:\n",
    "        board1 = board1[:,0:board1.shape[1]//2]\n",
    "    else:\n",
    "        board1 = board1[0:board1.shape[0]//2,:]"
   ]
  },
  {
   "cell_type": "code",
   "execution_count": 52,
   "id": "b887ca11-a8ff-4c41-89e4-0291a343690f",
   "metadata": {},
   "outputs": [
    {
     "name": "stdout",
     "output_type": "stream",
     "text": [
      "[[ 0  0  7 14  0  0  2 14  0  0  0 12  9  0  0  0  0  6  1  0  7  4  5  8\n",
      "   0  7 14 16  2  0  6  0  0 13  0  9  0  0  1  0]\n",
      " [ 0  0  0  8  0 18  0  0  2  0  2  0  0  9  0  0  0  0  2  0  6  0  0  0\n",
      "   0  4  0  0  0  0  8  0  9  0  0 19  0  0 10  0]\n",
      " [ 0  0  0  3  0  1  0  0  0  0  1  0  0 12  0  0  0  0 16  0 18 21  4  0\n",
      "   0 17  2  5  0  0 12  3  0  0  0  4  0  0  8  0]\n",
      " [ 0  0  0  6  0 19  0 21  6  0  5  7  5  1  0  0  0  0 28  0  5  0  0  0\n",
      "   0  5  0  0  0  0  2  0  1  0  0  9  0  0 13  0]\n",
      " [ 4  0  0  5  0  2  0  0  3  0  2  0  0  3  0 19  0  0  5  0  1  0  0  0\n",
      "   0  4  0  0  0  0  2  0 15  0  0 13  0  0  3  0]\n",
      " [ 0  4 11  0  0  0  4  6  5  0  7  0  0  9  0  0  3  4  0  0 22  3  7 12\n",
      "   0  4  0  0  0  0  9  0  0  8  0  0  4  5  0  0]]\n"
     ]
    }
   ],
   "source": [
    "print(board1.T)"
   ]
  },
  {
   "cell_type": "code",
   "execution_count": 53,
   "id": "9789d38c-ccfa-4712-883f-80322d33e662",
   "metadata": {},
   "outputs": [
    {
     "data": {
      "text/plain": [
       "<matplotlib.image.AxesImage at 0x7f34b50250a0>"
      ]
     },
     "execution_count": 53,
     "metadata": {},
     "output_type": "execute_result"
    },
    {
     "data": {
      "image/png": "[encoded data removed]",
      "text/plain": [
       "<Figure size 432x288 with 1 Axes>"
      ]
     },
     "metadata": {
      "needs_background": "light"
     },
     "output_type": "display_data"
    }
   ],
   "source": [
    "plt.imshow(board1.T)"
   ]
  },
  {
   "cell_type": "code",
   "execution_count": 55,
   "id": "5a3b6f0d-e4d4-4b89-8958-4103e602d40f",
   "metadata": {},
   "outputs": [
    {
     "name": "stdout",
     "output_type": "stream",
     "text": [
      "  [ 0  0  7 14  0  0  2 14  0  0  0 12  9  0  0  0  0  6  1  0  7  4  5  8\n",
      "  0  7 14 16  2  0  6  0  0 13  0  9  0  0  1  0]\n",
      "  [ 0  0  0  8  0 18  0  0  2  0  2  0  0  9  0  0  0  0  2  0  6  0  0  0\n",
      "  0  4  0  0  0  0  8  0  9  0  0 19  0  0 10  0]\n",
      "  [ 0  0  0  3  0  1  0  0  0  0  1  0  0 12  0  0  0  0 16  0 18 21  4  0\n",
      "  0 17  2  5  0  0 12  3  0  0  0  4  0  0  8  0]\n",
      "  [ 0  0  0  6  0 19  0 21  6  0  5  7  5  1  0  0  0  0 28  0  5  0  0  0\n",
      "  0  5  0  0  0  0  2  0  1  0  0  9  0  0 13  0]\n",
      "  [ 4  0  0  5  0  2  0  0  3  0  2  0  0  3  0 19  0  0  5  0  1  0  0  0\n",
      "  0  4  0  0  0  0  2  0 15  0  0 13  0  0  3  0]\n",
      "  [ 0  4 11  0  0  0  4  6  5  0  7  0  0  9  0  0  3  4  0  0 22  3  7 12\n",
      "  0  4  0  0  0  0  9  0  0  8  0  0  4  5  0  0]\n"
     ]
    }
   ],
   "source": []
  },
  {
   "cell_type": "code",
   "execution_count": null,
   "id": "29ffe42c-af2b-4a41-82af-dc9a7f9de230",
   "metadata": {},
   "outputs": [],
   "source": []
  }
 ],
 "metadata": {
  "kernelspec": {
   "display_name": "Python 3 (ipykernel)",
   "language": "python",
   "name": "python3"
  },
  "language_info": {
   "codemirror_mode": {
    "name": "ipython",
    "version": 3
   },
   "file_extension": ".py",
   "mimetype": "text/x-python",
   "name": "python",
   "nbconvert_exporter": "python",
   "pygments_lexer": "ipython3",
   "version": "3.8.10"
  }
 },
 "nbformat": 4,
 "nbformat_minor": 5
}
