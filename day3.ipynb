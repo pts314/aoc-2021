{
 "cells": [
  {
   "cell_type": "code",
   "execution_count": 1,
   "id": "a3e5ae4d-292a-4c71-a60f-8c765f4fc62c",
   "metadata": {},
   "outputs": [],
   "source": [
    "import numpy as np"
   ]
  },
  {
   "cell_type": "code",
   "execution_count": 123,
   "id": "2c11c727-5eae-4c46-a219-f3a85b316c7f",
   "metadata": {},
   "outputs": [],
   "source": [
    "with open(\"/home/peter/Downloads/AdventOfCode/day3Input.txt\") as fh:\n",
    "    lines = fh.readlines()"
   ]
  },
  {
   "cell_type": "code",
   "execution_count": 125,
   "id": "8d652945-bc85-4f84-b5cc-fbdd9395d656",
   "metadata": {},
   "outputs": [],
   "source": [
    "testInput = \"\"\"00100\n",
    "11110\n",
    "10110\n",
    "10111\n",
    "10101\n",
    "01111\n",
    "00111\n",
    "11100\n",
    "10000\n",
    "11001\n",
    "00010\n",
    "01010\"\"\"\n",
    "alines = testInput.split(\"\\n\")\n",
    "\n",
    "first, second = 0,0\n",
    "ones = [0]*(len(lines[0])-1)\n",
    "zeros = [0]*(len(lines[0])-1)\n",
    "for line in lines:\n",
    "    for i in range(len(ones)):\n",
    "        ones[i] += int(line[i])\n",
    "        zeros[i] += int(lines[i]) ^ 1"
   ]
  },
  {
   "cell_type": "code",
   "execution_count": 126,
   "id": "160a8e0f-41bf-497e-8dc2-3620466337c6",
   "metadata": {},
   "outputs": [
    {
     "name": "stdout",
     "output_type": "stream",
     "text": [
      "[475, 501, 495, 483, 499, 520, 516, 508, 490, 504, 504, 528]\n",
      "[11001101001000, 10101111101000, 111100000, 1001001011000, 10011000000000, 111111001111000, 1011101110000, 110011010111000, 100011111111000, 101110000110000, 11011101000, 1111111010000]\n"
     ]
    }
   ],
   "source": [
    "print(ones)\n",
    "print(zeros)"
   ]
  },
  {
   "cell_type": "code",
   "execution_count": 127,
   "id": "9ebadd63-45d6-4248-a53e-54358d1a299d",
   "metadata": {},
   "outputs": [
    {
     "name": "stdout",
     "output_type": "stream",
     "text": [
      "1000\n"
     ]
    }
   ],
   "source": [
    "print(len(lines))"
   ]
  },
  {
   "cell_type": "code",
   "execution_count": 128,
   "id": "5e52644e-a6aa-4f3c-9a57-97deb27ff36b",
   "metadata": {},
   "outputs": [],
   "source": [
    "gamma, epsilon = 0, 0\n",
    "for i in ones:\n",
    "    if i > len(lines)/2:\n",
    "        gamma = (gamma << 1) + 1\n",
    "        epsilon = epsilon << 1\n",
    "    else:\n",
    "        epsilon = (epsilon << 1) + 1\n",
    "        gamma = gamma << 1 "
   ]
  },
  {
   "cell_type": "code",
   "execution_count": 129,
   "id": "d80d2ddb-77e9-4e0b-a8b1-1ccd4f239379",
   "metadata": {},
   "outputs": [],
   "source": [
    "def getValues(ones,lines,ties):\n",
    "    gamma, epsilon = 0, 0\n",
    "    for i in ones:\n",
    "        if i > len(lines)/2:\n",
    "            gamma = (gamma << 1) + 1\n",
    "            epsilon = epsilon << 1\n",
    "        elif i < len(lines)/2:\n",
    "            epsilon = (epsilon << 1) + 1\n",
    "            gamma = gamma << 1\n",
    "        else:# ties == 1:\n",
    "            gamma = (gamma << 1) + 1\n",
    "            epsilon = epsilon << 1\n",
    "        #else:\n",
    "         #   epsilon = (epsilon << 1) + 1\n",
    "          #  gamma = gamma << 1\n",
    "    return gamma, epsilon"
   ]
  },
  {
   "cell_type": "code",
   "execution_count": 130,
   "id": "22ad4e49-3fb1-48d5-b33a-2930fae56175",
   "metadata": {},
   "outputs": [
    {
     "name": "stdout",
     "output_type": "stream",
     "text": [
      "1143\n",
      "2952\n"
     ]
    }
   ],
   "source": [
    "print(gamma)\n",
    "print(epsilon)"
   ]
  },
  {
   "cell_type": "code",
   "execution_count": 131,
   "id": "6795f043-0a23-40ed-b4af-f7d588f1205f",
   "metadata": {},
   "outputs": [
    {
     "data": {
      "text/plain": [
       "3374136"
      ]
     },
     "execution_count": 131,
     "metadata": {},
     "output_type": "execute_result"
    }
   ],
   "source": [
    "gamma * epsilon    "
   ]
  },
  {
   "cell_type": "code",
   "execution_count": 136,
   "id": "fdd16422-da84-4293-b49a-395cfa3a47b9",
   "metadata": {},
   "outputs": [],
   "source": [
    "length = 12\n",
    "def findMatch(lines, gammaOrEpsilon,length,i):\n",
    "    if len(lines) == 1:\n",
    "        return lines[0]\n",
    "    ones = [0]*length\n",
    "    zeros = [0]*length\n",
    "    for line in lines:\n",
    "        for j in range(length):\n",
    "            ones[j] += int(line[j])\n",
    "            #zeros[j] += int(lines[j]) ^ 1\n",
    "    print(ones)\n",
    "    g,e = getValues(ones,lines,gammaOrEpsilon)\n",
    "    value = g if gammaOrEpsilon else e\n",
    "    #print(\"value is \", value)\n",
    "    newLines = []\n",
    "    for line in lines:\n",
    "        if int(line[i]) == (1&(value >> length - i-1)):\n",
    "            newLines.append(line)\n",
    "    #print(\"new lines is \", newLines)\n",
    "    return findMatch(newLines, gammaOrEpsilon, length, i+1)"
   ]
  },
  {
   "cell_type": "code",
   "execution_count": 137,
   "id": "d9353d85-fafe-4aba-b4b4-6c1bb69dca2a",
   "metadata": {},
   "outputs": [
    {
     "name": "stdout",
     "output_type": "stream",
     "text": [
      "[475, 501, 495, 483, 499, 520, 516, 508, 490, 504, 504, 528]\n",
      "[0, 263, 272, 258, 263, 283, 270, 273, 250, 258, 262, 286]\n",
      "[0, 263, 136, 138, 137, 142, 134, 139, 127, 124, 126, 150]\n",
      "[0, 136, 136, 77, 67, 80, 70, 75, 62, 65, 63, 70]\n",
      "[0, 77, 77, 77, 36, 44, 40, 43, 38, 37, 36, 40]\n",
      "[0, 41, 41, 41, 0, 28, 21, 24, 18, 24, 18, 23]\n",
      "[0, 28, 28, 28, 0, 28, 15, 17, 10, 16, 13, 16]\n",
      "[0, 15, 15, 15, 0, 15, 15, 10, 6, 9, 5, 8]\n",
      "[0, 10, 10, 10, 0, 10, 10, 10, 4, 5, 3, 5]\n",
      "[0, 6, 6, 6, 0, 6, 6, 6, 0, 3, 2, 2]\n",
      "[0, 3, 3, 3, 0, 3, 3, 3, 0, 3, 1, 1]\n",
      "[0, 2, 2, 2, 0, 2, 2, 2, 0, 2, 0, 1]\n"
     ]
    },
    {
     "data": {
      "text/plain": [
       "1909"
      ]
     },
     "execution_count": 137,
     "metadata": {},
     "output_type": "execute_result"
    }
   ],
   "source": [
    "int(findMatch(lines,1,length,0),base=2)"
   ]
  },
  {
   "cell_type": "code",
   "execution_count": 138,
   "id": "bc500f5d-cf03-41df-8f33-75fc24723006",
   "metadata": {},
   "outputs": [
    {
     "name": "stdout",
     "output_type": "stream",
     "text": [
      "[475, 501, 495, 483, 499, 520, 516, 508, 490, 504, 504, 528]\n",
      "[475, 238, 223, 225, 236, 237, 246, 235, 240, 246, 242, 242]\n",
      "[237, 0, 119, 113, 116, 113, 127, 121, 125, 124, 119, 121]\n",
      "[118, 0, 0, 54, 58, 52, 65, 65, 61, 63, 61, 57]\n",
      "[54, 0, 0, 54, 28, 25, 32, 32, 28, 25, 25, 26]\n",
      "[26, 0, 0, 26, 0, 13, 17, 13, 13, 9, 11, 12]\n",
      "[13, 0, 0, 13, 0, 0, 8, 6, 6, 5, 5, 7]\n",
      "[5, 0, 0, 5, 0, 0, 0, 2, 3, 1, 1, 3]\n",
      "[2, 0, 0, 2, 0, 0, 0, 2, 1, 1, 1, 1]\n"
     ]
    },
    {
     "data": {
      "text/plain": [
       "2322"
      ]
     },
     "execution_count": 138,
     "metadata": {},
     "output_type": "execute_result"
    }
   ],
   "source": [
    "int(findMatch(lines,0,length,0),base=2)"
   ]
  },
  {
   "cell_type": "code",
   "execution_count": 46,
   "id": "3548950e-2267-4c18-b702-1fee86ac4d0f",
   "metadata": {},
   "outputs": [
    {
     "name": "stdout",
     "output_type": "stream",
     "text": [
      "0\n"
     ]
    }
   ],
   "source": [
    "print(1&(gamma>>11))"
   ]
  },
  {
   "cell_type": "code",
   "execution_count": 52,
   "id": "ce15a8b7-0835-4cb1-9714-b98056aa44b6",
   "metadata": {},
   "outputs": [
    {
     "data": {
      "text/plain": [
       "1139"
      ]
     },
     "execution_count": 52,
     "metadata": {},
     "output_type": "execute_result"
    }
   ],
   "source": [
    "int(\"010001110011\",base=2)"
   ]
  },
  {
   "cell_type": "code",
   "execution_count": 55,
   "id": "6de7a5d4-3ee6-495f-b640-cf27cd76489a",
   "metadata": {},
   "outputs": [
    {
     "data": {
      "text/plain": [
       "3366884"
      ]
     },
     "execution_count": 55,
     "metadata": {},
     "output_type": "execute_result"
    }
   ],
   "source": [
    "1139*2956"
   ]
  },
  {
   "cell_type": "code",
   "execution_count": 75,
   "id": "6fb44129-f555-46c9-979e-cce9184620a7",
   "metadata": {},
   "outputs": [
    {
     "name": "stdout",
     "output_type": "stream",
     "text": [
      "22\n"
     ]
    }
   ],
   "source": [
    "print(gamma)"
   ]
  },
  {
   "cell_type": "code",
   "execution_count": 139,
   "id": "3c79ce49-64be-45a5-87cd-5a8a4edfec12",
   "metadata": {},
   "outputs": [
    {
     "data": {
      "text/plain": [
       "4432698"
      ]
     },
     "execution_count": 139,
     "metadata": {},
     "output_type": "execute_result"
    }
   ],
   "source": [
    "1909*2322\n"
   ]
  },
  {
   "cell_type": "code",
   "execution_count": null,
   "id": "e88cf4af-d81d-41ca-aa32-0c176056598d",
   "metadata": {},
   "outputs": [],
   "source": []
  }
 ],
 "metadata": {
  "kernelspec": {
   "display_name": "Python 3 (ipykernel)",
   "language": "python",
   "name": "python3"
  },
  "language_info": {
   "codemirror_mode": {
    "name": "ipython",
    "version": 3
   },
   "file_extension": ".py",
   "mimetype": "text/x-python",
   "name": "python",
   "nbconvert_exporter": "python",
   "pygments_lexer": "ipython3",
   "version": "3.8.10"
  }
 },
 "nbformat": 4,
 "nbformat_minor": 5
}
