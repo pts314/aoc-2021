{
 "cells": [
  {
   "cell_type": "code",
   "execution_count": 1,
   "id": "78e5c05f-1a30-48c7-ae16-5498525e5f80",
   "metadata": {},
   "outputs": [],
   "source": [
    "import numpy as np"
   ]
  },
  {
   "cell_type": "code",
   "execution_count": 3,
   "id": "a69630fe-58a4-450a-99b3-533306730059",
   "metadata": {},
   "outputs": [],
   "source": [
    "\n",
    "with open(\"/home/peter/Downloads/AdventOfCode/day5Input.txt\") as fh:\n",
    "    lines = fh.readlines()"
   ]
  },
  {
   "cell_type": "code",
   "execution_count": 4,
   "id": "b536c011-d502-4f54-9939-9d930f1ed64a",
   "metadata": {},
   "outputs": [],
   "source": []
  },
  {
   "cell_type": "code",
   "execution_count": 31,
   "id": "9c9ce411-a572-407f-847b-09edcdc33148",
   "metadata": {},
   "outputs": [],
   "source": [
    "def parseLine(line):\n",
    "    a,b = line.split(\"->\")\n",
    "    x1,y1 = a.split(\",\")\n",
    "    x1 = int(x1)\n",
    "    y1 = int(y1)\n",
    "    x2,y2 = b.split(\",\")\n",
    "    x2 = int(x2)\n",
    "    y2 = int(y2)\n",
    "    return x1,y1,x2,y2"
   ]
  },
  {
   "cell_type": "code",
   "execution_count": 53,
   "id": "3a8571d0-48ae-45ba-b3a9-c55a318c0cb5",
   "metadata": {},
   "outputs": [],
   "source": [
    "area = np.zeros(shape=(1000,1000),dtype=np.int32)\n",
    "count = 0\n",
    "for line in lines:\n",
    "    x1,y1,x2,y2 = parseLine(line)\n",
    "    #check if x == x\n",
    "    if x1 == x2:\n",
    "        # iter over y\n",
    "        for y in range(min(y1,y2),max(y1,y2)+1):\n",
    "            area[x1][y] += 1\n",
    "            if area[x1][y] == 2:\n",
    "                count +=1\n",
    "        \n",
    "    #check if y == y\n",
    "    elif y1 == y2:\n",
    "        # iter over x\n",
    "        for x in range(min(x1,x2),max(x1,x2)+1):\n",
    "            area[x][y1] += 1\n",
    "            if area[x][y1] == 2:\n",
    "                count +=1\n",
    "    else:\n",
    "        # diagonal line\n",
    "        diff = x1-x2\n",
    "        direction = np.array(((x2-x1)//abs(diff),(y2-y1)//abs(diff)))\n",
    "        loc = np.array([x1,y1])\n",
    "        end = np.array([x2,y2])\n",
    "        area[loc[0]][loc[1]] += 1\n",
    "        if area[loc[0]][loc[1]] == 2:\n",
    "            count += 1\n",
    "        #area[end[0]][end[1]] += 1\n",
    "        #if area[end[0]][end[1]] == 2:\n",
    "#            count += 1\n",
    "        #print(\"loc is \",loc)\n",
    "        #print(\"end is \",end)\n",
    "        #print(\"direction is \",direction)\n",
    "        while loc[0] != end[0] and loc[1] != end[1]:\n",
    "            \n",
    "            #print(\"direction is \",direction)\n",
    "            loc += direction\n",
    "            #print(\"loc is \",loc)\n",
    "            area[loc[0]][loc[1]] += 1\n",
    "            if area[loc[0]][loc[1]] == 2:\n",
    "                count += 1      \n",
    "            "
   ]
  },
  {
   "cell_type": "code",
   "execution_count": 54,
   "id": "1ce77cf0-65fc-4fa7-9ee6-2cef150240fe",
   "metadata": {},
   "outputs": [
    {
     "name": "stdout",
     "output_type": "stream",
     "text": [
      "[20, 19, 18, 17, 16, 15]\n"
     ]
    }
   ],
   "source": [
    "print([x for x in range(20,14,-1)])"
   ]
  },
  {
   "cell_type": "code",
   "execution_count": 55,
   "id": "15ed256e-af49-4431-8900-e91c7d54b83e",
   "metadata": {},
   "outputs": [
    {
     "name": "stdout",
     "output_type": "stream",
     "text": [
      "973,543 -> 601,915\n",
      "\n",
      "20299\n"
     ]
    }
   ],
   "source": [
    "print(lines[0])\n",
    "print(count)"
   ]
  },
  {
   "cell_type": "code",
   "execution_count": 37,
   "id": "440a4eab-09d9-40ba-a8c7-5b08f07bd3f9",
   "metadata": {},
   "outputs": [
    {
     "name": "stdout",
     "output_type": "stream",
     "text": [
      "372\n",
      "-372\n"
     ]
    }
   ],
   "source": [
    "print(973-601)\n",
    "print(543-915)"
   ]
  },
  {
   "cell_type": "code",
   "execution_count": 30,
   "id": "e08da90d-5e3b-4241-b76a-7c0b15e64161",
   "metadata": {},
   "outputs": [
    {
     "data": {
      "text/plain": [
       "2"
      ]
     },
     "execution_count": 30,
     "metadata": {},
     "output_type": "execute_result"
    }
   ],
   "source": [
    "max(3,2)\n",
    "min(3,2)"
   ]
  },
  {
   "cell_type": "code",
   "execution_count": 42,
   "id": "4bbc0ba4-6a5d-4a6f-a3d9-33cd93bf8276",
   "metadata": {},
   "outputs": [
    {
     "name": "stdout",
     "output_type": "stream",
     "text": [
      "(1, 1)\n",
      "(3, 2, 1, 1)\n"
     ]
    }
   ],
   "source": [
    "print(direction)\n",
    "print((3,2) + direction)"
   ]
  },
  {
   "cell_type": "code",
   "execution_count": 45,
   "id": "ed41ec14-434b-4aea-87b8-92c7027ce763",
   "metadata": {},
   "outputs": [
    {
     "data": {
      "text/plain": [
       "array([3, 4])"
      ]
     },
     "execution_count": 45,
     "metadata": {},
     "output_type": "execute_result"
    }
   ],
   "source": [
    "np.array([2,3]) + np.array(direction)"
   ]
  },
  {
   "cell_type": "code",
   "execution_count": null,
   "id": "3193b266-881d-4e4f-9238-79d13bea4306",
   "metadata": {},
   "outputs": [],
   "source": []
  }
 ],
 "metadata": {
  "kernelspec": {
   "display_name": "Python 3 (ipykernel)",
   "language": "python",
   "name": "python3"
  },
  "language_info": {
   "codemirror_mode": {
    "name": "ipython",
    "version": 3
   },
   "file_extension": ".py",
   "mimetype": "text/x-python",
   "name": "python",
   "nbconvert_exporter": "python",
   "pygments_lexer": "ipython3",
   "version": "3.8.10"
  }
 },
 "nbformat": 4,
 "nbformat_minor": 5
}
