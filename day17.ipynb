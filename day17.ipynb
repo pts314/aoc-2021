{
 "cells": [
  {
   "cell_type": "code",
   "execution_count": 1,
   "id": "ca7ba7c1-8deb-4f5c-aa38-82ea5093a804",
   "metadata": {},
   "outputs": [],
   "source": [
    "import numpy as np\n",
    "import matplotlib.pyplot as plt\n",
    "import copy\n",
    "import math"
   ]
  },
  {
   "cell_type": "code",
   "execution_count": 13,
   "id": "4b1ab4bc-c94d-4525-92de-e271f0841b75",
   "metadata": {},
   "outputs": [],
   "source": [
    "#with open(\"/home/peter/Downloads/AdventOfCode/day16Input.txt\") as fh:\n",
    "#    lines = fh.readlines()\n",
    "#with open(\"/home/peter/Downloads/AdventOfCode/day15Test.txt\") as fh:\n",
    "#    lines = fh.readlines()\n",
    "data = \"target area: x=138..184, y=-125..-71\"\n",
    "x = [138,184]\n",
    "y = [-125,-71]\n",
    "#x = [20,30]\n",
    "#y = [-10,-5]"
   ]
  },
  {
   "cell_type": "code",
   "execution_count": 14,
   "id": "0e5e0f5a-5ae8-4c70-b050-41cb0df25f25",
   "metadata": {},
   "outputs": [],
   "source": [
    "def between(i, bounds):\n",
    "    return i >= bounds[0] and i <= bounds[1]\n",
    "def doStep(startX,startY):\n",
    "    loc = [0,0]\n",
    "    done = False\n",
    "    maxy = 0\n",
    "    while not done:\n",
    "        #print(loc)\n",
    "        maxy = max(maxy,loc[1])\n",
    "        loc[0] += startX\n",
    "        loc[1] += startY\n",
    "        if startX != 0:\n",
    "            startX += -1\n",
    "        startY += -1\n",
    "        if between(loc[0],x) and between(loc[1],y):\n",
    "            #print(\"was a hit!\")\n",
    "            return (loc[0],loc[1])\n",
    "        if loc[1] < y[0]:\n",
    "            return None\n",
    "        if startX == 0 and not between(loc[0],x):\n",
    "            return None\n",
    "    return maxy"
   ]
  },
  {
   "cell_type": "code",
   "execution_count": 15,
   "id": "48a826c8-03f4-473e-bbfd-f5c007047a2b",
   "metadata": {},
   "outputs": [
    {
     "name": "stdout",
     "output_type": "stream",
     "text": [
      "0 : 0\n",
      "1 : 1\n",
      "2 : 3\n",
      "3 : 6\n",
      "4 : 10\n",
      "5 : 15\n",
      "6 : 21\n",
      "7 : 28\n",
      "8 : 36\n",
      "9 : 45\n"
     ]
    }
   ],
   "source": [
    "sumx=0\n",
    "for i in range(10):\n",
    "    sumx+=i\n",
    "    print(f\"{i} : {sumx}\")"
   ]
  },
  {
   "cell_type": "code",
   "execution_count": 16,
   "id": "63821697-750b-4f96-a845-fcf24ec453d9",
   "metadata": {},
   "outputs": [],
   "source": [
    "maxyy = 0\n",
    "count = set()\n",
    "for i in range(0,190,1):\n",
    "    for j in range(-130,130,1):\n",
    "        result = doStep(i,j)\n",
    "        if result is not None:\n",
    "            count.add(f\"{i},{j}\")\n",
    "        #maxyy = max(maxyy,result)"
   ]
  },
  {
   "cell_type": "code",
   "execution_count": 17,
   "id": "19544271-29ea-4235-9e6e-a72df8bc35c0",
   "metadata": {},
   "outputs": [
    {
     "name": "stdout",
     "output_type": "stream",
     "text": [
      "0\n"
     ]
    }
   ],
   "source": [
    "print(maxyy)"
   ]
  },
  {
   "cell_type": "code",
   "execution_count": 18,
   "id": "83e82e88-9f1c-44df-8cfb-98dd94ac268b",
   "metadata": {},
   "outputs": [],
   "source": [
    "doStep(3,5)"
   ]
  },
  {
   "cell_type": "code",
   "execution_count": 20,
   "id": "229894e0-0aad-414e-92c2-480ab4386efb",
   "metadata": {},
   "outputs": [
    {
     "name": "stdout",
     "output_type": "stream",
     "text": [
      "foobar\n",
      "112\n",
      "4120\n",
      "{'7,8', '7,0', '30,-6', '30,-5', '6,6', '7,4', '8,1', '29,-6', '26,-5', '14,-4', '9,-1', '6,5', '7,9', '9,0', '12,-2', '10,-1', '7,6', '15,-2', '6,7', '30,-7', '6,0', '20,-10', '13,-2', '7,5', '6,3', '25,-5', '15,-3', '8,-2', '29,-5', '30,-9', '13,-3', '7,1', '6,1', '15,-4', '28,-7', '6,2', '12,-3', '8,-1', '7,2', '27,-7', '11,-4', '30,-8', '7,-1', '12,-4', '11,-1', '14,-2', '8,0', '6,9', '7,3', '28,-6', '13,-4', '10,-2', '27,-5', '6,8', '28,-5', '6,4', '29,-7', '11,-3', '27,-6', '14,-3', '9,-2', '7,7', '11,-2'}\n"
     ]
    }
   ],
   "source": [
    "#print(sorted(list(blah)))\n",
    "#print(sorted(count))\n",
    "print(\"foobar\")\n",
    "print(len(blah))\n",
    "print(len(count))\n",
    "print(blah-count)"
   ]
  },
  {
   "cell_type": "code",
   "execution_count": 9,
   "id": "08c3c503-03f7-474a-9fcb-d84f92075bb8",
   "metadata": {},
   "outputs": [],
   "source": [
    "foo = \"\"\"\n",
    "23,-10  25,-9   27,-5   29,-6   22,-6   21,-7   9,0     27,-7   24,-5\n",
    "25,-7   26,-6   25,-5   6,8     11,-2   20,-5   29,-10  6,3     28,-7\n",
    "8,0     30,-6   29,-8   20,-10  6,7     6,4     6,1     14,-4   21,-6\n",
    "26,-10  7,-1    7,7     8,-1    21,-9   6,2     20,-7   30,-10  14,-3\n",
    "20,-8   13,-2   7,3     28,-8   29,-9   15,-3   22,-5   26,-8   25,-8\n",
    "25,-6   15,-4   9,-2    15,-2   12,-2   28,-9   12,-3   24,-6   23,-7\n",
    "25,-10  7,8     11,-3   26,-7   7,1     23,-9   6,0     22,-10  27,-6\n",
    "8,1     22,-8   13,-4   7,6     28,-6   11,-4   12,-4   26,-9   7,4\n",
    "24,-10  23,-8   30,-8   7,0     9,-1    10,-1   26,-5   22,-9   6,5\n",
    "7,5     23,-6   28,-10  10,-2   11,-1   20,-9   14,-2   29,-7   13,-3\n",
    "23,-5   24,-8   27,-9   30,-7   28,-5   21,-10  7,9     6,6     21,-5\n",
    "27,-10  7,2     30,-9   21,-8   22,-7   24,-9   20,-6   6,9     29,-5\n",
    "8,-2    27,-8   30,-5   24,-7\n",
    "\"\"\""
   ]
  },
  {
   "cell_type": "code",
   "execution_count": 10,
   "id": "8c9a1ede-1084-4710-8fe6-dcc47cb23c5d",
   "metadata": {},
   "outputs": [],
   "source": [
    "blah = set(foo.split())"
   ]
  },
  {
   "cell_type": "code",
   "execution_count": 11,
   "id": "fcae43b2-f900-44a7-a9fb-6c4ccd38e745",
   "metadata": {},
   "outputs": [
    {
     "data": {
      "text/plain": [
       "(22, -10)"
      ]
     },
     "execution_count": 11,
     "metadata": {},
     "output_type": "execute_result"
    }
   ],
   "source": [
    "doStep(7,-1)"
   ]
  },
  {
   "cell_type": "code",
   "execution_count": null,
   "id": "539416a2-09f3-467f-9d4b-105d4fa32dc3",
   "metadata": {},
   "outputs": [],
   "source": []
  }
 ],
 "metadata": {
  "kernelspec": {
   "display_name": "Python 3 (ipykernel)",
   "language": "python",
   "name": "python3"
  },
  "language_info": {
   "codemirror_mode": {
    "name": "ipython",
    "version": 3
   },
   "file_extension": ".py",
   "mimetype": "text/x-python",
   "name": "python",
   "nbconvert_exporter": "python",
   "pygments_lexer": "ipython3",
   "version": "3.8.10"
  }
 },
 "nbformat": 4,
 "nbformat_minor": 5
}
