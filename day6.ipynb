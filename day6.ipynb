{
 "cells": [
  {
   "cell_type": "code",
   "execution_count": 1,
   "id": "19bea1b8-8999-494a-8ecb-0e4901d07ae6",
   "metadata": {},
   "outputs": [],
   "source": [
    "import numpy as np"
   ]
  },
  {
   "cell_type": "code",
   "execution_count": 2,
   "id": "b6aba3ef-bfe0-40db-95d5-95de7980e8d1",
   "metadata": {},
   "outputs": [],
   "source": [
    "with open(\"/home/peter/Downloads/AdventOfCode/day6Input.txt\") as fh:\n",
    "    lines = fh.readlines()"
   ]
  },
  {
   "cell_type": "code",
   "execution_count": 3,
   "id": "e7f21de1-9469-4885-97a9-2889bc6a2fd7",
   "metadata": {},
   "outputs": [
    {
     "data": {
      "text/plain": [
       "1"
      ]
     },
     "execution_count": 3,
     "metadata": {},
     "output_type": "execute_result"
    }
   ],
   "source": [
    "len(lines)"
   ]
  },
  {
   "cell_type": "code",
   "execution_count": 4,
   "id": "84a51d95-85fa-40f1-acf8-f991cfffc515",
   "metadata": {},
   "outputs": [],
   "source": [
    "vals = lines[0].split(\",\")"
   ]
  },
  {
   "cell_type": "code",
   "execution_count": 5,
   "id": "30b3e8e9-f7e5-4cac-a320-93b291b7df74",
   "metadata": {},
   "outputs": [],
   "source": [
    "vals = [int(x) for x in vals]\n",
    "mdict = {}\n",
    "for x in range(9):\n",
    "    mdict[x] = 0\n",
    "for val in vals:\n",
    "    mdict[val] += 1"
   ]
  },
  {
   "cell_type": "code",
   "execution_count": 6,
   "id": "6b790fa2-318c-4fdd-ac53-0ba59f09b209",
   "metadata": {},
   "outputs": [],
   "source": [
    "for day in range(256):\n",
    "    nextFish = {}\n",
    "    for x in range(9):\n",
    "        nextFish[x] = 0\n",
    "    for fish in mdict.keys():\n",
    "        if fish == 0:\n",
    "            fish = 7\n",
    "            nextFish[6] += mdict[0]\n",
    "            nextFish[8] = mdict[0]\n",
    "        else:\n",
    "            nextFish[fish-1] += mdict[fish]\n",
    "    mdict = nextFish"
   ]
  },
  {
   "cell_type": "code",
   "execution_count": 7,
   "id": "8294a11d-f7cd-4671-8bb7-d20a87ed0237",
   "metadata": {},
   "outputs": [
    {
     "data": {
      "text/plain": [
       "300"
      ]
     },
     "execution_count": 7,
     "metadata": {},
     "output_type": "execute_result"
    }
   ],
   "source": [
    "len(vals)"
   ]
  },
  {
   "cell_type": "code",
   "execution_count": 8,
   "id": "420340b8-9612-4147-8ee2-bc242a2743cf",
   "metadata": {},
   "outputs": [
    {
     "name": "stdout",
     "output_type": "stream",
     "text": [
      "{0: 142480221881, 1: 163769929038, 2: 173493617242, 3: 189903069483, 4: 211999709154, 5: 220988965245, 6: 256029735552, 7: 119147605351, 8: 139546248592}\n"
     ]
    }
   ],
   "source": [
    "print(mdict)"
   ]
  },
  {
   "cell_type": "code",
   "execution_count": 9,
   "id": "5be0ef21-af81-497f-aca1-ee8095364290",
   "metadata": {},
   "outputs": [],
   "source": [
    "msum = 0\n",
    "for x in mdict.values():\n",
    "    msum += x"
   ]
  },
  {
   "cell_type": "code",
   "execution_count": 10,
   "id": "3c91c3b4-7b23-4b81-96f3-d9f5b2efa576",
   "metadata": {},
   "outputs": [
    {
     "name": "stdout",
     "output_type": "stream",
     "text": [
      "1617359101538\n"
     ]
    }
   ],
   "source": [
    "print(msum)"
   ]
  },
  {
   "cell_type": "code",
   "execution_count": null,
   "id": "0f941d49-d3f3-4493-b6bd-e00c67ff6566",
   "metadata": {},
   "outputs": [],
   "source": []
  }
 ],
 "metadata": {
  "kernelspec": {
   "display_name": "Python 3 (ipykernel)",
   "language": "python",
   "name": "python3"
  },
  "language_info": {
   "codemirror_mode": {
    "name": "ipython",
    "version": 3
   },
   "file_extension": ".py",
   "mimetype": "text/x-python",
   "name": "python",
   "nbconvert_exporter": "python",
   "pygments_lexer": "ipython3",
   "version": "3.8.10"
  }
 },
 "nbformat": 4,
 "nbformat_minor": 5
}
