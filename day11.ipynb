{
 "cells": [
  {
   "cell_type": "code",
   "execution_count": 1,
   "id": "ca7ba7c1-8deb-4f5c-aa38-82ea5093a804",
   "metadata": {},
   "outputs": [],
   "source": [
    "import numpy as np\n",
    "import matplotlib.pyplot as plt\n",
    "import copy"
   ]
  },
  {
   "cell_type": "code",
   "execution_count": 2,
   "id": "4b1ab4bc-c94d-4525-92de-e271f0841b75",
   "metadata": {},
   "outputs": [],
   "source": [
    "lines = \"\"\"start-kc\n",
    "pd-NV\n",
    "start-zw\n",
    "UI-pd\n",
    "HK-end\n",
    "UI-kc\n",
    "pd-ih\n",
    "ih-end\n",
    "start-UI\n",
    "kc-zw\n",
    "end-ks\n",
    "MF-mq\n",
    "HK-zw\n",
    "LF-ks\n",
    "HK-kc\n",
    "ih-HK\n",
    "kc-pd\n",
    "ks-pd\n",
    "MF-pd\n",
    "UI-zw\n",
    "ih-NV\n",
    "ks-HK\n",
    "MF-kc\n",
    "zw-NV\n",
    "NV-ks\"\"\"\n",
    "\n",
    "with open(\"/home/peter/Downloads/AdventOfCode/day11Input.txt\") as fh:\n",
    "    lines = fh.readlines()"
   ]
  },
  {
   "cell_type": "code",
   "execution_count": 3,
   "id": "a21e21fb-3926-4b69-8341-7af3873ee14b",
   "metadata": {},
   "outputs": [],
   "source": [
    "def npFromLines(lines):\n",
    "    board = np.zeros(shape=(len(lines),len(lines[0].strip())),dtype=np.int32)\n",
    "    for i in range(len(lines)):\n",
    "        for j in range(len(lines[i].strip())):\n",
    "            board[i][j] = int(lines[i][j])\n",
    "    return board\n",
    "board = npFromLines(lines)"
   ]
  },
  {
   "cell_type": "code",
   "execution_count": 4,
   "id": "f4e3fa13-178b-445b-8b65-cf98d644d1d3",
   "metadata": {},
   "outputs": [
    {
     "name": "stdout",
     "output_type": "stream",
     "text": [
      "[[6 6 1 7 1 1 3 5 8 4]\n",
      " [6 5 4 4 2 1 8 6 3 8]\n",
      " [5 4 5 7 3 3 1 4 8 8]\n",
      " [1 1 3 5 6 7 5 5 8 7]\n",
      " [1 2 2 1 3 5 3 2 1 6]\n",
      " [1 8 1 1 1 2 4 3 7 8]\n",
      " [1 3 8 7 8 6 4 3 6 8]\n",
      " [4 4 2 7 6 3 7 2 6 2]\n",
      " [6 7 7 8 6 4 5 4 8 6]\n",
      " [3 6 8 2 1 4 6 7 4 5]]\n"
     ]
    }
   ],
   "source": [
    "print(board)"
   ]
  },
  {
   "cell_type": "code",
   "execution_count": 5,
   "id": "64e9bbbb-61c5-4c60-a699-b16bc8238132",
   "metadata": {},
   "outputs": [],
   "source": [
    "directions = [\n",
    "    (-1,-1),\n",
    "    (-1, 0),\n",
    "    ( 0,-1),\n",
    "    ( 1,-1),\n",
    "    (-1, 1),\n",
    "    ( 0, 1),\n",
    "    ( 1, 0),\n",
    "    ( 1, 1),\n",
    "]"
   ]
  },
  {
   "cell_type": "code",
   "execution_count": 6,
   "id": "9cc5ab5f-8a3e-4c61-92fb-4aa00ca69496",
   "metadata": {},
   "outputs": [],
   "source": [
    "def insideBoard(loc,board):\n",
    "    if loc[0] >= 0 and loc[0] < board.shape[0] and \\\n",
    "        loc[1] >= 0 and loc[1] < board.shape[1]:\n",
    "            return True\n",
    "    else:\n",
    "        return False\n",
    "\n",
    "      "
   ]
  },
  {
   "cell_type": "code",
   "execution_count": 24,
   "id": "158d2b44-442b-47fa-aba8-e7964f999abf",
   "metadata": {},
   "outputs": [],
   "source": [
    "def updateNeighbors(loc,board):\n",
    "    for d in directions:\n",
    "        nloc = (loc[0]+d[0],loc[1]+d[1])\n",
    "        #print(nloc)\n",
    "        if insideBoard(nloc,board):\n",
    "            board[nloc] += 1\n",
    "    return board\n",
    "flashCount = 0\n",
    "def flash(board):\n",
    "    localFlashCount = 0\n",
    "    changed = True\n",
    "    for i in range(board.shape[0]):\n",
    "        for j in range(board.shape[1]):\n",
    "            loc = (i,j)\n",
    "            board[loc] += 1\n",
    "    while changed:\n",
    "        changed = False\n",
    "        for i in range(board.shape[0]):\n",
    "            for j in range(board.shape[1]):\n",
    "                loc = (i,j)\n",
    "                if board[loc] > 9:\n",
    "                    localFlashCount += 1\n",
    "                    board = updateNeighbors(loc,board)\n",
    "                    board[loc] = -1000\n",
    "                    changed = True\n",
    "    for i in range(board.shape[0]):\n",
    "        for j in range(board.shape[1]):\n",
    "            loc = (i,j)\n",
    "            if board[loc] < 0:\n",
    "                board[loc] = 0\n",
    "    return (board,localFlashCount)"
   ]
  },
  {
   "cell_type": "code",
   "execution_count": 25,
   "id": "fe3fc1b3-94ac-43a2-b122-0c55185f3528",
   "metadata": {},
   "outputs": [
    {
     "name": "stdout",
     "output_type": "stream",
     "text": [
      "8\n"
     ]
    }
   ],
   "source": [
    "foo = np.array((3, 5))\n",
    "print(board[foo[0],foo[1]])"
   ]
  },
  {
   "cell_type": "code",
   "execution_count": 44,
   "id": "1fd6c18d-1f9e-47cc-8ea7-bfa9bba84b02",
   "metadata": {},
   "outputs": [],
   "source": [
    "board = npFromLines(lines)\n",
    "flashCount = 0\n",
    "itterCount = 0\n",
    "def isAllZero(board):\n",
    "    allZero = True\n",
    "    for i in range(board.shape[0]):\n",
    "        for j in range(board.shape[1]):\n",
    "            loc = (i,j)\n",
    "            if board[loc] != 0:\n",
    "                allZero = False\n",
    "    return allZero\n",
    "\n",
    "while not isAllZero(board):\n",
    "    itterCount += 1\n",
    "    board,locFlash = flash(board)\n",
    "    flashCount += locFlash"
   ]
  },
  {
   "cell_type": "code",
   "execution_count": 45,
   "id": "e16824c9-9fac-4879-b23f-4f78183caf64",
   "metadata": {},
   "outputs": [
    {
     "name": "stdout",
     "output_type": "stream",
     "text": [
      "6551\n"
     ]
    }
   ],
   "source": [
    "print(flashCount)"
   ]
  },
  {
   "cell_type": "code",
   "execution_count": 46,
   "id": "7960e5f0-bcef-4de2-86d0-c650ac0eaabd",
   "metadata": {},
   "outputs": [
    {
     "name": "stdout",
     "output_type": "stream",
     "text": [
      "418\n"
     ]
    }
   ],
   "source": [
    "print(itterCount)"
   ]
  },
  {
   "cell_type": "code",
   "execution_count": 47,
   "id": "b71f32b9-7fa1-4540-a977-cd84138eb0eb",
   "metadata": {},
   "outputs": [
    {
     "name": "stdout",
     "output_type": "stream",
     "text": [
      "[[0 0 0 0 0 0 0 0 0 0]\n",
      " [0 0 0 0 0 0 0 0 0 0]\n",
      " [0 0 0 0 0 0 0 0 0 0]\n",
      " [0 0 0 0 0 0 0 0 0 0]\n",
      " [0 0 0 0 0 0 0 0 0 0]\n",
      " [0 0 0 0 0 0 0 0 0 0]\n",
      " [0 0 0 0 0 0 0 0 0 0]\n",
      " [0 0 0 0 0 0 0 0 0 0]\n",
      " [0 0 0 0 0 0 0 0 0 0]\n",
      " [0 0 0 0 0 0 0 0 0 0]]\n"
     ]
    }
   ],
   "source": [
    "print(board)"
   ]
  },
  {
   "cell_type": "code",
   "execution_count": null,
   "id": "9e9c081f-1e1e-414c-9b31-4bc088aebd4c",
   "metadata": {},
   "outputs": [],
   "source": []
  }
 ],
 "metadata": {
  "kernelspec": {
   "display_name": "Python 3 (ipykernel)",
   "language": "python",
   "name": "python3"
  },
  "language_info": {
   "codemirror_mode": {
    "name": "ipython",
    "version": 3
   },
   "file_extension": ".py",
   "mimetype": "text/x-python",
   "name": "python",
   "nbconvert_exporter": "python",
   "pygments_lexer": "ipython3",
   "version": "3.8.10"
  }
 },
 "nbformat": 4,
 "nbformat_minor": 5
}
