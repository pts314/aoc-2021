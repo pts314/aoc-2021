{
 "cells": [
  {
   "cell_type": "code",
   "execution_count": 1,
   "id": "a3e5ae4d-292a-4c71-a60f-8c765f4fc62c",
   "metadata": {},
   "outputs": [],
   "source": [
    "import numpy as np"
   ]
  },
  {
   "cell_type": "code",
   "execution_count": 2,
   "id": "2c11c727-5eae-4c46-a219-f3a85b316c7f",
   "metadata": {},
   "outputs": [],
   "source": [
    "with open(\"/home/peter/Downloads/AdventOfCode/Day2Input\") as fh:\n",
    "    lines = fh.readlines()"
   ]
  },
  {
   "cell_type": "code",
   "execution_count": 3,
   "id": "8d652945-bc85-4f84-b5cc-fbdd9395d656",
   "metadata": {},
   "outputs": [],
   "source": [
    "alines = \"\"\"forward 5\n",
    "down 5\n",
    "forward 8\n",
    "up 3\n",
    "down 8\n",
    "forward 2\"\"\".split(\"\\n\")\n",
    "x,y = 0,0\n",
    "aim = 0\n",
    "for line in lines:\n",
    "    parts = line.split()\n",
    "    direction = parts[0]\n",
    "    distance = int(parts[1])\n",
    "    if direction == \"forward\":\n",
    "        x += distance\n",
    "        y += aim * distance\n",
    "    elif direction == \"down\":\n",
    "        #y += distance\n",
    "        aim += distance\n",
    "    elif direction == \"up\":\n",
    "        #y -= distance\n",
    "        aim -= distance\n",
    "    else:\n",
    "        print(\"ya dun messed up\")\n"
   ]
  },
  {
   "cell_type": "code",
   "execution_count": 4,
   "id": "160a8e0f-41bf-497e-8dc2-3620466337c6",
   "metadata": {},
   "outputs": [
    {
     "name": "stdout",
     "output_type": "stream",
     "text": [
      "3\n"
     ]
    }
   ],
   "source": [
    "print(line.split()[1])"
   ]
  },
  {
   "cell_type": "code",
   "execution_count": 5,
   "id": "9ebadd63-45d6-4248-a53e-54358d1a299d",
   "metadata": {},
   "outputs": [
    {
     "name": "stdout",
     "output_type": "stream",
     "text": [
      "1727785422\n"
     ]
    }
   ],
   "source": [
    "print(x*y)"
   ]
  },
  {
   "cell_type": "code",
   "execution_count": null,
   "id": "5e52644e-a6aa-4f3c-9a57-97deb27ff36b",
   "metadata": {},
   "outputs": [],
   "source": []
  }
 ],
 "metadata": {
  "kernelspec": {
   "display_name": "Python 3 (ipykernel)",
   "language": "python",
   "name": "python3"
  },
  "language_info": {
   "codemirror_mode": {
    "name": "ipython",
    "version": 3
   },
   "file_extension": ".py",
   "mimetype": "text/x-python",
   "name": "python",
   "nbconvert_exporter": "python",
   "pygments_lexer": "ipython3",
   "version": "3.8.10"
  }
 },
 "nbformat": 4,
 "nbformat_minor": 5
}
