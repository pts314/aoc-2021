{
 "cells": [
  {
   "cell_type": "code",
   "execution_count": 1,
   "id": "ca7ba7c1-8deb-4f5c-aa38-82ea5093a804",
   "metadata": {},
   "outputs": [],
   "source": [
    "import numpy as np\n",
    "import matplotlib.pyplot as plt\n",
    "import copy"
   ]
  },
  {
   "cell_type": "code",
   "execution_count": 2,
   "id": "4b1ab4bc-c94d-4525-92de-e271f0841b75",
   "metadata": {},
   "outputs": [],
   "source": [
    "with open(\"/home/peter/Downloads/AdventOfCode/day14Input.txt\") as fh:\n",
    "    lines = fh.readlines()"
   ]
  },
  {
   "cell_type": "code",
   "execution_count": 30,
   "id": "a21e21fb-3926-4b69-8341-7af3873ee14b",
   "metadata": {},
   "outputs": [],
   "source": [
    "poly = lines[0].strip()\n",
    "    "
   ]
  },
  {
   "cell_type": "code",
   "execution_count": 4,
   "id": "5a3b6f0d-e4d4-4b89-8958-4103e602d40f",
   "metadata": {},
   "outputs": [],
   "source": []
  },
  {
   "cell_type": "code",
   "execution_count": 5,
   "id": "2a72bd49-6ed5-43ca-bfb8-58f9213413e7",
   "metadata": {},
   "outputs": [
    {
     "name": "stdout",
     "output_type": "stream",
     "text": [
      "BV -> H\n",
      "\n"
     ]
    }
   ],
   "source": [
    "print(lines[4])"
   ]
  },
  {
   "cell_type": "code",
   "execution_count": 22,
   "id": "29ffe42c-af2b-4a41-82af-dc9a7f9de230",
   "metadata": {},
   "outputs": [],
   "source": [
    "rules = {}\n",
    "for line in lines[2:]:\n",
    "    s,d = line.strip().split(\" -> \")\n",
    "    rules[s] = d"
   ]
  },
  {
   "cell_type": "code",
   "execution_count": 23,
   "id": "41fe2588-7797-4516-a8e3-1dfcb4091e69",
   "metadata": {},
   "outputs": [
    {
     "data": {
      "text/plain": [
       "'H'"
      ]
     },
     "execution_count": 23,
     "metadata": {},
     "output_type": "execute_result"
    }
   ],
   "source": [
    "rules[\"BV\"]"
   ]
  },
  {
   "cell_type": "code",
   "execution_count": 24,
   "id": "695caadc-3ed6-4748-93f0-f40cdc34ce4d",
   "metadata": {},
   "outputs": [
    {
     "data": {
      "text/plain": [
       "102"
      ]
     },
     "execution_count": 24,
     "metadata": {},
     "output_type": "execute_result"
    }
   ],
   "source": [
    "len(lines)"
   ]
  },
  {
   "cell_type": "code",
   "execution_count": 99,
   "id": "8d5a9dae-a433-42bf-81be-c1f6797f8c46",
   "metadata": {},
   "outputs": [
    {
     "name": "stdout",
     "output_type": "stream",
     "text": [
      "{'SO': 1, 'OH': 1, 'HK': 2, 'KH': 2, 'HB': 2, 'BN': 1, 'NN': 2, 'NC': 2, 'CK': 2, 'KO': 1, 'ON': 2, 'NP': 1, 'PK': 1, 'HO': 1, 'OO': 1, 'OV': 1, 'VN': 1, 'NH': 1, 'KF': 1, 'FH': 1, 'BH': 1, 'HV': 1, 'VO': 1, 'KB': 1, 'BC': 1, 'CH': 1, 'HF': 1, 'FV': 2, 'VF': 1, 'VC': 1}\n"
     ]
    }
   ],
   "source": [
    "poly = lines[0].strip()\n",
    "comp = {}\n",
    "\n",
    "newPoly = \"\"\n",
    "for i in range(len(poly)-1):\n",
    "    part = poly[i:i+2]\n",
    "    part1 = part[0] + rules[part]\n",
    "    part2 = rules[part] + part[1]\n",
    "    if part1 not in comp:\n",
    "        comp[part1] = 1\n",
    "    else:\n",
    "        comp[part1] +=1\n",
    "    if part2 not in comp:\n",
    "        comp[part2] = 1\n",
    "    else:\n",
    "        comp[part2] +=1\n",
    "print(comp)"
   ]
  },
  {
   "cell_type": "code",
   "execution_count": 100,
   "id": "49dcad79-f331-4ee5-802b-343a8026e179",
   "metadata": {},
   "outputs": [
    {
     "name": "stdout",
     "output_type": "stream",
     "text": [
      "{'SC': 199179242207, 'CS': 258135507022, 'SS': 398730073850, 'SN': 472946550844, 'NF': 1287395894609, 'FN': 713446575693, 'NN': 943924749980, 'NC': 198657311574, 'NH': 402579186197, 'HS': 257517486480, 'CN': 117982519467, 'CH': 236085807266, 'FB': 356655910800, 'BN': 356655910800, 'FH': 815314145834, 'HH': 856586258339, 'HB': 719832822776, 'BH': 244707878785, 'HV': 178187019448, 'VO': 248453582865, 'ON': 319859129958, 'BV': 178288765184, 'VN': 418533000889, 'HK': 559675000072, 'KH': 458864869102, 'BO': 269828103262, 'OH': 122380239273, 'VP': 124235017516, 'PO': 279480702132, 'OV': 159941139759, 'HP': 363191526497, 'PK': 310461474575, 'KF': 428400890649, 'BP': 543477060513, 'OK': 319600349178, 'KC': 214242651174, 'CF': 214243499665, 'KK': 135062521259, 'KO': 270019076374, 'NP': 166600328229, 'VV': 160535062003, 'VK': 267314575147, 'KB': 279669740226, 'PP': 430786971916, 'PS': 429832648032, 'SF': 78345606079, 'FO': 78346849603, 'FV': 211349013741, 'BK': 294799272687, 'OP': 61204795932, 'PH': 61204795932, 'KP': 62122546560, 'SO': 156662320405, 'NV': 344190967042, 'BF': 311033548662, 'FP': 271851998603, 'OB': 213176385358, 'BC': 107146670582, 'HF': 262733067115, 'FK': 67560598458, 'KS': 139887745862, 'SB': 285693976618, 'PB': 431312300198, 'OS': 106624680697, 'PC': 53588301225, 'BS': 123307890990, 'SV': 156310670672, 'VB': 142903965489, 'PV': 26803051756, 'VC': 53630485696, 'FS': 67628657571, 'SK': 33796249830, 'HO': 1, 'OO': 1822473, 'OF': 1243524, 'OC': 2670963}\n"
     ]
    }
   ],
   "source": [
    "for i in range(39):\n",
    "    newComp = {}\n",
    "    for part in comp:\n",
    "        part1 = part[0] + rules[part]\n",
    "        part2 = rules[part] + part[1]\n",
    "        if part1 not in newComp:\n",
    "            newComp[part1] = comp[part]\n",
    "        else:\n",
    "            newComp[part1] += comp[part]\n",
    "        if part2 not in newComp:\n",
    "            newComp[part2] = comp[part]\n",
    "        else:\n",
    "            newComp[part2] += comp[part]\n",
    "    comp = newComp\n",
    "print(comp)"
   ]
  },
  {
   "cell_type": "code",
   "execution_count": 101,
   "id": "aeda212b-6c60-4a30-9270-5825994869f7",
   "metadata": {},
   "outputs": [],
   "source": [
    "counts = {}\n",
    "for part in comp:\n",
    "    part1 = part[0]\n",
    "    part2 = part[1]\n",
    "    if part1 not in counts:\n",
    "        counts[part1] = comp[part]\n",
    "    else:\n",
    "        counts[part1] += comp[part]\n",
    "    if part2 not in counts:\n",
    "        counts[part2] = comp[part]\n",
    "    else:\n",
    "        counts[part2] += comp[part]\n",
    "    "
   ]
  },
  {
   "cell_type": "code",
   "execution_count": 96,
   "id": "b7c43230-250a-40d6-ae04-e098d80f341e",
   "metadata": {},
   "outputs": [
    {
     "name": "stdout",
     "output_type": "stream",
     "text": [
      "{'S': 2965, 'C': 1301, 'N': 6400, 'F': 5032, 'H': 5742, 'B': 4438, 'V': 3176, 'O': 2588, 'K': 3570, 'P': 3700}\n"
     ]
    }
   ],
   "source": [
    "print(counts)"
   ]
  },
  {
   "cell_type": "code",
   "execution_count": 43,
   "id": "d601526d-cc21-4085-baab-f10a4b2648eb",
   "metadata": {},
   "outputs": [
    {
     "data": {
      "text/plain": [
       "2549"
      ]
     },
     "execution_count": 43,
     "metadata": {},
     "output_type": "execute_result"
    }
   ],
   "source": [
    "3200-651"
   ]
  },
  {
   "cell_type": "code",
   "execution_count": 82,
   "id": "d651800c-af71-4e6a-8bcd-410fbe1316f1",
   "metadata": {},
   "outputs": [
    {
     "data": {
      "text/plain": [
       "650.5"
      ]
     },
     "execution_count": 82,
     "metadata": {},
     "output_type": "execute_result"
    }
   ],
   "source": [
    "1301/2\n"
   ]
  },
  {
   "cell_type": "code",
   "execution_count": 103,
   "id": "7fb03a7f-685e-4d82-b542-b60f6f53c727",
   "metadata": {},
   "outputs": [
    {
     "name": "stdout",
     "output_type": "stream",
     "text": [
      "[1652894666841, 2605584914230, 2831211379210, 3563329381009, 3976540082412, 4046940491532, 4858490202930, 5164307500606, 6395446361456, 6686696875262]\n"
     ]
    }
   ],
   "source": [
    "f = sorted(list(counts.values()))\n",
    "print(f)"
   ]
  },
  {
   "cell_type": "code",
   "execution_count": 104,
   "id": "347b7e7b-0a8d-4f7d-9dee-28470df75869",
   "metadata": {},
   "outputs": [
    {
     "data": {
      "text/plain": [
       "2516901104210.5"
      ]
     },
     "execution_count": 104,
     "metadata": {},
     "output_type": "execute_result"
    }
   ],
   "source": [
    "(f[-1]-f[0])/2"
   ]
  },
  {
   "cell_type": "code",
   "execution_count": 98,
   "id": "2c3392bb-3109-45c8-be74-437b3f6c8297",
   "metadata": {},
   "outputs": [
    {
     "data": {
      "text/plain": [
       "2549.5"
      ]
     },
     "execution_count": 98,
     "metadata": {},
     "output_type": "execute_result"
    }
   ],
   "source": [
    "(6400-1301)/2"
   ]
  },
  {
   "cell_type": "code",
   "execution_count": 102,
   "id": "78535e20-0afa-4dcd-8e2a-c935f164c33b",
   "metadata": {},
   "outputs": [
    {
     "name": "stdout",
     "output_type": "stream",
     "text": [
      "{'S': 3563329381009, 'C': 1652894666841, 'N': 6686696875262, 'F': 5164307500606, 'H': 6395446361456, 'B': 4858490202930, 'V': 2831211379210, 'O': 2605584914230, 'K': 3976540082412, 'P': 4046940491532}\n"
     ]
    }
   ],
   "source": [
    "print(counts)"
   ]
  },
  {
   "cell_type": "code",
   "execution_count": null,
   "id": "168c511f-d14d-400e-8395-c0c2c19e64f3",
   "metadata": {},
   "outputs": [],
   "source": []
  }
 ],
 "metadata": {
  "kernelspec": {
   "display_name": "Python 3 (ipykernel)",
   "language": "python",
   "name": "python3"
  },
  "language_info": {
   "codemirror_mode": {
    "name": "ipython",
    "version": 3
   },
   "file_extension": ".py",
   "mimetype": "text/x-python",
   "name": "python",
   "nbconvert_exporter": "python",
   "pygments_lexer": "ipython3",
   "version": "3.8.10"
  }
 },
 "nbformat": 4,
 "nbformat_minor": 5
}
