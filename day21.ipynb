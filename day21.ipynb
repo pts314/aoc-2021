{
 "cells": [
  {
   "cell_type": "code",
   "execution_count": 1,
   "id": "5d3c413a-c2a7-478d-bb2b-9c323a0bc3ed",
   "metadata": {},
   "outputs": [],
   "source": [
    "import numpy as np\n",
    "import matplotlib.pyplot as plt\n",
    "import copy\n",
    "import math"
   ]
  },
  {
   "cell_type": "code",
   "execution_count": 2,
   "id": "df49ac64-7c1f-406f-97cb-45c40b2835a7",
   "metadata": {},
   "outputs": [],
   "source": [
    "#with open(\"/home/peter/Downloads/AdventOfCode/day20Input.txt\") as fh:\n",
    "#    lines = fh.readlines()\n",
    "#with open(\"/home/peter/Downloads/AdventOfCode/day20Test.txt\") as fh:\n",
    "#    lines = fh.readlines()\n",
    "p1Start = 6\n",
    "p2Start = 9"
   ]
  },
  {
   "cell_type": "code",
   "execution_count": 80,
   "id": "45a7c08e-5d09-41a1-a60a-69b996531a4a",
   "metadata": {},
   "outputs": [
    {
     "name": "stdout",
     "output_type": "stream",
     "text": [
      "did loop\n",
      "game is  (0, 6, 0, 9)\n",
      "count is  1\n",
      "did loop\n",
      "did loop\n",
      "did loop\n",
      "did loop\n",
      "did loop\n",
      "did loop\n",
      "did loop\n",
      "did loop\n",
      "did loop\n",
      "game is  (20, 1, 20, 1)\n",
      "count is  1190952\n"
     ]
    }
   ],
   "source": [
    "val = 1\n",
    "numRolledDice = 0\n",
    "def detDice():\n",
    "    global val\n",
    "    global numRolledDice\n",
    "    rVal = val\n",
    "    val += 1\n",
    "    if val > 100:\n",
    "        val -= 100\n",
    "    numRolledDice += 1\n",
    "    return rVal\n",
    "\n",
    "def takeTurn(startPos):\n",
    "    for i in range(3):\n",
    "        startPos += detDice()\n",
    "        startPos = startPos % 3\n",
    "        if startPos == 0:\n",
    "            startPos = 3\n",
    "    return startPos\n",
    "\n",
    "dice = {}\n",
    "for i in range(1,4):\n",
    "    for j in range(1,4):\n",
    "        for k in range(1,4):\n",
    "            msum = i+j+k\n",
    "            if msum not in dice:\n",
    "                dice[msum] = 0\n",
    "            dice[msum] += 1\n",
    "            \n",
    "#    lines = fh.readlines()\n",
    "p1Start = 6\n",
    "p2Start = 9\n",
    "if False:\n",
    "    p1Start = 4\n",
    "    p2Start = 8\n",
    "# score, loc, score, loc\n",
    "games = {(0,p1Start,0,p2Start):1}\n",
    "p1Wins = 0\n",
    "p2Wins = 0\n",
    "while len(games) > 0:\n",
    "    print(\"did loop\")\n",
    "    newGames = {}\n",
    "    for game in games:\n",
    "        if (len(games) < 20):\n",
    "            print(\"game is \",game)\n",
    "            print(\"count is \",games[game])\n",
    "        for roll in dice:\n",
    "            num = dice[roll]\n",
    "            p1Loc = game[1] + roll\n",
    "            p1Loc = ((p1Loc-1)%10) + 1\n",
    "            p1Score = game[0]+p1Loc\n",
    "            if p1Score >= 21:\n",
    "                p1Wins += games[game]*num\n",
    "            else:\n",
    "                for roll2 in dice:\n",
    "                    num2 = dice[roll2]\n",
    "                    p2Loc = game[3] + roll2\n",
    "                    p2Loc = ((p2Loc-1)%10) + 1\n",
    "                    p2Score = game[2]+p2Loc\n",
    "                    if p2Score >= 21:\n",
    "                        p2Wins += games[game]*num*num2\n",
    "                    else:\n",
    "                        gameState = (p1Score,p1Loc,p2Score,p2Loc)\n",
    "                        if gameState not in newGames:\n",
    "                            newGames[gameState] = 0\n",
    "                        newGames[gameState] += games[game]*num*num2\n",
    "    games = newGames\n",
    "       "
   ]
  },
  {
   "cell_type": "code",
   "execution_count": 81,
   "id": "40d70b8d-fae8-4027-a090-6a107a208add",
   "metadata": {},
   "outputs": [
    {
     "data": {
      "text/plain": [
       "6561"
      ]
     },
     "execution_count": 81,
     "metadata": {},
     "output_type": "execute_result"
    }
   ],
   "source": [
    "9**4"
   ]
  },
  {
   "cell_type": "code",
   "execution_count": 82,
   "id": "ebd36da6-945a-44df-944e-9b31a8840d46",
   "metadata": {},
   "outputs": [
    {
     "name": "stdout",
     "output_type": "stream",
     "text": [
      "486638407378784\n",
      "413013330504401\n"
     ]
    }
   ],
   "source": [
    "print(p1Wins)\n",
    "print(p2Wins)"
   ]
  },
  {
   "cell_type": "code",
   "execution_count": 64,
   "id": "4f306d43-e634-4bb3-98af-b0ec50e3cf0f",
   "metadata": {},
   "outputs": [
    {
     "name": "stdout",
     "output_type": "stream",
     "text": [
      "3 1\n",
      "4 3\n",
      "5 6\n",
      "6 7\n",
      "7 6\n",
      "8 3\n",
      "9 1\n"
     ]
    }
   ],
   "source": [
    "msum = 0\n",
    "for roll in dice:\n",
    "    print(roll,dice[roll])\n",
    "    msum += dice[roll]"
   ]
  },
  {
   "cell_type": "code",
   "execution_count": 65,
   "id": "e5f53873-ce66-43ef-836a-599720c0c024",
   "metadata": {},
   "outputs": [
    {
     "name": "stdout",
     "output_type": "stream",
     "text": [
      "27\n"
     ]
    }
   ],
   "source": [
    "print(msum)"
   ]
  },
  {
   "cell_type": "code",
   "execution_count": 60,
   "id": "6f8d75e1-acc9-43b0-8ff3-5e55c2a22684",
   "metadata": {},
   "outputs": [
    {
     "data": {
      "text/plain": [
       "27"
      ]
     },
     "execution_count": 60,
     "metadata": {},
     "output_type": "execute_result"
    }
   ],
   "source": [
    "3**3"
   ]
  },
  {
   "cell_type": "code",
   "execution_count": 66,
   "id": "d93162fe-dc1b-42ac-9f26-f90b3fb25150",
   "metadata": {},
   "outputs": [
    {
     "data": {
      "text/plain": [
       "888712185552630"
      ]
     },
     "execution_count": 66,
     "metadata": {},
     "output_type": "execute_result"
    }
   ],
   "source": [
    "444356092776315"
   ]
  },
  {
   "cell_type": "code",
   "execution_count": 76,
   "id": "16488ba5-eea8-41f9-8de5-e5f412176967",
   "metadata": {},
   "outputs": [
    {
     "name": "stdout",
     "output_type": "stream",
     "text": [
      "game is  (0, 4, 0, 8)\n",
      "count is  1\n",
      "game is  (7, 7, 1, 1)\n",
      "count is  1\n",
      "game is  (7, 7, 2, 2)\n",
      "count is  3\n",
      "game is  (7, 7, 3, 3)\n",
      "count is  6\n",
      "game is  (7, 7, 4, 4)\n",
      "count is  7\n",
      "game is  (7, 7, 5, 5)\n",
      "count is  6\n",
      "game is  (7, 7, 6, 6)\n",
      "count is  3\n",
      "game is  (7, 7, 7, 7)\n",
      "count is  1\n",
      "game is  (8, 8, 1, 1)\n",
      "count is  3\n",
      "game is  (8, 8, 2, 2)\n",
      "count is  9\n",
      "game is  (8, 8, 3, 3)\n",
      "count is  18\n",
      "game is  (8, 8, 4, 4)\n",
      "count is  21\n",
      "game is  (8, 8, 5, 5)\n",
      "count is  18\n",
      "game is  (8, 8, 6, 6)\n",
      "count is  9\n",
      "game is  (8, 8, 7, 7)\n",
      "count is  3\n",
      "game is  (9, 9, 1, 1)\n",
      "count is  6\n",
      "game is  (9, 9, 2, 2)\n",
      "count is  18\n",
      "game is  (9, 9, 3, 3)\n",
      "count is  36\n",
      "game is  (9, 9, 4, 4)\n",
      "count is  42\n",
      "game is  (9, 9, 5, 5)\n",
      "count is  36\n",
      "game is  (9, 9, 6, 6)\n",
      "count is  18\n",
      "game is  (9, 9, 7, 7)\n",
      "count is  6\n",
      "game is  (10, 10, 1, 1)\n",
      "count is  7\n",
      "game is  (10, 10, 2, 2)\n",
      "count is  21\n",
      "game is  (10, 10, 3, 3)\n",
      "count is  42\n",
      "game is  (10, 10, 4, 4)\n",
      "count is  49\n",
      "game is  (10, 10, 5, 5)\n",
      "count is  42\n",
      "game is  (10, 10, 6, 6)\n",
      "count is  21\n",
      "game is  (10, 10, 7, 7)\n",
      "count is  7\n",
      "game is  (1, 1, 1, 1)\n",
      "count is  6\n",
      "game is  (1, 1, 2, 2)\n",
      "count is  18\n",
      "game is  (1, 1, 3, 3)\n",
      "count is  36\n",
      "game is  (1, 1, 4, 4)\n",
      "count is  42\n",
      "game is  (1, 1, 5, 5)\n",
      "count is  36\n",
      "game is  (1, 1, 6, 6)\n",
      "count is  18\n",
      "game is  (1, 1, 7, 7)\n",
      "count is  6\n",
      "game is  (2, 2, 1, 1)\n",
      "count is  3\n",
      "game is  (2, 2, 2, 2)\n",
      "count is  9\n",
      "game is  (2, 2, 3, 3)\n",
      "count is  18\n",
      "game is  (2, 2, 4, 4)\n",
      "count is  21\n",
      "game is  (2, 2, 5, 5)\n",
      "count is  18\n",
      "game is  (2, 2, 6, 6)\n",
      "count is  9\n",
      "game is  (2, 2, 7, 7)\n",
      "count is  3\n",
      "game is  (3, 3, 1, 1)\n",
      "count is  1\n",
      "game is  (3, 3, 2, 2)\n",
      "count is  3\n",
      "game is  (3, 3, 3, 3)\n",
      "count is  6\n",
      "game is  (3, 3, 4, 4)\n",
      "count is  7\n",
      "game is  (3, 3, 5, 5)\n",
      "count is  6\n",
      "game is  (3, 3, 6, 6)\n",
      "count is  3\n",
      "game is  (3, 3, 7, 7)\n",
      "count is  1\n",
      "game is  (20, 1, 20, 1)\n",
      "count is  2377026\n",
      "444356092776315\n"
     ]
    }
   ],
   "source": [
    "from collections import defaultdict\n",
    "from collections import Counter\n",
    "import sys\n",
    "ll = [4,8]\n",
    "dice = list(Counter(\n",
    "    i + j + k\n",
    "    for i in range(1, 4)\n",
    "    for j in range(1, 4)\n",
    "    for k in range(1, 4)\n",
    ").items())\n",
    "\n",
    "universes = {(0, ll[0], 0, ll[1]): 1}\n",
    "p1wins = 0\n",
    "p2wins = 0\n",
    "while universes:\n",
    "    nuv = defaultdict(int)\n",
    "    for state, cnt in list(universes.items()):\n",
    "        if len(universes) < 50:\n",
    "            print(\"game is \",state)\n",
    "            print(\"count is \",cnt)\n",
    "        score1, pos1, score2, pos2 = state\n",
    "        for d, dcount in dice:\n",
    "            p1 = (pos1 + d - 1) % 10 + 1\n",
    "            s1 = score1 + p1\n",
    "            if s1 >= 21:\n",
    "                p1wins += cnt * dcount\n",
    "                continue\n",
    "            for d2, d2count in dice:\n",
    "                p2 = (pos2 + d2 - 1) % 10 + 1\n",
    "                s2 = score2 + p2\n",
    "                if s2 >= 21:\n",
    "                    p2wins += cnt * dcount * d2count\n",
    "                    continue\n",
    "                nuv[(s1, p1, s2, p2)] += cnt * dcount * d2count\n",
    "    universes = nuv\n",
    "\n",
    "print(max([p1wins, p2wins]))\n"
   ]
  },
  {
   "cell_type": "code",
   "execution_count": null,
   "id": "160e6387-b4d9-44fc-a50d-413a3a637077",
   "metadata": {},
   "outputs": [],
   "source": []
  }
 ],
 "metadata": {
  "kernelspec": {
   "display_name": "Python 3 (ipykernel)",
   "language": "python",
   "name": "python3"
  },
  "language_info": {
   "codemirror_mode": {
    "name": "ipython",
    "version": 3
   },
   "file_extension": ".py",
   "mimetype": "text/x-python",
   "name": "python",
   "nbconvert_exporter": "python",
   "pygments_lexer": "ipython3",
   "version": "3.8.10"
  }
 },
 "nbformat": 4,
 "nbformat_minor": 5
}
