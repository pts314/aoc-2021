{
 "cells": [
  {
   "cell_type": "code",
   "execution_count": 1,
   "id": "19bea1b8-8999-494a-8ecb-0e4901d07ae6",
   "metadata": {},
   "outputs": [],
   "source": [
    "import numpy as np"
   ]
  },
  {
   "cell_type": "code",
   "execution_count": 2,
   "id": "b6aba3ef-bfe0-40db-95d5-95de7980e8d1",
   "metadata": {},
   "outputs": [],
   "source": [
    "with open(\"/home/peter/Downloads/AdventOfCode/day7Input.txt\") as fh:\n",
    "    lines = fh.readlines()"
   ]
  },
  {
   "cell_type": "code",
   "execution_count": 3,
   "id": "e7f21de1-9469-4885-97a9-2889bc6a2fd7",
   "metadata": {},
   "outputs": [
    {
     "data": {
      "text/plain": [
       "1"
      ]
     },
     "execution_count": 3,
     "metadata": {},
     "output_type": "execute_result"
    }
   ],
   "source": [
    "len(lines)"
   ]
  },
  {
   "cell_type": "code",
   "execution_count": 19,
   "id": "84a51d95-85fa-40f1-acf8-f991cfffc515",
   "metadata": {},
   "outputs": [],
   "source": [
    "vals = lines[0].split(\",\")\n",
    "#vals = \"16,1,2,0,4,2,7,1,2,14\".split(\",\")"
   ]
  },
  {
   "cell_type": "code",
   "execution_count": 20,
   "id": "30b3e8e9-f7e5-4cac-a320-93b291b7df74",
   "metadata": {},
   "outputs": [],
   "source": [
    "vals = [int(x) for x in vals]"
   ]
  },
  {
   "cell_type": "code",
   "execution_count": 21,
   "id": "6b790fa2-318c-4fdd-ac53-0ba59f09b209",
   "metadata": {},
   "outputs": [
    {
     "data": {
      "text/plain": [
       "473.523"
      ]
     },
     "execution_count": 21,
     "metadata": {},
     "output_type": "execute_result"
    }
   ],
   "source": [
    "np.average(vals)"
   ]
  },
  {
   "cell_type": "code",
   "execution_count": 31,
   "id": "8294a11d-f7cd-4671-8bb7-d20a87ed0237",
   "metadata": {},
   "outputs": [],
   "source": [
    "smallest = 100000000000\n",
    "cache = {}\n",
    "def bigSum(blah):\n",
    "    if blah in cache:\n",
    "        return cache[blah]\n",
    "    val = 0\n",
    "    for i in range(blah+1):\n",
    "        val += i\n",
    "    cache[blah] = val\n",
    "    return val\n",
    "for pos in range(max(vals)):\n",
    "    msum = 0\n",
    "    for val in vals:\n",
    "        \n",
    "        msum += bigSum(abs(val-pos))\n",
    "    if (msum < smallest):\n",
    "        smallest = msum\n",
    "        loc = pos"
   ]
  },
  {
   "cell_type": "code",
   "execution_count": 43,
   "id": "420340b8-9612-4147-8ee2-bc242a2743cf",
   "metadata": {},
   "outputs": [
    {
     "name": "stdout",
     "output_type": "stream",
     "text": [
      "98257206\n",
      "473\n"
     ]
    }
   ],
   "source": [
    "print(smallest)\n",
    "print(loc)"
   ]
  },
  {
   "cell_type": "code",
   "execution_count": 9,
   "id": "5be0ef21-af81-497f-aca1-ee8095364290",
   "metadata": {},
   "outputs": [],
   "source": [
    "msum = 0\n",
    "for x in mdict.values():\n",
    "    msum += x"
   ]
  },
  {
   "cell_type": "code",
   "execution_count": 10,
   "id": "3c91c3b4-7b23-4b81-96f3-d9f5b2efa576",
   "metadata": {},
   "outputs": [
    {
     "name": "stdout",
     "output_type": "stream",
     "text": [
      "1617359101538\n"
     ]
    }
   ],
   "source": [
    "print(msum)"
   ]
  },
  {
   "cell_type": "code",
   "execution_count": 28,
   "id": "0f941d49-d3f3-4493-b6bd-e00c67ff6566",
   "metadata": {},
   "outputs": [
    {
     "data": {
      "text/plain": [
       "10"
      ]
     },
     "execution_count": 28,
     "metadata": {},
     "output_type": "execute_result"
    }
   ],
   "source": [
    "bigSum(4)"
   ]
  },
  {
   "cell_type": "code",
   "execution_count": 33,
   "id": "db43fbd6-a964-45ed-b4b1-13b5e063e096",
   "metadata": {},
   "outputs": [],
   "source": [
    "import matplotlib.pyplot as plt"
   ]
  },
  {
   "cell_type": "code",
   "execution_count": 34,
   "id": "fffde93c-a6a7-4345-b45e-3ca635954d73",
   "metadata": {},
   "outputs": [
    {
     "ename": "TypeError",
     "evalue": "scatter() missing 1 required positional argument: 'y'",
     "output_type": "error",
     "traceback": [
      "\u001b[0;31m---------------------------------------------------------------------------\u001b[0m",
      "\u001b[0;31mTypeError\u001b[0m                                 Traceback (most recent call last)",
      "\u001b[0;32m/tmp/ipykernel_27761/3680781813.py\u001b[0m in \u001b[0;36m<module>\u001b[0;34m\u001b[0m\n\u001b[0;32m----> 1\u001b[0;31m \u001b[0mplt\u001b[0m\u001b[0;34m.\u001b[0m\u001b[0mscatter\u001b[0m\u001b[0;34m(\u001b[0m\u001b[0mvals\u001b[0m\u001b[0;34m)\u001b[0m\u001b[0;34m\u001b[0m\u001b[0;34m\u001b[0m\u001b[0m\n\u001b[0m",
      "\u001b[0;31mTypeError\u001b[0m: scatter() missing 1 required positional argument: 'y'"
     ]
    }
   ],
   "source": [
    "plt.scatter(vals)"
   ]
  },
  {
   "cell_type": "code",
   "execution_count": 38,
   "id": "fab0cc5b-6859-4871-bae4-a7d8053d4f6d",
   "metadata": {},
   "outputs": [],
   "source": [
    "mdict = {}\n",
    "for x in range(max(vals)+1):\n",
    "    mdict[x] = 0"
   ]
  },
  {
   "cell_type": "code",
   "execution_count": 39,
   "id": "bf09ee84-933d-4a26-9565-5ebc77936849",
   "metadata": {},
   "outputs": [],
   "source": [
    "for x in vals:\n",
    "    mdict[x] += 1"
   ]
  },
  {
   "cell_type": "code",
   "execution_count": 42,
   "id": "c5e3f9d2-758a-4624-81a9-c69baa7a7557",
   "metadata": {},
   "outputs": [
    {
     "data": {
      "text/plain": [
       "<BarContainer object of 1978 artists>"
      ]
     },
     "execution_count": 42,
     "metadata": {},
     "output_type": "execute_result"
    },
    {
     "data": {
      "image/png": "[encoded data removed]",
      "text/plain": [
       "<Figure size 432x288 with 1 Axes>"
      ]
     },
     "metadata": {
      "needs_background": "light"
     },
     "output_type": "display_data"
    }
   ],
   "source": [
    "plt.bar(mdict.keys(),mdict.values())"
   ]
  },
  {
   "cell_type": "code",
   "execution_count": null,
   "id": "21330221-8b53-4f55-875c-850df4bc593b",
   "metadata": {},
   "outputs": [],
   "source": []
  }
 ],
 "metadata": {
  "kernelspec": {
   "display_name": "Python 3 (ipykernel)",
   "language": "python",
   "name": "python3"
  },
  "language_info": {
   "codemirror_mode": {
    "name": "ipython",
    "version": 3
   },
   "file_extension": ".py",
   "mimetype": "text/x-python",
   "name": "python",
   "nbconvert_exporter": "python",
   "pygments_lexer": "ipython3",
   "version": "3.8.10"
  }
 },
 "nbformat": 4,
 "nbformat_minor": 5
}
