{
 "cells": [
  {
   "cell_type": "code",
   "execution_count": 75,
   "id": "ca7ba7c1-8deb-4f5c-aa38-82ea5093a804",
   "metadata": {},
   "outputs": [],
   "source": [
    "import numpy as np\n",
    "import matplotlib.pyplot as plt\n",
    "import copy"
   ]
  },
  {
   "cell_type": "code",
   "execution_count": 98,
   "id": "4b1ab4bc-c94d-4525-92de-e271f0841b75",
   "metadata": {},
   "outputs": [],
   "source": [
    "with open(\"/home/peter/Downloads/AdventOfCode/day9Input.txt\") as fh:\n",
    "    lines = fh.readlines()"
   ]
  },
  {
   "cell_type": "code",
   "execution_count": 99,
   "id": "b646ac68-921f-4125-bae8-029a18d41b0d",
   "metadata": {},
   "outputs": [],
   "source": [
    "board = np.zeros(shape=(100,100))"
   ]
  },
  {
   "cell_type": "code",
   "execution_count": 100,
   "id": "93971fc6-2129-45c2-a222-fc2f8b274644",
   "metadata": {},
   "outputs": [],
   "source": [
    "for i in range(len(lines)):\n",
    "    for j in range(len(lines[i].strip())):\n",
    "        board[i][j] = int(lines[i][j])"
   ]
  },
  {
   "cell_type": "code",
   "execution_count": 101,
   "id": "3c15cee9-acca-414e-aaf0-353e58582669",
   "metadata": {},
   "outputs": [],
   "source": [
    "def isLow(board,i,j):\n",
    "    low = True\n",
    "    val = board[i][j]\n",
    "    if i > 0:\n",
    "        low &= val < board[i-1][j]\n",
    "    if j > 0:\n",
    "        low &= val < board[i][j-1]\n",
    "    if i < board.shape[0]-1:\n",
    "        low &= val < board[i+1][j]\n",
    "    if j < board.shape[1]-1:\n",
    "        low &= val < board[i][j+1]\n",
    "    return low"
   ]
  },
  {
   "cell_type": "code",
   "execution_count": 102,
   "id": "b316f0c9-cbf5-4ad1-ab38-5ed4b30c8483",
   "metadata": {},
   "outputs": [],
   "source": [
    "size = 100"
   ]
  },
  {
   "cell_type": "code",
   "execution_count": 103,
   "id": "9db837f2-7ca1-48c5-9ec3-b6f84504e8c3",
   "metadata": {},
   "outputs": [],
   "source": [
    "lowPoints = []\n",
    "risk = 0\n",
    "for i in range(size):\n",
    "    for j in range(size):\n",
    "        if isLow(board,i,j):\n",
    "            lowPoints.append((i,j))\n",
    "            risk += 1 + board[i][j]"
   ]
  },
  {
   "cell_type": "code",
   "execution_count": 104,
   "id": "fab5b3cb-f16d-4778-9e9c-2a021ff4f84f",
   "metadata": {},
   "outputs": [
    {
     "name": "stdout",
     "output_type": "stream",
     "text": [
      "518.0\n"
     ]
    }
   ],
   "source": [
    "print(risk)"
   ]
  },
  {
   "cell_type": "code",
   "execution_count": 105,
   "id": "ff097958-8824-4c3c-b5dd-1287fa21b1e3",
   "metadata": {},
   "outputs": [],
   "source": [
    "basins = {}\n",
    "allTaken = set()\n",
    "for i in range(len(lowPoints)):\n",
    "    basins[i] = set([lowPoints[i]])\n",
    "    allTaken.add(lowPoints[i])"
   ]
  },
  {
   "cell_type": "code",
   "execution_count": 106,
   "id": "3ba3d8f4-f7ec-43b9-8598-01dbffdbc78e",
   "metadata": {},
   "outputs": [
    {
     "data": {
      "text/plain": [
       "'\\ndef growPoint(board,point):\\n    basin = set([point])\\n    \\n    \\ndef isPartOfBasin(board,point,basin):\\n    if board[point[0]][point[1]] == 9:\\n        return False\\n    hasBasinNeighborThatIsLower = False\\n    hasNoLowerNeighborsThatAreNotBasin = True\\n    if i > 0:\\n        isGood &= checkPoints(board,basin,point,(point[0]-1,point[1])):\\n    if j > 0:\\n        isGood &= checkPoints(board,basin,point,(point[0],point[1]-1)):\\n    if i < board.shape[0]-1:\\n        isGood &= checkPoints(board,basin,point,(point[0]+1,point[1])):\\n    if j < board.shape[1]-1:\\n        isGood &= checkPoints(board,basin,point,(point[0],point[1]+1)):\\n\\ndef checkPoints(board, basin,refPoint, checkPoint):\\n    if checkPoint in basin:\\n        \\n        return True\\n        '"
      ]
     },
     "execution_count": 106,
     "metadata": {},
     "output_type": "execute_result"
    }
   ],
   "source": [
    "\"\"\"\n",
    "def growPoint(board,point):\n",
    "    basin = set([point])\n",
    "    \n",
    "    \n",
    "def isPartOfBasin(board,point,basin):\n",
    "    if board[point[0]][point[1]] == 9:\n",
    "        return False\n",
    "    hasBasinNeighborThatIsLower = False\n",
    "    hasNoLowerNeighborsThatAreNotBasin = True\n",
    "    if i > 0:\n",
    "        isGood &= checkPoints(board,basin,point,(point[0]-1,point[1])):\n",
    "    if j > 0:\n",
    "        isGood &= checkPoints(board,basin,point,(point[0],point[1]-1)):\n",
    "    if i < board.shape[0]-1:\n",
    "        isGood &= checkPoints(board,basin,point,(point[0]+1,point[1])):\n",
    "    if j < board.shape[1]-1:\n",
    "        isGood &= checkPoints(board,basin,point,(point[0],point[1]+1)):\n",
    "\n",
    "def checkPoints(board, basin,refPoint, checkPoint):\n",
    "    if checkPoint in basin:\n",
    "        \n",
    "        return True\n",
    "        \"\"\""
   ]
  },
  {
   "cell_type": "code",
   "execution_count": 110,
   "id": "9311b6cd-af99-4a82-a03f-1d04153e6d40",
   "metadata": {},
   "outputs": [],
   "source": [
    "\n",
    "def updateBoard(board, basins):\n",
    "    newBoard = copy.deepcopy(board)\n",
    "    for basin in basins:\n",
    "        #print(\"basin is \",basin)\n",
    "        neighbors = set()\n",
    "        val = -1\n",
    "        for point in basin:\n",
    "            # add neighbors\n",
    "            if point[0]-1 >= 0:\n",
    "                neighbors.add((point[0]-1,point[1]))\n",
    "            if point[0]+1 < 100:\n",
    "                neighbors.add((point[0]+1,point[1]))\n",
    "            if point[1]+1 < 100:\n",
    "                neighbors.add((point[0],point[1]+1))\n",
    "            if point[1]-1 >= 0:\n",
    "                neighbors.add((point[0],point[1]-1))\n",
    "                \n",
    "            # grow if possible\n",
    "            if newBoard[point[0]][point[1]] < 8:\n",
    "                newBoard[point[0]][point[1]] += 1\n",
    "            val = newBoard[point[0]][point[1]]\n",
    "        neighbors = neighbors - allTaken\n",
    "        for n in neighbors:\n",
    "            # we might have to make sure it's not in a different \n",
    "            if board[n[0]][n[1]] == val:\n",
    "                basin.add(n)\n",
    "                allTaken.add(n)\n",
    "    return newBoard,basins\n",
    "        "
   ]
  },
  {
   "cell_type": "code",
   "execution_count": 111,
   "id": "22a43982-dddb-4d84-aa4e-82198647f484",
   "metadata": {},
   "outputs": [],
   "source": [
    "newboard = copy.deepcopy(board)\n",
    "vbasins = basins.values()\n",
    "for i in range(9):\n",
    "    newboard,vbasins = updateBoard(newboard,vbasins)"
   ]
  },
  {
   "cell_type": "code",
   "execution_count": 86,
   "id": "ad9daa5a-ca71-434c-960e-ddc29a8b3008",
   "metadata": {},
   "outputs": [
    {
     "data": {
      "text/plain": [
       "{(1, 2)}"
      ]
     },
     "execution_count": 86,
     "metadata": {},
     "output_type": "execute_result"
    }
   ],
   "source": [
    "foo.add((1,2))\n",
    "foo - set([(0,3),(4,3)])"
   ]
  },
  {
   "cell_type": "code",
   "execution_count": 128,
   "id": "a5dd8d16-559b-439b-9f0b-9e80167eb3c7",
   "metadata": {},
   "outputs": [
    {
     "name": "stdout",
     "output_type": "stream",
     "text": [
      "0\n"
     ]
    }
   ],
   "source": [
    "len(allTaken)\n",
    "vmax = 0\n",
    "mdict = {}\n",
    "lengths = []\n",
    "for i in range(102):\n",
    "    mdict[i] = []\n",
    "for basin in vbasins:\n",
    "    mdict[len(basin)].append(basin)\n",
    "    lengths.append(len(basin))\n",
    "#    print(len(basin))\n",
    "print(vmax)"
   ]
  },
  {
   "cell_type": "code",
   "execution_count": 130,
   "id": "462435a7-3df9-456f-8944-bb4e65edb83f",
   "metadata": {},
   "outputs": [
    {
     "name": "stdout",
     "output_type": "stream",
     "text": [
      "[2, 2, 2, 2, 2, 2, 2, 2, 2, 2, 3, 3, 3, 3, 3, 3, 3, 3, 4, 4, 4, 4, 4, 4, 4, 5, 5, 5, 5, 5, 5, 5, 5, 5, 5, 5, 5, 5, 5, 6, 6, 6, 7, 7, 7, 7, 7, 8, 8, 8, 9, 9, 9, 9, 9, 9, 9, 9, 9, 10, 10, 10, 10, 11, 11, 11, 11, 11, 12, 12, 12, 12, 12, 13, 13, 13, 13, 14, 14, 15, 15, 15, 15, 15, 16, 16, 16, 17, 18, 18, 18, 18, 18, 19, 19, 19, 20, 20, 20, 21, 21, 21, 22, 22, 22, 22, 23, 23, 23, 23, 23, 25, 25, 25, 25, 26, 26, 27, 27, 28, 28, 28, 29, 30, 32, 32, 32, 33, 33, 34, 34, 35, 35, 35, 36, 36, 36, 37, 39, 39, 40, 40, 41, 41, 42, 42, 42, 43, 43, 43, 44, 44, 47, 48, 49, 49, 50, 50, 50, 50, 51, 51, 51, 52, 52, 52, 54, 55, 56, 56, 57, 58, 58, 58, 59, 59, 60, 60, 60, 60, 61, 62, 63, 63, 63, 63, 63, 63, 64, 64, 65, 65, 65, 65, 66, 67, 68, 69, 69, 70, 71, 71, 72, 73, 73, 74, 76, 76, 78, 81, 84, 84, 84, 85, 85, 87, 89, 89, 90, 92, 94, 95, 99, 101]\n"
     ]
    },
    {
     "data": {
      "text/plain": [
       "949905"
      ]
     },
     "execution_count": 130,
     "metadata": {},
     "output_type": "execute_result"
    }
   ],
   "source": [
    "len(mdict[101])\n",
    "len(mdict[99])\n",
    "len(mdict[96])\n",
    "\n",
    "print(sorted(lengths))\n",
    "95*99*101"
   ]
  },
  {
   "cell_type": "code",
   "execution_count": 68,
   "id": "605f09ea-1868-41b7-b2c6-cdc08563a586",
   "metadata": {},
   "outputs": [
    {
     "data": {
      "text/plain": [
       "<matplotlib.image.AxesImage at 0x7f816fa9e790>"
      ]
     },
     "execution_count": 68,
     "metadata": {},
     "output_type": "execute_result"
    },
    {
     "data": {
      "image/png": "[encoded data removed]",
      "text/plain": [
       "<Figure size 1296x1296 with 1 Axes>"
      ]
     },
     "metadata": {
      "needs_background": "light"
     },
     "output_type": "display_data"
    }
   ],
   "source": [
    "fig, ax = plt.subplots(figsize=(18, 18))\n",
    "ax.imshow(board, interpolation='nearest')\n"
   ]
  },
  {
   "cell_type": "code",
   "execution_count": null,
   "id": "3d1c80a9-5bf1-47b9-bc2c-e1af7ad48b1a",
   "metadata": {},
   "outputs": [],
   "source": []
  }
 ],
 "metadata": {
  "kernelspec": {
   "display_name": "Python 3 (ipykernel)",
   "language": "python",
   "name": "python3"
  },
  "language_info": {
   "codemirror_mode": {
    "name": "ipython",
    "version": 3
   },
   "file_extension": ".py",
   "mimetype": "text/x-python",
   "name": "python",
   "nbconvert_exporter": "python",
   "pygments_lexer": "ipython3",
   "version": "3.8.10"
  }
 },
 "nbformat": 4,
 "nbformat_minor": 5
}
