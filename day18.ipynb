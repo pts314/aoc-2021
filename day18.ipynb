{
 "cells": [
  {
   "cell_type": "code",
   "execution_count": 1,
   "id": "b856f88f-947d-425f-8390-4e695dcc5050",
   "metadata": {},
   "outputs": [],
   "source": [
    "import numpy as np\n",
    "import matplotlib.pyplot as plt\n",
    "import copy\n",
    "import math"
   ]
  },
  {
   "cell_type": "code",
   "execution_count": 2,
   "id": "057d046d-db8f-4f5d-9811-114f6a6ca0f8",
   "metadata": {},
   "outputs": [],
   "source": [
    "with open(\"/home/peter/Downloads/AdventOfCode/day18Input.txt\") as fh:\n",
    "    lines = fh.readlines()\n",
    "#with open(\"/home/peter/Downloads/AdventOfCode/day15Test.txt\") as fh:\n",
    "#    lines = fh.readlines()\n"
   ]
  },
  {
   "cell_type": "code",
   "execution_count": 55,
   "id": "1aa75d8f-0605-4ef2-8724-f3bdd21bfd84",
   "metadata": {},
   "outputs": [],
   "source": [
    "class node:\n",
    "    def __init__(self,value):\n",
    "        if type(value) == int:\n",
    "            self.value = value\n",
    "        else:\n",
    "            self.value = [node(value[0]),node(value[1])]        \n",
    "        self.index = -1\n",
    "        # can either have int value or left and right node\n",
    "    \n",
    "    def getLength(self):\n",
    "        if type(self.value) == int:\n",
    "            return 1\n",
    "        else:\n",
    "            return self.value[0].getLength() + self.value[1].getLength()\n",
    "    \n",
    "    def assignIndex(self,index):\n",
    "        if type(self.value) == int:\n",
    "            self.index = index\n",
    "        else:\n",
    "            self.value[0].assignIndex(index)\n",
    "            # thus when we're asked for index, you know if it's in the left or right\n",
    "            self.index = self.value[0].getLength() + index\n",
    "            self.value[1].assignIndex(self.index)\n",
    "   \n",
    "    def getIndex(self,index):\n",
    "        if type(self.value) == int:\n",
    "            if index == self.index:\n",
    "                return self.value\n",
    "            else:\n",
    "                #print(\"ya done messed up\")\n",
    "                return -1\n",
    "        else:\n",
    "            if index < self.index:\n",
    "                return self.value[0].getIndex(index)\n",
    "            else:\n",
    "                return self.value[1].getIndex(index)\n",
    "    \n",
    "    def addToIndex(self,index,value):\n",
    "        if type(self.value) == int:\n",
    "            if index == self.index:\n",
    "                self.value += value\n",
    "            else:\n",
    "                #print(\"ya done messed up\")\n",
    "                return -1\n",
    "        else:\n",
    "            if index < self.index:\n",
    "                self.value[0].addToIndex(index,value)\n",
    "            else:\n",
    "                self.value[1].addToIndex(index,value)\n",
    "    \n",
    "    def explode(self,top,depth):\n",
    "        #print(\"val is \",self)\n",
    "        if type(self.value) == int:\n",
    "            return False\n",
    "        elif depth >= 4:\n",
    "            # explodes\n",
    "            top.addToIndex(self.index-2,self.value[0].value)\n",
    "            top.addToIndex(self.index+1,self.value[1].value)\n",
    "            self.value = 0\n",
    "            top.assignIndex(0)\n",
    "            return True\n",
    "        else:\n",
    "            if self.value[0].explode(top,depth+1):\n",
    "                return True\n",
    "            elif self.value[1].explode(top,depth+1):\n",
    "                return True\n",
    "            else:\n",
    "                return False\n",
    "            \n",
    "    def split(self,top):\n",
    "        if type(self.value) == int:\n",
    "            if self.value >= 10:\n",
    "                lower = math.floor(self.value/2.0)\n",
    "                upper = math.ceil(self.value/2.0)\n",
    "                self.value = [node(lower),node(upper)]\n",
    "                top.assignIndex(0)\n",
    "                return True\n",
    "            else:\n",
    "                return False\n",
    "        else:\n",
    "            if self.value[0].split(top):\n",
    "                return True\n",
    "            elif self.value[1].split(top):\n",
    "                return True\n",
    "            else:\n",
    "                return False  \n",
    "            \n",
    "    def reduce(self):\n",
    "        #print(\"start reduce with \",self)\n",
    "        changed = True\n",
    "        while changed:\n",
    "            #print(self)\n",
    "            changed = False\n",
    "            if self.explode(self,0):\n",
    "                changed = True\n",
    "            elif self.split(self):\n",
    "                changed = True\n",
    "        #print(\"ended reduce with \",self)\n",
    "    \n",
    "    def mag(self):\n",
    "        if type(self.value) == int:\n",
    "            return self.value\n",
    "        else:\n",
    "            return self.value[0].mag() * 3 + self.value[1].mag() * 2\n",
    "                \n",
    "    def __str__(self):\n",
    "        if type(self.value) == int:\n",
    "            return str(self.value)\n",
    "        else:\n",
    "            return \"[\" + str(self.value[0]) +\", \"+ str(self.value[1])+\"]\"\n",
    "\n",
    "    \n",
    "def add(first,second):\n",
    "    first = eval(str(first))\n",
    "    second = eval(str(second))\n",
    "    val = [first,second]\n",
    "    #print(\"val is \",val)\n",
    "    res = node(val)\n",
    "    #print(\"res is \",res)\n",
    "    res.assignIndex(0)\n",
    "    res.reduce()\n",
    "    return res\n",
    "\n",
    "def doLine(line):\n",
    "    pass"
   ]
  },
  {
   "cell_type": "code",
   "execution_count": 56,
   "id": "66b79eab-97b8-4b5c-bd2c-79c70455e33c",
   "metadata": {},
   "outputs": [],
   "source": [
    "test = lines[0]\n",
    "test = eval(test)"
   ]
  },
  {
   "cell_type": "code",
   "execution_count": 57,
   "id": "46bcdb7e-fa00-4897-9d94-0976d27d6d4f",
   "metadata": {},
   "outputs": [],
   "source": [
    "foo = node(test)\n",
    "foo.assignIndex(0)"
   ]
  },
  {
   "cell_type": "code",
   "execution_count": 58,
   "id": "0948e176-67b2-4882-9660-2893eb983a05",
   "metadata": {},
   "outputs": [
    {
     "name": "stdout",
     "output_type": "stream",
     "text": [
      "[[7, [1, 5]], [[5, 7], [[0, 8], 2]]]\n"
     ]
    }
   ],
   "source": [
    "print(test)"
   ]
  },
  {
   "cell_type": "code",
   "execution_count": 59,
   "id": "989a49bb-c46b-418e-8331-852d8a8e9af9",
   "metadata": {},
   "outputs": [
    {
     "name": "stdout",
     "output_type": "stream",
     "text": [
      "[[7, [1, 5]], [[5, 7], [[0, 8], 2]]]\n"
     ]
    }
   ],
   "source": [
    "print(foo)"
   ]
  },
  {
   "cell_type": "code",
   "execution_count": null,
   "id": "0c26cc2d-3f92-4d08-b0e6-69bd53a62cef",
   "metadata": {},
   "outputs": [],
   "source": []
  },
  {
   "cell_type": "code",
   "execution_count": 60,
   "id": "37f86b46-1d27-4b1a-abfa-632555491199",
   "metadata": {},
   "outputs": [
    {
     "data": {
      "text/plain": [
       "False"
      ]
     },
     "execution_count": 60,
     "metadata": {},
     "output_type": "execute_result"
    }
   ],
   "source": [
    "foo.explode(foo,0)"
   ]
  },
  {
   "cell_type": "code",
   "execution_count": 61,
   "id": "1dc09107-79a1-454c-97ed-10fda0537f71",
   "metadata": {},
   "outputs": [
    {
     "name": "stdout",
     "output_type": "stream",
     "text": [
      "[[[[0, 7], 4], [[7, 8], [6, 0]]], [8, 1]]\n"
     ]
    }
   ],
   "source": [
    "foo = node(eval(\"[[[[[4,3],4],4],[7,[[8,4],9]]],[1,1]]\"))\n",
    "foo.assignIndex(0)\n",
    "foo.reduce()\n",
    "print(foo)"
   ]
  },
  {
   "cell_type": "code",
   "execution_count": 62,
   "id": "00f445fb-f6ac-446e-9020-bb029bb26c03",
   "metadata": {},
   "outputs": [
    {
     "data": {
      "text/plain": [
       "False"
      ]
     },
     "execution_count": 62,
     "metadata": {},
     "output_type": "execute_result"
    }
   ],
   "source": [
    "foo.explode(foo,0)"
   ]
  },
  {
   "cell_type": "code",
   "execution_count": 63,
   "id": "95faafa0-0980-404c-9a1f-db654c10353e",
   "metadata": {},
   "outputs": [
    {
     "name": "stdout",
     "output_type": "stream",
     "text": [
      "for i =  2\n",
      "for i =  3\n",
      "for i =  4\n",
      "for i =  5\n",
      "for i =  6\n",
      "[[[[5, 0], [7, 4]], [5, 5]], [6, 6]]\n"
     ]
    }
   ],
   "source": [
    "n = node([1,1])\n",
    "for i in range(2,7):\n",
    "    print(\"for i = \",i)\n",
    "    \n",
    "    n = add(n,node([i,i]))\n",
    "print(n)"
   ]
  },
  {
   "cell_type": "code",
   "execution_count": 64,
   "id": "876cd0aa-7463-47c2-9b4e-053d352a9506",
   "metadata": {},
   "outputs": [
    {
     "name": "stdout",
     "output_type": "stream",
     "text": [
      "[[[[5, 0], [7, 4]], [5, 5]], [6, 6]]\n"
     ]
    }
   ],
   "source": [
    "print(n)"
   ]
  },
  {
   "cell_type": "code",
   "execution_count": 65,
   "id": "d5b979ee-a646-4e18-b552-f66d6755760b",
   "metadata": {},
   "outputs": [
    {
     "data": {
      "text/plain": [
       "False"
      ]
     },
     "execution_count": 65,
     "metadata": {},
     "output_type": "execute_result"
    }
   ],
   "source": [
    "n.explode(n,0)"
   ]
  },
  {
   "cell_type": "code",
   "execution_count": 66,
   "id": "238d409d-3946-4c4d-b937-851b85892195",
   "metadata": {},
   "outputs": [
    {
     "name": "stdout",
     "output_type": "stream",
     "text": [
      "[[[[5, 0], [7, 4]], [5, 5]], [6, 6]]\n"
     ]
    }
   ],
   "source": [
    "print(n)"
   ]
  },
  {
   "cell_type": "code",
   "execution_count": 70,
   "id": "d5eb7840-4b78-4cef-af2b-03182aa9306e",
   "metadata": {},
   "outputs": [],
   "source": [
    "fish = eval(lines[0])\n",
    "fish = node(fish)\n",
    "fishes = [fish]\n",
    "for line in lines[1:]:\n",
    "    nextVal = node(eval(line))\n",
    "    #fish = add(fish,nextVal)\n",
    "    fishes.append(nextVal)"
   ]
  },
  {
   "cell_type": "code",
   "execution_count": 68,
   "id": "c0042fca-74f2-4176-8509-25e52bacfa96",
   "metadata": {},
   "outputs": [
    {
     "name": "stdout",
     "output_type": "stream",
     "text": [
      "[[[[7, 7], [0, 7]], [[7, 7], [7, 8]]], [[[8, 8], [8, 9]], [[7, 7], 9]]]\n"
     ]
    }
   ],
   "source": [
    "print(fish)"
   ]
  },
  {
   "cell_type": "code",
   "execution_count": 69,
   "id": "64960b1a-96e7-40aa-a969-7dae37b00c59",
   "metadata": {},
   "outputs": [
    {
     "data": {
      "text/plain": [
       "3987"
      ]
     },
     "execution_count": 69,
     "metadata": {},
     "output_type": "execute_result"
    }
   ],
   "source": [
    "fish.mag()"
   ]
  },
  {
   "cell_type": "code",
   "execution_count": 71,
   "id": "d1f634c5-9fac-4ed5-9c9e-c47723cb2564",
   "metadata": {},
   "outputs": [],
   "source": [
    "maxVal = 0\n",
    "for i in fishes:\n",
    "    for j in fishes:\n",
    "        fsum = add(i,j)\n",
    "        maxVal = max(fsum.mag(),maxVal)"
   ]
  },
  {
   "cell_type": "code",
   "execution_count": 72,
   "id": "113b7532-a309-4e9b-a00e-d920a17319c3",
   "metadata": {},
   "outputs": [
    {
     "name": "stdout",
     "output_type": "stream",
     "text": [
      "4500\n"
     ]
    }
   ],
   "source": [
    "print(maxVal)"
   ]
  },
  {
   "cell_type": "code",
   "execution_count": null,
   "id": "da51ba5f-0d58-4243-99e0-d830127cb48b",
   "metadata": {},
   "outputs": [],
   "source": []
  }
 ],
 "metadata": {
  "kernelspec": {
   "display_name": "Python 3 (ipykernel)",
   "language": "python",
   "name": "python3"
  },
  "language_info": {
   "codemirror_mode": {
    "name": "ipython",
    "version": 3
   },
   "file_extension": ".py",
   "mimetype": "text/x-python",
   "name": "python",
   "nbconvert_exporter": "python",
   "pygments_lexer": "ipython3",
   "version": "3.8.10"
  }
 },
 "nbformat": 4,
 "nbformat_minor": 5
}
