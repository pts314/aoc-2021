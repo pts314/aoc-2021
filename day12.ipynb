{
 "cells": [
  {
   "cell_type": "code",
   "execution_count": 64,
   "id": "ca7ba7c1-8deb-4f5c-aa38-82ea5093a804",
   "metadata": {},
   "outputs": [],
   "source": [
    "import numpy as np\n",
    "import matplotlib.pyplot as plt\n",
    "import copy\n",
    "from collections import Counter\n",
    "import networkx"
   ]
  },
  {
   "cell_type": "code",
   "execution_count": 2,
   "id": "4b1ab4bc-c94d-4525-92de-e271f0841b75",
   "metadata": {},
   "outputs": [],
   "source": [
    "lines = \"\"\"start-kc\n",
    "pd-NV\n",
    "start-zw\n",
    "UI-pd\n",
    "HK-end\n",
    "UI-kc\n",
    "pd-ih\n",
    "ih-end\n",
    "start-UI\n",
    "kc-zw\n",
    "end-ks\n",
    "MF-mq\n",
    "HK-zw\n",
    "LF-ks\n",
    "HK-kc\n",
    "ih-HK\n",
    "kc-pd\n",
    "ks-pd\n",
    "MF-pd\n",
    "UI-zw\n",
    "ih-NV\n",
    "ks-HK\n",
    "MF-kc\n",
    "zw-NV\n",
    "NV-ks\"\"\"\n",
    "\n",
    "#with open(\"/home/peter/Downloads/AdventOfCode/day11Input.txt\") as fh:\n",
    "#    lines = fh.readlines()"
   ]
  },
  {
   "cell_type": "code",
   "execution_count": 86,
   "id": "9e9c081f-1e1e-414c-9b31-4bc088aebd4c",
   "metadata": {},
   "outputs": [
    {
     "name": "stdout",
     "output_type": "stream",
     "text": [
      "line is : start-kc\n",
      "line is : pd-NV\n",
      "line is : start-zw\n",
      "line is : UI-pd\n",
      "line is : HK-end\n",
      "line is : UI-kc\n",
      "line is : pd-ih\n",
      "line is : ih-end\n",
      "line is : start-UI\n",
      "line is : kc-zw\n",
      "line is : end-ks\n",
      "line is : MF-mq\n",
      "line is : HK-zw\n",
      "line is : LF-ks\n",
      "line is : HK-kc\n",
      "line is : ih-HK\n",
      "line is : kc-pd\n",
      "line is : ks-pd\n",
      "line is : MF-pd\n",
      "line is : UI-zw\n",
      "line is : ih-NV\n",
      "line is : ks-HK\n",
      "line is : MF-kc\n",
      "line is : zw-NV\n",
      "line is : NV-ks\n"
     ]
    }
   ],
   "source": [
    "# dict from place to list of destination nodes\n",
    "connections = {}\n",
    "for line in lines.split(\"\\n\"):\n",
    "    print(\"line is :\",line)\n",
    "    start,end = line.strip().split(\"-\")\n",
    "    if start not in connections:\n",
    "        connections[start] = []\n",
    "    if end not in connections:\n",
    "        connections[end] = []\n",
    "    connections[start].append(end)\n",
    "    if start != \"start\":\n",
    "        connections[end].append(start)\n"
   ]
  },
  {
   "cell_type": "code",
   "execution_count": 102,
   "id": "a1aeff8f-cc65-4441-9900-1cd4a73dccf6",
   "metadata": {},
   "outputs": [],
   "source": [
    "def traverse(history,currentNode,connections,twiceVisited):\n",
    "    #print(\"i\")\n",
    "    if currentNode == \"end\":\n",
    "        return 1\n",
    "    else:\n",
    "        ihistory = copy.copy(history)\n",
    "        if currentNode in ihistory:\n",
    "            ihistory[currentNode] += 1\n",
    "        else:\n",
    "            ihistory[currentNode] = 1\n",
    "        uniquePaths = 0\n",
    "        #print(connections[currentNode])\n",
    "        for node in connections[currentNode]:\n",
    "            # it's a small cave, so can only visit once:\n",
    "            if node.lower() == node:\n",
    "                if node not in ihistory:\n",
    "                    paths = traverse(ihistory,node,connections,twiceVisited)\n",
    "                    uniquePaths += paths\n",
    "                elif ihistory[node] == 1 and twiceVisited == False:\n",
    "                    paths= traverse(ihistory,node,connections,True)\n",
    "                    uniquePaths += paths\n",
    "            else:\n",
    "                paths= traverse(ihistory,node,connections,twiceVisited)\n",
    "                uniquePaths += paths\n",
    "        ihistory[currentNode] += -1\n",
    "        return uniquePaths\n",
    "            \n",
    "        "
   ]
  },
  {
   "cell_type": "code",
   "execution_count": 103,
   "id": "8e415745-d9ac-4a7c-acef-bc7e07f2e19a",
   "metadata": {},
   "outputs": [],
   "source": [
    "foo = traverse({},\"start\",connections,False)"
   ]
  },
  {
   "cell_type": "code",
   "execution_count": 104,
   "id": "fd4beaee-dc48-4208-b96f-6379d25d2525",
   "metadata": {},
   "outputs": [
    {
     "name": "stdout",
     "output_type": "stream",
     "text": [
      "147848\n"
     ]
    }
   ],
   "source": [
    "print(foo)"
   ]
  },
  {
   "cell_type": "code",
   "execution_count": null,
   "id": "fb44a4aa-a0a2-47b7-b493-a6bc8d47d79e",
   "metadata": {},
   "outputs": [],
   "source": [
    "print(bar)"
   ]
  },
  {
   "cell_type": "code",
   "execution_count": null,
   "id": "f46f684b-c1a5-470e-a371-6e3a322d0369",
   "metadata": {},
   "outputs": [],
   "source": [
    "print(connections)"
   ]
  },
  {
   "cell_type": "code",
   "execution_count": 26,
   "id": "d1da0a35-3c16-4e7e-ab35-25082306ecaf",
   "metadata": {},
   "outputs": [
    {
     "data": {
      "text/plain": [
       "['kc', 'zw', 'UI']"
      ]
     },
     "execution_count": 26,
     "metadata": {},
     "output_type": "execute_result"
    }
   ],
   "source": [
    "connections[\"start\"]"
   ]
  },
  {
   "cell_type": "code",
   "execution_count": 89,
   "id": "d676c640-9ab9-4545-9d89-f4940fbc58bf",
   "metadata": {},
   "outputs": [
    {
     "name": "stdout",
     "output_type": "stream",
     "text": [
      "start ['kc', 'zw', 'UI']\n",
      "kc ['UI', 'zw', 'HK', 'pd', 'MF']\n",
      "pd ['NV', 'UI', 'ih', 'kc', 'ks', 'MF']\n",
      "NV ['pd', 'ih', 'zw', 'ks']\n",
      "zw ['kc', 'HK', 'UI', 'NV']\n",
      "UI ['pd', 'kc', 'zw']\n",
      "HK ['end', 'zw', 'kc', 'ih', 'ks']\n",
      "end ['HK', 'ih', 'ks']\n",
      "ih ['pd', 'end', 'HK', 'NV']\n",
      "ks ['end', 'LF', 'pd', 'HK', 'NV']\n",
      "MF ['mq', 'pd', 'kc']\n",
      "mq ['MF']\n",
      "LF ['ks']\n"
     ]
    }
   ],
   "source": [
    "for key in connections:\n",
    "    print(key,connections[key])"
   ]
  },
  {
   "cell_type": "code",
   "execution_count": 95,
   "id": "ff1ef360-d5da-4665-be97-d4fdf28df24e",
   "metadata": {},
   "outputs": [
    {
     "name": "stdout",
     "output_type": "stream",
     "text": [
      "['kc', 'pd', 'zw', 'ih', 'ks', 'mq']\n"
     ]
    }
   ],
   "source": [
    "print(small_caves)"
   ]
  },
  {
   "cell_type": "code",
   "execution_count": 98,
   "id": "ecdeb881-d35c-46f6-ac19-37f585d36743",
   "metadata": {},
   "outputs": [
    {
     "name": "stdout",
     "output_type": "stream",
     "text": [
      "start,kc,zw,HK,ks,pd,NV,ks,end\n",
      "start,kc,HK,ks,NV,ks,NV,zw,NV,pd,ih,end\n",
      "start,kc,MF,pd,ks,LF,ks,NV,zw,HK,end\n",
      "start,kc,HK,ih,HK,zw,kc,UI,pd,ks,end\n",
      "start,UI,zw,NV,pd,MF,mq,MF,kc,HK,ih,NV,pd,ks,HK,end\n",
      "start,UI,pd,ih,HK,ks,HK,ih,HK,zw,HK,kc,HK,end\n",
      "start,zw,HK,ks,HK,kc,HK,ks,NV,pd,ih,end\n",
      "start,kc,HK,zw,UI,kc,MF,pd,ks,HK,ih,HK,end\n",
      "start,kc,MF,pd,NV,ih,HK,zw,NV,ks,LF,ks,HK,end\n",
      "start,UI,kc,MF,mq,MF,pd,ks,NV,ih,HK,zw,UI,zw,HK,end\n",
      "start,zw,HK,zw,UI,kc,UI,pd,ih,NV,ks,HK,end\n"
     ]
    }
   ],
   "source": [
    "i = 0\n",
    "for p in unique_paths:\n",
    "    print(p)\n",
    "    i += 1\n",
    "    if i > 10:\n",
    "        break"
   ]
  },
  {
   "cell_type": "code",
   "execution_count": 99,
   "id": "e42c9fb7-3f1e-401d-a60a-a6f45679319a",
   "metadata": {},
   "outputs": [
    {
     "name": "stdout",
     "output_type": "stream",
     "text": [
      "defaultdict(<class 'list'>, {'start': ['kc', 'zw', 'UI'], 'kc': ['start', 'UI', 'zw', 'HK', 'pd', 'MF'], 'pd': ['NV', 'UI', 'ih', 'kc', 'ks', 'MF'], 'NV': ['pd', 'ih', 'zw', 'ks'], 'zw': ['start', 'kc', 'HK', 'UI', 'NV'], 'UI': ['pd', 'kc', 'start', 'zw'], 'HK': ['end', 'zw', 'kc', 'ih', 'ks'], 'end': ['HK', 'ih', 'ks'], 'ih': ['pd', 'end', 'HK', 'NV'], 'ks': ['end', 'LF', 'pd', 'HK', 'NV'], 'MF': ['mq', 'pd', 'kc', 'mq-'], 'mq': ['MF'], 'LF': ['ks'], 'mq-': ['MF']})\n"
     ]
    }
   ],
   "source": [
    "print(connection_map)"
   ]
  },
  {
   "cell_type": "code",
   "execution_count": null,
   "id": "2ce9344b-eb7e-4948-9f63-eff6bb7d680c",
   "metadata": {},
   "outputs": [],
   "source": []
  }
 ],
 "metadata": {
  "kernelspec": {
   "display_name": "Python 3 (ipykernel)",
   "language": "python",
   "name": "python3"
  },
  "language_info": {
   "codemirror_mode": {
    "name": "ipython",
    "version": 3
   },
   "file_extension": ".py",
   "mimetype": "text/x-python",
   "name": "python",
   "nbconvert_exporter": "python",
   "pygments_lexer": "ipython3",
   "version": "3.8.10"
  }
 },
 "nbformat": 4,
 "nbformat_minor": 5
}
