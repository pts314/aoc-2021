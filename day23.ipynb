{
 "cells": [
  {
   "cell_type": "code",
   "execution_count": 13,
   "id": "9c64003f-3e8f-4032-9e70-f414153bf1ff",
   "metadata": {},
   "outputs": [],
   "source": [
    "import numpy as np\n",
    "import matplotlib.pyplot as plt\n",
    "import copy\n",
    "import math"
   ]
  },
  {
   "cell_type": "code",
   "execution_count": 14,
   "id": "2e824e71-722b-4135-bfc8-51e5408b37f3",
   "metadata": {},
   "outputs": [
    {
     "name": "stdout",
     "output_type": "stream",
     "text": [
      "#############\n",
      "#...........#\n",
      "###C#C#A#B###\n",
      "  #D#D#B#A#\n",
      "  #########\n",
      "#############\n",
      "#...........#\n",
      "###B#C#B#D###\n",
      "  #A#D#C#A#\n",
      "  ########\n"
     ]
    }
   ],
   "source": [
    "with open(\"/home/peter/Downloads/AdventOfCode/day23Input.txt\") as fh:\n",
    "    lines = fh.readlines()\n",
    "for line in lines:\n",
    "    print(line[0:-1])\n",
    "with open(\"/home/peter/Downloads/AdventOfCode/day23Test.txt\") as fh:\n",
    "    lines = fh.readlines()\n",
    "for line in lines:\n",
    "    print(line[0:-1])"
   ]
  },
  {
   "cell_type": "code",
   "execution_count": 15,
   "id": "b9750541-af9f-4f92-aa87-acaeb8e33c56",
   "metadata": {},
   "outputs": [],
   "source": [
    "cost = {\n",
    "    \"A\" : 1,\n",
    "    \"B\" : 10,\n",
    "    \"C\" : 100,\n",
    "    \"D\" : 1000\n",
    "}\n",
    "# yellow green blue red\n",
    "home = {\n",
    "    \"A\" : 2,\n",
    "    \"B\" : 4,\n",
    "    \"C\" : 6,\n",
    "    \"D\" : 8\n",
    "}"
   ]
  },
  {
   "cell_type": "raw",
   "id": "7ab6a001-e43d-4655-b681-6bd8363d0c70",
   "metadata": {},
   "source": [
    "\n",
    "#############\n",
    "#12.3.4.5.67#\n",
    "###B#C#B#D###\n",
    "  #A#D#C#A#\n",
    "  ########\n",
    "  \n",
    "#############\n",
    "#...........#\n",
    "###B#C#B#D###\n",
    "  #A#D#C#A#\n",
    "  #########\n",
    " \n",
    "2000\n",
    "#############\n",
    "#.......D...#\n",
    "###B#C#B# ###\n",
    "  #A#D#C#A#\n",
    "  #########\n",
    "\n",
    "2000 + 3\n",
    "#############\n",
    "#.......D.A #\n",
    "###B#C#B# ###\n",
    "  #A#D#C# #\n",
    "  #########\n",
    "  \n",
    "2003 + 3000\n",
    "#############\n",
    "#....... .A.#\n",
    "##"
   ]
  },
  {
   "cell_type": "code",
   "execution_count": 16,
   "id": "b6c5a1cf-3ef8-4338-9974-4d06456e2b82",
   "metadata": {},
   "outputs": [
    {
     "data": {
      "text/plain": [
       "array([[0., 0., 0., 0., 0., 0., 0., 0., 0., 0., 0.],\n",
       "       [0., 0., 0., 0., 0., 0., 0., 0., 0., 0., 0.],\n",
       "       [0., 0., 0., 0., 0., 0., 0., 0., 0., 0., 0.]])"
      ]
     },
     "execution_count": 16,
     "metadata": {},
     "output_type": "execute_result"
    }
   ],
   "source": [
    "np.zeros(shape=(3,len(lines[0].strip())-2))"
   ]
  },
  {
   "cell_type": "code",
   "execution_count": 17,
   "id": "8afd1cd0-d22a-4bb9-ac47-09e641c40186",
   "metadata": {},
   "outputs": [],
   "source": [
    "rooms = [[0,0]]*4"
   ]
  },
  {
   "cell_type": "code",
   "execution_count": 18,
   "id": "fb3dde23-7db0-43a5-b801-ecca190dbcd5",
   "metadata": {},
   "outputs": [
    {
     "name": "stdout",
     "output_type": "stream",
     "text": [
      "[[0, 0], [0, 0], [0, 0], [0, 0]]\n"
     ]
    }
   ],
   "source": [
    "print(rooms)"
   ]
  },
  {
   "cell_type": "code",
   "execution_count": 19,
   "id": "6f71e1a4-f55d-494b-a557-419d333092b0",
   "metadata": {},
   "outputs": [],
   "source": [
    "init = [\"\",\"\",[\"B\",\"A\"],\"\",[\"C\",\"D\"],\"\",[\"B\",\"C\"],\"\",[\"D\",\"A\"],\"\",\"\"]\n",
    "end  = [\"\",\"\",[\"A\",\"A\"],\"\",[\"B\",\"B\"],\"\",[\"C\",\"C\"],\"\",[\"D\",\"D\"],\"\",\"\"]"
   ]
  },
  {
   "cell_type": "code",
   "execution_count": 20,
   "id": "06c1a006-fd8c-4675-a03a-585b56105627",
   "metadata": {},
   "outputs": [],
   "source": [
    "foo = end.copy()"
   ]
  },
  {
   "cell_type": "code",
   "execution_count": 24,
   "id": "170e596c-5847-4547-8bbc-4a10b2754c99",
   "metadata": {},
   "outputs": [],
   "source": [
    "def move(room,mover,space):\n",
    "    global cost\n",
    "    global home\n",
    "    troom = copy.deepcopy(room)\n",
    "    # grab mover\n",
    "    dist = 0\n",
    "    primaryLoc = 0\n",
    "    moved = False\n",
    "    if type(mover) == int:\n",
    "        moved = True\n",
    "        moverVal = troom[mover]\n",
    "        troom[mover] = \"\"\n",
    "        primaryLoc = mover\n",
    "    else:\n",
    "        moverVal = troom[mover[0]][mover[1]]\n",
    "        troom[mover[0]][mover[1]] = \"\"\n",
    "        dist += mover[1]+1\n",
    "        primaryLoc = mover[0]\n",
    "    # insert into space\n",
    "    \n",
    "    if type(space) == int:\n",
    "        if moved == True:\n",
    "            return troom,1000000\n",
    "        troom[space] = moverVal\n",
    "        dist += abs(space-primaryLoc)\n",
    "    else:\n",
    "        if moved == True:\n",
    "            if space[0] != home[moverVal]:\n",
    "                return troom,1000000\n",
    "        troom[space[0]][space[1]] = moverVal\n",
    "        dist += space[1]+1\n",
    "        dist += abs(space[0]-primaryLoc)\n",
    "    return troom,dist*cost[moverVal]\n",
    "    \n",
    "def getPossible(room):\n",
    "    spaces = []\n",
    "    movers = []\n",
    "    for i in range(len(room)):\n",
    "        if type(room[i]) == list:\n",
    "            if room[i][0] == \"\":\n",
    "                if room[i][1] == \"\":\n",
    "                    spaces.append((i,1))\n",
    "                else:\n",
    "                    spaces.append((i,0))\n",
    "                    if i != home[room[i][1]]:\n",
    "                        movers.append((i,1))\n",
    "            else:\n",
    "                movers.append((i,0))\n",
    "        else:\n",
    "            if room[i] == \"\":\n",
    "                spaces.append(i)\n",
    "            else:\n",
    "                movers.append(i)\n",
    "    #print(spaces,movers)\n",
    "    return spaces,movers\n",
    "                \n",
    "    \n",
    "depth = 0    \n",
    "def trySolution(room,cost):\n",
    "    global depth\n",
    "    depth += 1\n",
    "    if depth > 1000:\n",
    "        return 1000000\n",
    "    print(room)\n",
    "    if cost > 100000:\n",
    "        return cost\n",
    "    global end\n",
    "    if room == end:\n",
    "        return cost\n",
    "    else:\n",
    "        spaces,movers = getPossible(room)\n",
    "        minCost = 1000000\n",
    "        for i in range(len(spaces)):\n",
    "            for j in range(len(movers)):\n",
    "                troom,dist = move(room,movers[j],spaces[i])\n",
    "                totCost = trySolution(troom,cost+dist)\n",
    "                minCost = min(minCost,totCost)\n",
    "        return minCost\n",
    "        # get possible moves\n",
    "        \n",
    "        # compute costs\n",
    "        # try solution\n",
    "\n",
    "    "
   ]
  },
  {
   "cell_type": "code",
   "execution_count": 26,
   "id": "7f0c7481-aa16-4e10-8325-f667af1f0a90",
   "metadata": {},
   "outputs": [
    {
     "name": "stdout",
     "output_type": "stream",
     "text": [
      "0 a\n",
      "1 b\n",
      "2 c\n",
      "3 d\n"
     ]
    }
   ],
   "source": [
    "for i,val in enumerate([\"a\",\"b\",\"c\",\"d\"]):\n",
    "    print(i,val)"
   ]
  },
  {
   "cell_type": "code",
   "execution_count": 52,
   "id": "f54b8472-a533-44da-bf71-20b59a112348",
   "metadata": {},
   "outputs": [
    {
     "data": {
      "text/plain": [
       "['', '', ['B', 'A'], '', ['C', 'D'], '', ['B', 'C'], '', ['D', 'A'], '', '']"
      ]
     },
     "execution_count": 52,
     "metadata": {},
     "output_type": "execute_result"
    }
   ],
   "source": [
    "copy.deepcopy(init)"
   ]
  },
  {
   "cell_type": "code",
   "execution_count": null,
   "id": "b30a7617-be45-4c50-9294-40f499319ac1",
   "metadata": {},
   "outputs": [],
   "source": []
  }
 ],
 "metadata": {
  "kernelspec": {
   "display_name": "Python 3 (ipykernel)",
   "language": "python",
   "name": "python3"
  },
  "language_info": {
   "codemirror_mode": {
    "name": "ipython",
    "version": 3
   },
   "file_extension": ".py",
   "mimetype": "text/x-python",
   "name": "python",
   "nbconvert_exporter": "python",
   "pygments_lexer": "ipython3",
   "version": "3.8.10"
  }
 },
 "nbformat": 4,
 "nbformat_minor": 5
}
