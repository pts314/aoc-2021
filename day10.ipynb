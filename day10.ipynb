{
 "cells": [
  {
   "cell_type": "code",
   "execution_count": 1,
   "id": "ca7ba7c1-8deb-4f5c-aa38-82ea5093a804",
   "metadata": {},
   "outputs": [],
   "source": [
    "import numpy as np\n",
    "import matplotlib.pyplot as plt\n",
    "import copy"
   ]
  },
  {
   "cell_type": "code",
   "execution_count": 6,
   "id": "4b1ab4bc-c94d-4525-92de-e271f0841b75",
   "metadata": {},
   "outputs": [],
   "source": [
    "with open(\"/home/peter/Downloads/AdventOfCode/day10Input.txt\") as fh:\n",
    "    lines = fh.readlines()"
   ]
  },
  {
   "cell_type": "code",
   "execution_count": 85,
   "id": "b646ac68-921f-4125-bae8-029a18d41b0d",
   "metadata": {},
   "outputs": [],
   "source": [
    "test = \"\"\"\n",
    "[({(<(())[]>[[{[]{<()<>>\n",
    "[(()[<>])]({[<{<<[]>>(\n",
    "{([(<{}[<>[]}>{[]{[(<()>\n",
    "(((({<>}<{<{<>}{[]{[]{}\n",
    "[[<[([]))<([[{}[[()]]]\n",
    "[{[{({}]{}}([{[{{{}}([]\n",
    "{<[[]]>}<{[{[{[]{()[[[]\n",
    "[<(<(<(<{}))><([]([]()\n",
    "<{([([[(<>()){}]>(<<{{\n",
    "<{([{{}}[<[[[<>{}]]]>[]]\"\"\""
   ]
  },
  {
   "cell_type": "code",
   "execution_count": 61,
   "id": "3d1c80a9-5bf1-47b9-bc2c-e1af7ad48b1a",
   "metadata": {},
   "outputs": [],
   "source": [
    "match = {\n",
    "    \"{\": \"}\",\n",
    "    \"[\": \"]\",\n",
    "    \"<\": \">\",\n",
    "    \"(\": \")\",\n",
    "}\n",
    "\n",
    "value = {\n",
    "    \")\" : 3,\n",
    "    \"]\" : 57,\n",
    "    \"}\" : 1197,\n",
    "    \">\" : 25137,\n",
    "}\n",
    "\n",
    "endValue = {\n",
    "    \")\" : 1,\n",
    "    \"]\" : 2,\n",
    "    \"}\" : 3,\n",
    "    \">\" : 4,\n",
    "}   \n",
    "\n",
    "# 2 is end of line, ignore\n",
    "def doLines(line):\n",
    "    #print(\"start line\")\n",
    "    expects = []\n",
    "    for char in line.strip():\n",
    "        if char in match.keys():\n",
    "            expects.append(match[char])\n",
    "        elif char == expects[-1]:\n",
    "            expects = expects[0:-1]\n",
    "        else:\n",
    "            return value[char],0\n",
    "    if len(expects) == 0 or expects is None:\n",
    "        return 0,0\n",
    "    else:\n",
    "        score = 0\n",
    "        #print(expects)\n",
    "        expects.reverse()\n",
    "        #print(expects)\n",
    "        for char in expects:\n",
    "            score = score * 5 + endValue[char]\n",
    "        return 0,score\n",
    "\n",
    "def readToken(content,i):\n",
    "    if i <= len(content):\n",
    "        return 2,i\n",
    "    char = content[i]\n",
    "    i += 1\n",
    "    if char not in match.keys():\n",
    "        print(\"error \", char)\n",
    "        return -1,i\n",
    "    if len(content) == 1:\n",
    "        print(\"missing \",match[char])\n",
    "        return -1,i\n",
    "    if content[i] == match[char]:\n",
    "        return 0,i+1\n",
    "    else:\n",
    "        readToken(content[1:])\n",
    "    "
   ]
  },
  {
   "cell_type": "code",
   "execution_count": 86,
   "id": "315e31cc-c0cd-40d0-a2d0-c38286317274",
   "metadata": {},
   "outputs": [
    {
     "ename": "IndexError",
     "evalue": "list index out of range",
     "output_type": "error",
     "traceback": [
      "\u001b[0;31m---------------------------------------------------------------------------\u001b[0m",
      "\u001b[0;31mIndexError\u001b[0m                                Traceback (most recent call last)",
      "\u001b[0;32m/tmp/ipykernel_68662/874222042.py\u001b[0m in \u001b[0;36m<module>\u001b[0;34m\u001b[0m\n\u001b[1;32m      2\u001b[0m \u001b[0mscores\u001b[0m \u001b[0;34m=\u001b[0m \u001b[0;34m[\u001b[0m\u001b[0;34m]\u001b[0m\u001b[0;34m\u001b[0m\u001b[0;34m\u001b[0m\u001b[0m\n\u001b[1;32m      3\u001b[0m \u001b[0;32mfor\u001b[0m \u001b[0mline\u001b[0m \u001b[0;32min\u001b[0m \u001b[0mtest\u001b[0m\u001b[0;34m:\u001b[0m\u001b[0;34m\u001b[0m\u001b[0;34m\u001b[0m\u001b[0m\n\u001b[0;32m----> 4\u001b[0;31m     \u001b[0mfoo\u001b[0m \u001b[0;34m=\u001b[0m \u001b[0mdoLines\u001b[0m\u001b[0;34m(\u001b[0m\u001b[0mline\u001b[0m\u001b[0;34m)\u001b[0m\u001b[0;34m\u001b[0m\u001b[0;34m\u001b[0m\u001b[0m\n\u001b[0m\u001b[1;32m      5\u001b[0m     \u001b[0msum\u001b[0m \u001b[0;34m+=\u001b[0m \u001b[0mfoo\u001b[0m\u001b[0;34m[\u001b[0m\u001b[0;36m0\u001b[0m\u001b[0;34m]\u001b[0m\u001b[0;34m\u001b[0m\u001b[0;34m\u001b[0m\u001b[0m\n\u001b[1;32m      6\u001b[0m     \u001b[0mscores\u001b[0m\u001b[0;34m.\u001b[0m\u001b[0mappend\u001b[0m\u001b[0;34m(\u001b[0m\u001b[0mfoo\u001b[0m\u001b[0;34m[\u001b[0m\u001b[0;36m1\u001b[0m\u001b[0;34m]\u001b[0m\u001b[0;34m)\u001b[0m\u001b[0;34m\u001b[0m\u001b[0;34m\u001b[0m\u001b[0m\n",
      "\u001b[0;32m/tmp/ipykernel_68662/3275063195.py\u001b[0m in \u001b[0;36mdoLines\u001b[0;34m(line)\u001b[0m\n\u001b[1;32m     27\u001b[0m         \u001b[0;32mif\u001b[0m \u001b[0mchar\u001b[0m \u001b[0;32min\u001b[0m \u001b[0mmatch\u001b[0m\u001b[0;34m.\u001b[0m\u001b[0mkeys\u001b[0m\u001b[0;34m(\u001b[0m\u001b[0;34m)\u001b[0m\u001b[0;34m:\u001b[0m\u001b[0;34m\u001b[0m\u001b[0;34m\u001b[0m\u001b[0m\n\u001b[1;32m     28\u001b[0m             \u001b[0mexpects\u001b[0m\u001b[0;34m.\u001b[0m\u001b[0mappend\u001b[0m\u001b[0;34m(\u001b[0m\u001b[0mmatch\u001b[0m\u001b[0;34m[\u001b[0m\u001b[0mchar\u001b[0m\u001b[0;34m]\u001b[0m\u001b[0;34m)\u001b[0m\u001b[0;34m\u001b[0m\u001b[0;34m\u001b[0m\u001b[0m\n\u001b[0;32m---> 29\u001b[0;31m         \u001b[0;32melif\u001b[0m \u001b[0mchar\u001b[0m \u001b[0;34m==\u001b[0m \u001b[0mexpects\u001b[0m\u001b[0;34m[\u001b[0m\u001b[0;34m-\u001b[0m\u001b[0;36m1\u001b[0m\u001b[0;34m]\u001b[0m\u001b[0;34m:\u001b[0m\u001b[0;34m\u001b[0m\u001b[0;34m\u001b[0m\u001b[0m\n\u001b[0m\u001b[1;32m     30\u001b[0m             \u001b[0mexpects\u001b[0m \u001b[0;34m=\u001b[0m \u001b[0mexpects\u001b[0m\u001b[0;34m[\u001b[0m\u001b[0;36m0\u001b[0m\u001b[0;34m:\u001b[0m\u001b[0;34m-\u001b[0m\u001b[0;36m1\u001b[0m\u001b[0;34m]\u001b[0m\u001b[0;34m\u001b[0m\u001b[0;34m\u001b[0m\u001b[0m\n\u001b[1;32m     31\u001b[0m         \u001b[0;32melse\u001b[0m\u001b[0;34m:\u001b[0m\u001b[0;34m\u001b[0m\u001b[0;34m\u001b[0m\u001b[0m\n",
      "\u001b[0;31mIndexError\u001b[0m: list index out of range"
     ]
    }
   ],
   "source": [
    "sum = 0\n",
    "scores = []\n",
    "for line in test:\n",
    "    foo = doLines(line)\n",
    "    sum += foo[0]\n",
    "    scores.append(foo[1])\n",
    "print(sum)"
   ]
  },
  {
   "cell_type": "code",
   "execution_count": 77,
   "id": "673287b5-d238-48da-a64f-ebceadc1446d",
   "metadata": {},
   "outputs": [],
   "source": [
    "scores = sorted(scores)\n",
    "newList = []\n",
    "for score in scores:\n",
    "    if score > 0:\n",
    "        newList.append(score)"
   ]
  },
  {
   "cell_type": "code",
   "execution_count": 78,
   "id": "616bb379-24be-4788-9e12-6702119682fd",
   "metadata": {},
   "outputs": [],
   "source": [
    "#while len(newList) > 2:\n",
    " #   newList = newList[1:-2]"
   ]
  },
  {
   "cell_type": "code",
   "execution_count": 83,
   "id": "47387232-1012-4378-8e3e-7276440eac60",
   "metadata": {},
   "outputs": [
    {
     "data": {
      "text/plain": [
       "3049320156"
      ]
     },
     "execution_count": 83,
     "metadata": {},
     "output_type": "execute_result"
    }
   ],
   "source": [
    "newList[24]"
   ]
  },
  {
   "cell_type": "code",
   "execution_count": 69,
   "id": "8901496f-e3ab-4103-b37a-4ef174d63b53",
   "metadata": {},
   "outputs": [],
   "source": [
    "foo = [1, 2, 3]"
   ]
  },
  {
   "cell_type": "code",
   "execution_count": 70,
   "id": "b31784af-6574-4373-93c4-5f799710a85d",
   "metadata": {},
   "outputs": [],
   "source": [
    "foo = foo[1:-1]"
   ]
  },
  {
   "cell_type": "code",
   "execution_count": 82,
   "id": "0466f5aa-de26-4b9c-a357-6a973c8513e2",
   "metadata": {},
   "outputs": [
    {
     "data": {
      "text/plain": [
       "24.5"
      ]
     },
     "execution_count": 82,
     "metadata": {},
     "output_type": "execute_result"
    }
   ],
   "source": [
    "49/2"
   ]
  },
  {
   "cell_type": "code",
   "execution_count": null,
   "id": "a21e21fb-3926-4b69-8341-7af3873ee14b",
   "metadata": {},
   "outputs": [],
   "source": []
  }
 ],
 "metadata": {
  "kernelspec": {
   "display_name": "Python 3 (ipykernel)",
   "language": "python",
   "name": "python3"
  },
  "language_info": {
   "codemirror_mode": {
    "name": "ipython",
    "version": 3
   },
   "file_extension": ".py",
   "mimetype": "text/x-python",
   "name": "python",
   "nbconvert_exporter": "python",
   "pygments_lexer": "ipython3",
   "version": "3.8.10"
  }
 },
 "nbformat": 4,
 "nbformat_minor": 5
}
