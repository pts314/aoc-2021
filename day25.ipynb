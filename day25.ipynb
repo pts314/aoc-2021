{
 "cells": [
  {
   "cell_type": "code",
   "execution_count": 1,
   "id": "43488cd6-7906-455e-a12c-55f81305e02b",
   "metadata": {},
   "outputs": [],
   "source": [
    "import numpy as np\n",
    "import matplotlib.pyplot as plt\n",
    "import copy\n",
    "import math\n",
    "import time"
   ]
  },
  {
   "cell_type": "code",
   "execution_count": 11,
   "id": "44a3239a-18c0-4cd5-9acf-d7a3dbac5850",
   "metadata": {},
   "outputs": [],
   "source": [
    "with open(\"/home/peter/Downloads/AdventOfCode/day25Input.txt\") as fh:\n",
    "    lines = fh.readlines()\n",
    "#with open(\"/home/peter/Downloads/AdventOfCode/day25Test.txt\") as fh:\n",
    "#    lines = fh.readlines()\n"
   ]
  },
  {
   "cell_type": "code",
   "execution_count": 12,
   "id": "187ed444-4410-41e6-92bf-9c734d72431e",
   "metadata": {},
   "outputs": [],
   "source": [
    "def npFromLines(lines):\n",
    "    board = np.zeros(shape=(len(lines),len(lines[0].strip())),dtype=np.int16)\n",
    "    for i in range(len(lines)):\n",
    "        for j in range(len(lines[i].strip())):\n",
    "            val = 0\n",
    "            if lines[i][j] == \">\":\n",
    "                val = 1\n",
    "            elif lines[i][j] == \"v\":\n",
    "                val = 4\n",
    "            board[i][j] = val\n",
    "    return board\n",
    "board = npFromLines(lines)\n"
   ]
  },
  {
   "cell_type": "code",
   "execution_count": 13,
   "id": "f90c7cc3-f16e-4925-b984-411a6afc2c9c",
   "metadata": {},
   "outputs": [],
   "source": [
    "def update(board):\n",
    "    changed = False\n",
    "    # do east\n",
    "    # east = 1\n",
    "    for i in range(board.shape[0]):\n",
    "        for j in range(board.shape[1]):\n",
    "            # j is east\n",
    "            nextv = j+1 if j < board.shape[1]-1 else 0\n",
    "            if board[i,nextv] == 0:\n",
    "                changed = True\n",
    "                board[i,nextv] = 1\n",
    "                board[i,j] = -1\n",
    "    board[board==-1] = 0\n",
    "    \n",
    "    # do south\n",
    "    for i in range(board.shape[0]):\n",
    "        nextv = i+1 if i < board.shape[0]-1 else 0\n",
    "        for j in range(board.shape[1]):\n",
    "            # j is east\n",
    "            if board[nextv,j] == 0:\n",
    "                changed = True\n",
    "                board[nextv,j] = 1\n",
    "                board[i,j] = -1\n",
    "    board[board==-1] = 0\n",
    "    return board,changed\n",
    "\n",
    "def take2(board):\n",
    "    # do east\n",
    "    first = np.roll(board,1,axis=1)\n",
    "    mask = (first == 1) & (board == 0)\n",
    "    changed = mask.any()\n",
    "    board[mask] = 1\n",
    "    board[np.roll(mask,-1,axis=1)] = 0\n",
    "    \n",
    "    # do south\n",
    "    first = np.roll(board,1,axis=0)\n",
    "    mask = (first == 4) & (board == 0)\n",
    "    board[mask] = 4\n",
    "    board[np.roll(mask,-1,axis=0)] = 0\n",
    "    changed |= mask.any()\n",
    "    return board,changed"
   ]
  },
  {
   "cell_type": "code",
   "execution_count": 14,
   "id": "64d1875f-7297-4ca1-a4ce-df6c69479baf",
   "metadata": {},
   "outputs": [
    {
     "name": "stdout",
     "output_type": "stream",
     "text": [
      "[[0 0 4 0 4]\n",
      " [4 1 1 0 1]\n",
      " [0 4 0 1 0]\n",
      " [1 0 0 0 4]\n",
      " [1 4 4 1 0]]\n",
      "[[False False False False False]\n",
      " [False False False  True False]\n",
      " [False False False False  True]\n",
      " [False  True False False False]\n",
      " [False False False False  True]]\n"
     ]
    }
   ],
   "source": [
    "board = npFromLines(lines)\n",
    "print(board[0:5,0:5])\n",
    "first = np.roll(board[0:5,0:5],1,axis=1)\n",
    "second = board[0:5,0:5]\n",
    "#first == 1 && second == 0\n",
    "print((np.roll(board[0:5,0:5],1,axis=1)==1) & (board[0:5,0:5] == 0))\n"
   ]
  },
  {
   "cell_type": "code",
   "execution_count": 15,
   "id": "1512605d-0e5e-418c-b5fb-daed8206756c",
   "metadata": {},
   "outputs": [
    {
     "name": "stdout",
     "output_type": "stream",
     "text": [
      "[[0 0 4 ... 1 1 0]\n",
      " [4 1 1 ... 1 0 0]\n",
      " [0 4 0 ... 0 4 0]\n",
      " ...\n",
      " [0 4 4 ... 0 0 0]\n",
      " [4 0 1 ... 1 4 0]\n",
      " [4 1 0 ... 0 0 4]]\n",
      "i == 100\n",
      "i == 200\n",
      "i == 300\n",
      "finished part two\n",
      "final i was  374\n"
     ]
    }
   ],
   "source": [
    "board = npFromLines(lines)\n",
    "i = 0\n",
    "changed = True\n",
    "print(board)\n",
    "#for i in range(60):\n",
    "while changed:\n",
    "    board,changed = take2(board)\n",
    "    i += 1\n",
    "    if i > 500:\n",
    "        print(\"i ==\",i)\n",
    "        print(board)\n",
    "        print(changed)\n",
    "    if (i % 100 == 0):\n",
    "        print(\"i ==\",i)\n",
    "print(\"finished part two\")\n",
    "print(\"final i was \",i)\n",
    "\n"
   ]
  },
  {
   "cell_type": "code",
   "execution_count": 7,
   "id": "030d0a98-fe34-457a-a022-36b7b5a1b2ad",
   "metadata": {},
   "outputs": [
    {
     "data": {
      "text/plain": [
       "0"
      ]
     },
     "execution_count": 7,
     "metadata": {},
     "output_type": "execute_result"
    }
   ],
   "source": [
    "board[1,0]"
   ]
  },
  {
   "cell_type": "code",
   "execution_count": 8,
   "id": "4574cc5a-c162-4ee4-be7b-5e21ea937cc7",
   "metadata": {},
   "outputs": [
    {
     "name": "stdout",
     "output_type": "stream",
     "text": [
      "[[False False  True  True False  True False False False False]\n",
      " [False False False False  True  True False False False False]\n",
      " [False False  True  True False  True  True False False False]\n",
      " [False False  True  True  True  True  True False False False]\n",
      " [False False False False False False False  True False False]\n",
      " [False  True False False False False False  True  True False]\n",
      " [False False False False False False False False  True  True]\n",
      " [ True False False False False False False False False  True]\n",
      " [False  True False False False False False False False False]]\n"
     ]
    }
   ],
   "source": [
    "foo = board==1\n",
    "print(foo)\n",
    "board[foo].shape\n",
    "board[foo] = 100"
   ]
  },
  {
   "cell_type": "code",
   "execution_count": 9,
   "id": "cc9966b4-0f75-433e-9f0b-9f260cd4b942",
   "metadata": {},
   "outputs": [
    {
     "data": {
      "text/plain": [
       "array([[  0,   0, 100, 100,   4, 100,   4,   4,   0,   0],\n",
       "       [  0,   0,   4,   0, 100, 100,   4,   4,   0,   0],\n",
       "       [  0,   0, 100, 100,   4, 100, 100,   4,   4,   0],\n",
       "       [  0,   0, 100, 100, 100, 100, 100,   4,   4,   0],\n",
       "       [  4,   0,   0,   0,   0,   0,   0, 100,   4,   4],\n",
       "       [  4, 100,   4,   0,   0,   0,   0, 100, 100,   4],\n",
       "       [  4,   4,   4,   0,   0,   0,   0,   0, 100, 100],\n",
       "       [100,   4,   4,   0,   0,   0,   0,   0,   0, 100],\n",
       "       [  0, 100,   4,   0,   4,   4,   0,   4,   0,   0]], dtype=int16)"
      ]
     },
     "execution_count": 9,
     "metadata": {},
     "output_type": "execute_result"
    }
   ],
   "source": [
    "board"
   ]
  },
  {
   "cell_type": "code",
   "execution_count": null,
   "id": "8c3bda35-360c-426a-8363-ba19d2357bd8",
   "metadata": {},
   "outputs": [],
   "source": []
  }
 ],
 "metadata": {
  "kernelspec": {
   "display_name": "Python 3 (ipykernel)",
   "language": "python",
   "name": "python3"
  },
  "language_info": {
   "codemirror_mode": {
    "name": "ipython",
    "version": 3
   },
   "file_extension": ".py",
   "mimetype": "text/x-python",
   "name": "python",
   "nbconvert_exporter": "python",
   "pygments_lexer": "ipython3",
   "version": "3.8.10"
  }
 },
 "nbformat": 4,
 "nbformat_minor": 5
}
