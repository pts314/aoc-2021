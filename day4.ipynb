{
 "cells": [
  {
   "cell_type": "code",
   "execution_count": 1,
   "id": "a3e5ae4d-292a-4c71-a60f-8c765f4fc62c",
   "metadata": {},
   "outputs": [],
   "source": [
    "import numpy as np"
   ]
  },
  {
   "cell_type": "code",
   "execution_count": 2,
   "id": "2c11c727-5eae-4c46-a219-f3a85b316c7f",
   "metadata": {},
   "outputs": [],
   "source": [
    "with open(\"/home/peter/Downloads/AdventOfCode/day4Input.txt\") as fh:\n",
    "    lines = fh.readlines()"
   ]
  },
  {
   "cell_type": "code",
   "execution_count": 3,
   "id": "8d652945-bc85-4f84-b5cc-fbdd9395d656",
   "metadata": {},
   "outputs": [],
   "source": [
    "testInput = \"\"\"\n",
    "\"\"\"\n",
    "alines = testInput.split(\"\\n\")\n",
    "def getBoards(lines):\n",
    "    boards = np.zeros(shape=(100,2,5,5),dtype= np.int32)\n",
    "    random_numbers = lines[0]\n",
    "    count = -1;\n",
    "    boardNum = -1;\n",
    "    for line in lines[1:]:\n",
    "        if count == -1:\n",
    "            boardNum+=1\n",
    "            # new board, empty line, no content\n",
    "        else:\n",
    "            row = np.array([int(x) for x in line.split()])\n",
    "            boards[boardNum][0][count] = row\n",
    "        count+=1\n",
    "        if count >= 5:\n",
    "            count = -1\n",
    "    return boards"
   ]
  },
  {
   "cell_type": "code",
   "execution_count": 7,
   "id": "e88cf4af-d81d-41ca-aa32-0c176056598d",
   "metadata": {},
   "outputs": [],
   "source": [
    "foo = np.zeros(shape=(5,5))\n",
    "random_numbers = lines[0]"
   ]
  },
  {
   "cell_type": "code",
   "execution_count": 8,
   "id": "cd97331f-2e73-42c6-accd-25f8e880acf0",
   "metadata": {},
   "outputs": [],
   "source": [
    "foo[0] = np.array([int(x) for x in lines[2].split()])"
   ]
  },
  {
   "cell_type": "code",
   "execution_count": 9,
   "id": "e6776001-1016-42f0-beca-35551e8e16b9",
   "metadata": {},
   "outputs": [],
   "source": [
    "numbers = [int(x) for x in random_numbers.split(\",\")]"
   ]
  },
  {
   "cell_type": "code",
   "execution_count": 10,
   "id": "780f65d3-ae2d-4ae4-b302-bd1e3e5254c4",
   "metadata": {},
   "outputs": [],
   "source": [
    "def updateBoards(ranNum, boards):\n",
    "    for board in boards:\n",
    "        # each board:\n",
    "        #print(\"starting board\")\n",
    "        for rowNum in range(5):\n",
    "            #print(\"row is \",board[0][rowNum])\n",
    "            for colNum in range(5):\n",
    "                #print(\"col is \", board[0][rowNum][colNum])\n",
    "                el = board[0][rowNum][colNum]\n",
    "                if el == ranNum:\n",
    "                    #print(\"matched\", el, ranNum)\n",
    "                    board[1][rowNum][colNum] = 1"
   ]
  },
  {
   "cell_type": "code",
   "execution_count": 11,
   "id": "faa84426-f85d-4356-8ae8-7f3c5d7d3eaa",
   "metadata": {},
   "outputs": [],
   "source": [
    "def checkCol(board):\n",
    "    for row in range(5):\n",
    "        for col in range(5):\n",
    "            if board[1][row][col] != 1:\n",
    "                break\n",
    "            if col == 4:\n",
    "                return True\n",
    "    return False\n",
    "\n",
    "def checkRow(board):\n",
    "    for col in range(5):\n",
    "        for row in range(5):\n",
    "            if board[1][row][col] != 1:\n",
    "                break\n",
    "            if row == 4:\n",
    "                return True\n",
    "    return False\n",
    "\n",
    "def checkDia(board):\n",
    "    for x in range(5):\n",
    "        if board[1][x][x] != 1:\n",
    "            break\n",
    "        if x == 4:\n",
    "            return True\n",
    "    for x in range(5):\n",
    "        if board[1][x][4-x] != 1:\n",
    "            break\n",
    "        if x == 4:\n",
    "            return True\n",
    "    return False\n",
    "    \n",
    "def checkBoards(boards):\n",
    "    #check boards for wins:\n",
    "    index = 0\n",
    "    for board in boards:\n",
    "        win = False\n",
    "        #check col\n",
    "        win |= checkCol(board)\n",
    "        #check row\n",
    "        win |= checkRow(board)\n",
    "        #check diagonal\n",
    "        win |= checkDia(board)\n",
    "        if win:\n",
    "            return board,index\n",
    "        index+=1\n",
    "    return (None,None)"
   ]
  },
  {
   "cell_type": "code",
   "execution_count": 14,
   "id": "29e1af66-89c7-48d5-8d57-0ec06c648ff9",
   "metadata": {},
   "outputs": [
    {
     "name": "stdout",
     "output_type": "stream",
     "text": [
      "(100, 2, 5, 5)\n",
      "42\n",
      "(100, 2, 5, 5)\n",
      "44\n",
      "(100, 2, 5, 5)\n",
      "71\n",
      "(100, 2, 5, 5)\n",
      "26\n",
      "(100, 2, 5, 5)\n",
      "70\n",
      "(100, 2, 5, 5)\n",
      "92\n",
      "(100, 2, 5, 5)\n",
      "77\n",
      "(100, 2, 5, 5)\n",
      "45\n",
      "(100, 2, 5, 5)\n",
      "6\n",
      "(100, 2, 5, 5)\n",
      "18\n",
      "(100, 2, 5, 5)\n",
      "79\n",
      "(100, 2, 5, 5)\n",
      "54\n",
      "(100, 2, 5, 5)\n",
      "31\n",
      "(100, 2, 5, 5)\n",
      "34\n",
      "(100, 2, 5, 5)\n",
      "64\n",
      "(100, 2, 5, 5)\n",
      "32\n",
      "(100, 2, 5, 5)\n",
      "16\n",
      "(100, 2, 5, 5)\n",
      "55\n",
      "(100, 2, 5, 5)\n",
      "81\n",
      "(100, 2, 5, 5)\n",
      "11\n",
      "(100, 2, 5, 5)\n",
      "90\n",
      "(100, 2, 5, 5)\n",
      "10\n",
      "(99, 2, 5, 5)\n",
      "21\n",
      "(99, 2, 5, 5)\n",
      "87\n",
      "(99, 2, 5, 5)\n",
      "0\n",
      "(99, 2, 5, 5)\n",
      "84\n",
      "(98, 2, 5, 5)\n",
      "8\n",
      "(98, 2, 5, 5)\n",
      "23\n",
      "(98, 2, 5, 5)\n",
      "1\n",
      "(98, 2, 5, 5)\n",
      "12\n",
      "(96, 2, 5, 5)\n",
      "60\n",
      "(95, 2, 5, 5)\n",
      "20\n",
      "(95, 2, 5, 5)\n",
      "57\n",
      "(93, 2, 5, 5)\n",
      "68\n",
      "(92, 2, 5, 5)\n",
      "61\n",
      "(92, 2, 5, 5)\n",
      "82\n",
      "(92, 2, 5, 5)\n",
      "49\n",
      "(91, 2, 5, 5)\n",
      "59\n",
      "(88, 2, 5, 5)\n",
      "22\n",
      "(87, 2, 5, 5)\n",
      "2\n",
      "(86, 2, 5, 5)\n",
      "63\n",
      "(86, 2, 5, 5)\n",
      "33\n",
      "(86, 2, 5, 5)\n",
      "50\n",
      "(84, 2, 5, 5)\n",
      "39\n",
      "(83, 2, 5, 5)\n",
      "28\n",
      "(83, 2, 5, 5)\n",
      "30\n",
      "(83, 2, 5, 5)\n",
      "88\n",
      "(79, 2, 5, 5)\n",
      "41\n",
      "(78, 2, 5, 5)\n",
      "69\n",
      "(77, 2, 5, 5)\n",
      "72\n",
      "(74, 2, 5, 5)\n",
      "98\n",
      "(72, 2, 5, 5)\n",
      "73\n",
      "(69, 2, 5, 5)\n",
      "7\n",
      "(67, 2, 5, 5)\n",
      "65\n",
      "(63, 2, 5, 5)\n",
      "53\n",
      "(61, 2, 5, 5)\n",
      "35\n",
      "(57, 2, 5, 5)\n",
      "96\n",
      "(55, 2, 5, 5)\n",
      "67\n",
      "(48, 2, 5, 5)\n",
      "36\n",
      "(46, 2, 5, 5)\n",
      "4\n",
      "(45, 2, 5, 5)\n",
      "51\n",
      "(43, 2, 5, 5)\n",
      "75\n",
      "(41, 2, 5, 5)\n",
      "24\n",
      "(40, 2, 5, 5)\n",
      "86\n",
      "(37, 2, 5, 5)\n",
      "97\n",
      "(34, 2, 5, 5)\n",
      "85\n",
      "(33, 2, 5, 5)\n",
      "66\n",
      "(28, 2, 5, 5)\n",
      "29\n",
      "(23, 2, 5, 5)\n",
      "74\n",
      "(20, 2, 5, 5)\n",
      "40\n",
      "(18, 2, 5, 5)\n",
      "93\n",
      "(15, 2, 5, 5)\n",
      "58\n",
      "(14, 2, 5, 5)\n",
      "9\n",
      "(12, 2, 5, 5)\n",
      "62\n",
      "(10, 2, 5, 5)\n",
      "95\n",
      "(9, 2, 5, 5)\n",
      "91\n",
      "(7, 2, 5, 5)\n",
      "80\n",
      "(7, 2, 5, 5)\n",
      "99\n",
      "(6, 2, 5, 5)\n",
      "14\n",
      "(5, 2, 5, 5)\n",
      "19\n",
      "(5, 2, 5, 5)\n",
      "43\n",
      "(4, 2, 5, 5)\n",
      "37\n",
      "(2, 2, 5, 5)\n",
      "27\n",
      "(2, 2, 5, 5)\n",
      "56\n",
      "(1, 2, 5, 5)\n",
      "94\n",
      "(0, 2, 5, 5)\n",
      "25\n",
      "(0, 2, 5, 5)\n",
      "83\n",
      "(0, 2, 5, 5)\n",
      "48\n",
      "(0, 2, 5, 5)\n",
      "17\n",
      "(0, 2, 5, 5)\n",
      "38\n",
      "(0, 2, 5, 5)\n",
      "78\n",
      "(0, 2, 5, 5)\n",
      "15\n",
      "(0, 2, 5, 5)\n",
      "52\n",
      "(0, 2, 5, 5)\n",
      "76\n",
      "(0, 2, 5, 5)\n",
      "5\n",
      "(0, 2, 5, 5)\n",
      "13\n",
      "(0, 2, 5, 5)\n",
      "46\n",
      "(0, 2, 5, 5)\n",
      "89\n",
      "(0, 2, 5, 5)\n",
      "47\n",
      "(0, 2, 5, 5)\n",
      "3\n"
     ]
    }
   ],
   "source": [
    "boards = getBoards(lines)\n",
    "winner = None\n",
    "for num in numbers:\n",
    "    updateBoards(num, boards)\n",
    "    winner, index = checkBoards(boards)\n",
    "    #if winner is not None and boards.shape[0] < 3:\n",
    "     #   break\n",
    "    while winner is not None:\n",
    "        lastWinner = winner\n",
    "        # remove that index from boards\n",
    "        #print(boards.shape)\n",
    "        boards = np.delete(boards,index,axis=0)\n",
    "        # find the next winner\n",
    "        winner, index = checkBoards(boards)\n",
    "    print(boards.shape)\n",
    "    print(num)\n",
    "    #if boards.shape[0] == 1:\n",
    "        #break"
   ]
  },
  {
   "cell_type": "code",
   "execution_count": 16,
   "id": "14949fa7-a15a-4141-96b2-d5561c872b4c",
   "metadata": {},
   "outputs": [
    {
     "name": "stdout",
     "output_type": "stream",
     "text": [
      "[[[ 1 27 74 89  4]\n",
      "  [29  9 78 48 54]\n",
      "  [10 38 13 40 49]\n",
      "  [71 73 79 77 17]\n",
      "  [25 22 91 20  2]]\n",
      "\n",
      " [[ 1  1  1  0  1]\n",
      "  [ 1  1  0  0  1]\n",
      "  [ 1  0  0  1  1]\n",
      "  [ 1  1  1  1  0]\n",
      "  [ 1  1  1  1  1]]]\n"
     ]
    }
   ],
   "source": [
    "print(lastWinner)\n"
   ]
  },
  {
   "cell_type": "code",
   "execution_count": null,
   "id": "711819b2-51f8-45f2-a700-e397b1cc3cfc",
   "metadata": {},
   "outputs": [],
   "source": [
    "print(numbers)"
   ]
  },
  {
   "cell_type": "code",
   "execution_count": 17,
   "id": "0548d61a-8bdc-4f8c-8b5b-1169eb656d8e",
   "metadata": {},
   "outputs": [
    {
     "name": "stdout",
     "output_type": "stream",
     "text": [
      "[[[ 1 27 74 89  4]\n",
      "  [29  9 78 48 54]\n",
      "  [10 38 13 40 49]\n",
      "  [71 73 79 77 17]\n",
      "  [25 22 91 20  2]]\n",
      "\n",
      " [[ 1  1  1  0  1]\n",
      "  [ 1  1  0  0  1]\n",
      "  [ 1  0  0  1  1]\n",
      "  [ 1  1  1  1  0]\n",
      "  [ 1  1  1  1  1]]]\n"
     ]
    }
   ],
   "source": [
    "print(lastWinner)\n",
    "winner = lastWinner"
   ]
  },
  {
   "cell_type": "code",
   "execution_count": 18,
   "id": "f2665ef4-8285-4cc6-a864-895d8c62d778",
   "metadata": {},
   "outputs": [
    {
     "name": "stdout",
     "output_type": "stream",
     "text": [
      "283\n"
     ]
    }
   ],
   "source": [
    "sum = 0\n",
    "for i in range(5):\n",
    "    for j in range(5):\n",
    "        if winner[1][i][j] == 0:\n",
    "            sum += winner[0][i][j]\n",
    "print(sum)"
   ]
  },
  {
   "cell_type": "code",
   "execution_count": 19,
   "id": "a5d0478c-4067-4505-801f-d851874a2a35",
   "metadata": {},
   "outputs": [
    {
     "data": {
      "text/plain": [
       "7075"
      ]
     },
     "execution_count": 19,
     "metadata": {},
     "output_type": "execute_result"
    }
   ],
   "source": [
    "283*25\n"
   ]
  },
  {
   "cell_type": "code",
   "execution_count": null,
   "id": "f75c4245-f7ae-420f-a37a-9b5cd8ca1b23",
   "metadata": {},
   "outputs": [],
   "source": [
    "print(lastWinner)"
   ]
  },
  {
   "cell_type": "code",
   "execution_count": null,
   "id": "6d837d60-3e60-461a-bbe2-c3254d3edde0",
   "metadata": {},
   "outputs": [],
   "source": [
    "print(len(boards))"
   ]
  },
  {
   "cell_type": "code",
   "execution_count": null,
   "id": "06f42fac-c881-46a2-b148-79307baee0f7",
   "metadata": {},
   "outputs": [],
   "source": [
    "blah = np.delete(blah,2,axis=0)\n",
    "print(len(blah))"
   ]
  },
  {
   "cell_type": "code",
   "execution_count": null,
   "id": "548238a7-036c-4fb0-bf83-9a615753d858",
   "metadata": {},
   "outputs": [],
   "source": [
    "print(blah)"
   ]
  },
  {
   "cell_type": "code",
   "execution_count": null,
   "id": "c7a125ed-6fa1-49b5-a687-75695906614d",
   "metadata": {},
   "outputs": [],
   "source": []
  }
 ],
 "metadata": {
  "kernelspec": {
   "display_name": "Python 3 (ipykernel)",
   "language": "python",
   "name": "python3"
  },
  "language_info": {
   "codemirror_mode": {
    "name": "ipython",
    "version": 3
   },
   "file_extension": ".py",
   "mimetype": "text/x-python",
   "name": "python",
   "nbconvert_exporter": "python",
   "pygments_lexer": "ipython3",
   "version": "3.8.10"
  }
 },
 "nbformat": 4,
 "nbformat_minor": 5
}
