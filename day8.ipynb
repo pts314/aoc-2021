{
 "cells": [
  {
   "cell_type": "code",
   "execution_count": 1,
   "id": "8a3d60db-31fb-4b33-9093-8f6dfb87ca86",
   "metadata": {},
   "outputs": [],
   "source": [
    "with open(\"/home/peter/Downloads/AdventOfCode/day8.txt\") as fh:\n",
    "    lines = fh.readlines()"
   ]
  },
  {
   "cell_type": "code",
   "execution_count": 2,
   "id": "ca191488-7cde-43f3-9ccb-8c37adfa45bd",
   "metadata": {},
   "outputs": [],
   "source": [
    "import numpy as np\n",
    "import copy"
   ]
  },
  {
   "cell_type": "code",
   "execution_count": 3,
   "id": "af98957f-08f7-4105-bcb2-2cda3bfd422e",
   "metadata": {},
   "outputs": [],
   "source": [
    "totalPossible = {}\n",
    "chars = \"abcdefg\"\n",
    "for i in chars:\n",
    "    totalPossible[i] = [x for x in chars]"
   ]
  },
  {
   "cell_type": "code",
   "execution_count": 4,
   "id": "86b0743b-bdef-4c73-a648-25522521e606",
   "metadata": {},
   "outputs": [],
   "source": [
    "count = 0\n",
    "goldenValues = {\n",
    "    0:\"abcefg\",\n",
    "    1:\"cf\",\n",
    "    2:\"acdeg\",\n",
    "    3:\"acdfg\",\n",
    "    4:\"bcdf\",\n",
    "    5:\"abdfg\",\n",
    "    6:\"abdefg\",\n",
    "    7:\"acf\",\n",
    "    8:\"abcdefg\",\n",
    "    9:\"abcdfg\",\n",
    "}\n",
    "for val in goldenValues:\n",
    "    goldenValues[val] = [char for char in goldenValues[val]]\n",
    "lengths = {}\n",
    "for val in range(10):\n",
    "    lengths[val] = []\n",
    "for val in goldenValues:\n",
    "    lengths[len(goldenValues[val])].append(val)    \n",
    "    \n",
    "    \n",
    "    \n",
    "def digitIsKnown(number,segments,possibleValues):\n",
    "    trueSegments = goldenValues[number]\n",
    "    for segment in segments:\n",
    "        oldValues = possibleValues[segment]\n",
    "        newVal = []\n",
    "        for old in oldValues:\n",
    "            if old in trueSegments:\n",
    "                newVal.append(old)\n",
    "        possibleValues[segment] = newVal\n",
    "    return possibleValues\n",
    "\n",
    "def removeNumbersFromOthers(possibleValues, safe, valuesToRemove):\n",
    "    #print(\"removeing \", valuesToRemove)\n",
    "    #print(\"safe \", safe)\n",
    "    for value in possibleValues:\n",
    "        if value not in safe:\n",
    "            newval = []\n",
    "            oldValues = possibleValues[value]\n",
    "            for val in oldValues:\n",
    "                if val not in valuesToRemove:\n",
    "                    newval.append(val)\n",
    "            possibleValues[value] = newval\n",
    "    return possibleValues\n",
    "\n",
    "\n",
    "def matrixize(possibleValues):\n",
    "    # if numbers appear in only a small number of segments, they can't appear in the others\n",
    "    \n",
    "    # unique number:\n",
    "    # if number is unique, remove from all others:\n",
    "    for value in possibleValues:\n",
    "        if len(possibleValues[value]) == 1:\n",
    "            possibleValues = removeNumbersFromOthers(possibleValues,value,possibleValues[value])\n",
    "        # do case of 2:\n",
    "        matchesNeeded = len(possibleValues[value])\n",
    "        matches = set(value)\n",
    "        for possibleMatch in possibleValues:\n",
    "            # find matches:\n",
    "            x = list(set(possibleValues[possibleMatch] + possibleValues[value]))\n",
    "            if x == possibleValues[value]:\n",
    "                matches.add(possibleMatch)\n",
    "        if len(matches) == matchesNeeded:\n",
    "            #print(\"found a match:\",matches)\n",
    "            # remove those values from all others:\n",
    "            possibleValues = removeNumbersFromOthers(possibleValues, matches, possibleValues[value])\n",
    "    return possibleValues\n",
    "\n",
    "def allAnswersFound(answer,possibleValues):\n",
    "    allDigitsFound = True\n",
    "    for digit in answer:\n",
    "        thisDigitFound = False\n",
    "        possibleDigits = lengths[len(digit)]\n",
    "        if len(possibleDigits) == 1:\n",
    "             thisDigitFound = True\n",
    "        else:\n",
    "            # more coplicated number:\n",
    "            # the digits need to make sense for the number we have:\n",
    "            newPosDigit = []\n",
    "            for posDigit in possibleDigits:\n",
    "                digitPossible = True\n",
    "                for seg in digit:\n",
    "                    viable = False\n",
    "                    for pos in possibleValues[seg]:\n",
    "                        if pos in goldenValues[posDigit]:\n",
    "                            viable = True\n",
    "                    if viable == False:\n",
    "                        digitPossible = False\n",
    "                if digitPossible:\n",
    "                    newPosDigit.append(posDigit)\n",
    "            if len(newPosDigit) == 1:\n",
    "                print(\"found a new digit this way\")\n",
    "        allDigitsFound &= thisDigitFound\n",
    "    return False\n",
    "        \n",
    "def findValues(line):\n",
    "    # possible values maps from the current segment lit up to what it means\n",
    "    possibleValues = copy.deepcopy(totalPossible)\n",
    "    data, answer = line.strip().split(\"|\")\n",
    "    digits = line.strip().replace(\"|\",\"\").split(\" \")\n",
    "    old = {}\n",
    "    while possibleValues != old and not allAnswersFound(answer,possibleValues):\n",
    "        old = copy.deepcopy(possibleValues)\n",
    "        for digit in digits:\n",
    "            digit = sorted([x for x in digit])\n",
    "            # we want to map messed segments to golden\n",
    "            # so start with the ones we know (probably) and go from there:\n",
    "            \n",
    "            # first do the easy ones:\n",
    "            possibleDigits = lengths[len(digit)]\n",
    "        \n",
    "            if len(possibleDigits) == 1:\n",
    "                possibleValues = digitIsKnown(possibleDigits[0],digit,possibleValues)\n",
    "            possibleValues = matrixize(possibleValues)\n",
    "    if allAnswersFound(answer,possibleValues):\n",
    "        print(\"yay\")\n",
    "    return possibleValues    \n",
    "        \n",
    "for line in lines:\n",
    "    data, answer = line.split(\"|\")\n",
    "    for digit in answer.split(\" \"):\n",
    "        if digit == \"\":\n",
    "            continue\n",
    "        dig = len(digit.strip())\n",
    "        if dig == 2:\n",
    "            # it's a one\n",
    "            count+= 1\n",
    "        elif dig == 4:\n",
    "            # it's a 4\n",
    "            count+= 1\n",
    "        elif dig == 3:\n",
    "            # it's a seven\n",
    "            count+= 1\n",
    "        elif dig == 7:\n",
    "            # it's an eight\n",
    "            count+= 1"
   ]
  },
  {
   "cell_type": "code",
   "execution_count": 5,
   "id": "9b818738-d5ef-4089-964b-7849633550e5",
   "metadata": {},
   "outputs": [
    {
     "name": "stdout",
     "output_type": "stream",
     "text": [
      "473\n"
     ]
    }
   ],
   "source": [
    "print(count)"
   ]
  },
  {
   "cell_type": "code",
   "execution_count": 6,
   "id": "9db5839a-2b8a-4431-854c-7736d833ff91",
   "metadata": {},
   "outputs": [
    {
     "data": {
      "text/plain": [
       "['a', 'b', 'f', 'o', 'o', 'r']"
      ]
     },
     "execution_count": 6,
     "metadata": {},
     "output_type": "execute_result"
    }
   ],
   "source": [
    "sorted([x for x in \"foobar\"])"
   ]
  },
  {
   "cell_type": "code",
   "execution_count": 7,
   "id": "492f3136-3bd7-4c94-9427-d505e2623333",
   "metadata": {},
   "outputs": [
    {
     "name": "stdout",
     "output_type": "stream",
     "text": [
      "{0: [], 1: [], 2: [1], 3: [7], 4: [4], 5: [2, 3, 5], 6: [0, 6, 9], 7: [8], 8: [], 9: []}\n"
     ]
    }
   ],
   "source": [
    "print(lengths)"
   ]
  },
  {
   "cell_type": "code",
   "execution_count": null,
   "id": "d5190267-0671-467d-9f09-178d123173c2",
   "metadata": {},
   "outputs": [],
   "source": []
  },
  {
   "cell_type": "code",
   "execution_count": 8,
   "id": "d3241f0e-8fb8-4a9b-9400-be1d231cddd1",
   "metadata": {},
   "outputs": [
    {
     "name": "stdout",
     "output_type": "stream",
     "text": [
      "{'a': ['a', 'b', 'c', 'd', 'e', 'f', 'g'], 'b': ['a', 'b', 'c', 'd', 'e', 'f', 'g'], 'c': ['a', 'b', 'c', 'd', 'e', 'f', 'g'], 'd': ['a', 'b', 'c', 'd', 'e', 'f', 'g'], 'e': ['a', 'b', 'c', 'd', 'e', 'f', 'g'], 'f': ['a', 'b', 'c', 'd', 'e', 'f', 'g'], 'g': ['a', 'b', 'c', 'd', 'e', 'f', 'g']}\n"
     ]
    }
   ],
   "source": [
    "print(totalPossible)"
   ]
  },
  {
   "cell_type": "code",
   "execution_count": 9,
   "id": "1bc029c6-d994-4d38-81a3-e10f3e584abe",
   "metadata": {},
   "outputs": [],
   "source": [
    "foo = copy.deepcopy(totalPossible)"
   ]
  },
  {
   "cell_type": "code",
   "execution_count": 10,
   "id": "15525ae3-9b1a-4896-84bf-346aa8ce86d0",
   "metadata": {},
   "outputs": [],
   "source": [
    "foo = findValues(lines[1])"
   ]
  },
  {
   "cell_type": "code",
   "execution_count": 11,
   "id": "1ed2c1d4-bc0e-43db-9ea7-c543e69afe62",
   "metadata": {},
   "outputs": [
    {
     "data": {
      "text/plain": [
       "{'a': ['a'],\n",
       " 'b': ['b', 'd'],\n",
       " 'c': ['b', 'd', 'e', 'g'],\n",
       " 'd': ['b', 'd'],\n",
       " 'e': ['c', 'f'],\n",
       " 'f': ['b', 'd', 'e', 'g'],\n",
       " 'g': ['c', 'f']}"
      ]
     },
     "execution_count": 11,
     "metadata": {},
     "output_type": "execute_result"
    }
   ],
   "source": [
    "foo"
   ]
  },
  {
   "cell_type": "code",
   "execution_count": 12,
   "id": "193592bc-e82a-478e-94a6-1c814693d535",
   "metadata": {},
   "outputs": [],
   "source": [
    "blah = set(foo[\"e\"] + foo[\"g\"])"
   ]
  },
  {
   "cell_type": "code",
   "execution_count": 13,
   "id": "2a7694d9-3c43-4d37-a746-92a8b1aeb342",
   "metadata": {},
   "outputs": [
    {
     "data": {
      "text/plain": [
       "True"
      ]
     },
     "execution_count": 13,
     "metadata": {},
     "output_type": "execute_result"
    }
   ],
   "source": [
    "list(blah) == foo[\"e\"]"
   ]
  },
  {
   "cell_type": "code",
   "execution_count": 14,
   "id": "5a924f51-2c35-4658-a587-dddcb594c48b",
   "metadata": {},
   "outputs": [],
   "source": [
    "goo = set([\"a\",\"b\"])"
   ]
  },
  {
   "cell_type": "code",
   "execution_count": 15,
   "id": "7c0259bb-5265-4908-8df7-93b8d85982af",
   "metadata": {},
   "outputs": [
    {
     "data": {
      "text/plain": [
       "2"
      ]
     },
     "execution_count": 15,
     "metadata": {},
     "output_type": "execute_result"
    }
   ],
   "source": [
    "len(goo)"
   ]
  },
  {
   "cell_type": "code",
   "execution_count": 16,
   "id": "bbb69466-a045-4de4-a84f-5452d13262fa",
   "metadata": {},
   "outputs": [
    {
     "data": {
      "text/plain": [
       "{0: ['a', 'b', 'c', 'e', 'f', 'g'],\n",
       " 1: ['c', 'f'],\n",
       " 2: ['a', 'c', 'd', 'e', 'g'],\n",
       " 3: ['a', 'c', 'd', 'f', 'g'],\n",
       " 4: ['b', 'c', 'd', 'f'],\n",
       " 5: ['a', 'b', 'd', 'f', 'g'],\n",
       " 6: ['a', 'b', 'd', 'e', 'f', 'g'],\n",
       " 7: ['a', 'c', 'f'],\n",
       " 8: ['a', 'b', 'c', 'd', 'e', 'f', 'g'],\n",
       " 9: ['a', 'b', 'c', 'd', 'f', 'g']}"
      ]
     },
     "execution_count": 16,
     "metadata": {},
     "output_type": "execute_result"
    }
   ],
   "source": [
    "goldenValues"
   ]
  },
  {
   "cell_type": "code",
   "execution_count": 17,
   "id": "67931b69-210f-4588-84e3-816f3b7dc7a9",
   "metadata": {},
   "outputs": [
    {
     "data": {
      "text/plain": [
       "{0: [],\n",
       " 1: [],\n",
       " 2: [1],\n",
       " 3: [7],\n",
       " 4: [4],\n",
       " 5: [2, 3, 5],\n",
       " 6: [0, 6, 9],\n",
       " 7: [8],\n",
       " 8: [],\n",
       " 9: []}"
      ]
     },
     "execution_count": 17,
     "metadata": {},
     "output_type": "execute_result"
    }
   ],
   "source": [
    "lengths"
   ]
  },
  {
   "cell_type": "code",
   "execution_count": 18,
   "id": "b4f1bcb9-e289-4d62-8ede-50858fbbbae7",
   "metadata": {},
   "outputs": [
    {
     "name": "stdout",
     "output_type": "stream",
     "text": [
      "ebafgc feadcb deagf gdacf gae edbg ge bcefagd dgbefa ebfda | eg bgfaed fgdaecb agcdbfe\n",
      "\n"
     ]
    }
   ],
   "source": [
    "print(lines[1])"
   ]
  },
  {
   "cell_type": "code",
   "execution_count": 19,
   "id": "30bc26bc-f9aa-4095-970d-79e8bacd9e6e",
   "metadata": {},
   "outputs": [
    {
     "ename": "SyntaxError",
     "evalue": "invalid syntax (435910206.py, line 1)",
     "output_type": "error",
     "traceback": [
      "\u001b[0;36m  File \u001b[0;32m\"/tmp/ipykernel_56158/435910206.py\"\u001b[0;36m, line \u001b[0;32m1\u001b[0m\n\u001b[0;31m    uniques = 1 4 7 8\u001b[0m\n\u001b[0m                ^\u001b[0m\n\u001b[0;31mSyntaxError\u001b[0m\u001b[0;31m:\u001b[0m invalid syntax\n"
     ]
    }
   ],
   "source": [
    "uniques = 1 4 7 8\n",
    "\n",
    "a = 7 - 1\n",
    "b d = 4 - 1\n",
    "e =  6 - 5\n",
    "difference: 6s c d e\n",
    "in all :    5s a d g\n",
    "difference: 5s a b d g e\n",
    "9 - 3 = b\n"
   ]
  },
  {
   "cell_type": "code",
   "execution_count": null,
   "id": "f540a922-1f2b-4488-8a3e-4c9ab69b9e0a",
   "metadata": {},
   "outputs": [],
   "source": [
    "a = 7 - 1\n",
    "b = 4 - 1 - d\n",
    "c\n",
    "d = diff(6s) and and(5s)\n",
    "e\n",
    "f\n",
    "g \n",
    "\n",
    "\n",
    "9 - 4 = a g\n",
    "9 - 7 = b d g\n",
    "9 - 5 = c"
   ]
  },
  {
   "cell_type": "code",
   "execution_count": null,
   "id": "709a094d-f175-48bb-a560-9087786b0fdd",
   "metadata": {},
   "outputs": [],
   "source": [
    "0 = \n",
    "1 = len 2\n",
    "2\n",
    "3 = \n",
    "4 = len 4\n",
    "5\n",
    "6\n",
    "7 = len 3\n",
    "8 = len 7\n",
    "9 = "
   ]
  },
  {
   "cell_type": "code",
   "execution_count": null,
   "id": "48f77f00-d618-4c92-a3b1-d665b6176276",
   "metadata": {},
   "outputs": [],
   "source": [
    " aaaa\n",
    "b\n",
    "b\n",
    " dddd"
   ]
  },
  {
   "cell_type": "code",
   "execution_count": null,
   "id": "1727bfe0-dfe3-4df4-864c-7eb0ab7abda8",
   "metadata": {},
   "outputs": [],
   "source": [
    "line = \"acedgfb cdfbe gcdfa fbcad dab cefabd cdfgeb eafb cagedb ab | cdfeb fcadb cdfeb cdbaf\"\n",
    "data, answer = line.strip().split(\"|\")\n",
    "data = data.strip().split(\" \")\n",
    "data = [set([char for char in x]) for x in data]\n",
    "data"
   ]
  },
  {
   "cell_type": "code",
   "execution_count": null,
   "id": "43ad61f7-80ca-46dd-a26a-48d2a85af4ce",
   "metadata": {},
   "outputs": [],
   "source": [
    "trueValues = copy.deepcopy(totalPossible)\n",
    "trueValues"
   ]
  },
  {
   "cell_type": "code",
   "execution_count": 23,
   "id": "930e998e-16e9-4f83-961f-8fd56e62ac45",
   "metadata": {},
   "outputs": [],
   "source": [
    "def doLine(line):\n",
    "    trueValues = copy.deepcopy(totalPossible)\n",
    "    data, answer = line.strip().split(\"|\")\n",
    "    data = data.strip().split(\" \")\n",
    "    data = [set([char for char in x]) for x in data]\n",
    "    #print(\"data is \",data)\n",
    "    answer = answer.strip().split(\" \")\n",
    "    answer = [set([char for char in x]) for x in answer]\n",
    "    #print(\"answer is \",answer)\n",
    "    # start with the easy ones\n",
    "    knownNumbers = {}\n",
    "    fives = []\n",
    "    sixes = []\n",
    "    # fine numbers:\n",
    "    for digit in data:\n",
    "        dig = len(digit)\n",
    "        if dig == 2:\n",
    "            # it's a one\n",
    "            knownNumbers[1] = digit\n",
    "        elif dig == 4:\n",
    "            # it's a 4\n",
    "            knownNumbers[4] = digit\n",
    "        elif dig == 3:\n",
    "            # it's a seven\n",
    "            knownNumbers[7] = digit\n",
    "        elif dig == 7:\n",
    "            # it's an eight\n",
    "            knownNumbers[8] = digit\n",
    "        elif dig == 5:\n",
    "            fives.append(digit)\n",
    "        elif dig == 6:\n",
    "            sixes.append(digit)\n",
    "            \n",
    "    def symdiff(daSet):\n",
    "        ret = set()\n",
    "        ret = ret.union(daSet[0].symmetric_difference(daSet[1]))\n",
    "        ret = ret.union(daSet[0].symmetric_difference(daSet[2]))\n",
    "        return ret\n",
    "    diff6 = symdiff(sixes)\n",
    "    diff5 = symdiff(fives)\n",
    "    \n",
    "    def intersect(daSet):\n",
    "        ret = set()\n",
    "        ret = daSet[0].intersection(daSet[1])\n",
    "        ret = ret.intersection(daSet[2])\n",
    "        return ret\n",
    "    int6 = intersect(sixes)\n",
    "    int5 = intersect(fives)\n",
    "    \n",
    "    trueValues[\"a\"] = knownNumbers[7] - knownNumbers[1]\n",
    "    trueValues[\"d\"] = diff6.intersection(int5)\n",
    "    trueValues[\"b\"] = knownNumbers[4] - knownNumbers[1] - trueValues[\"d\"]\n",
    "    #knownNumbers[0] = knownNumbers[8] - set(\"d\")\n",
    "    trueValues[\"e\"] = diff6 - knownNumbers[4]\n",
    "    trueValues[\"c\"] = diff6 - trueValues[\"a\"] - trueValues[\"b\"] - trueValues[\"d\"] - trueValues[\"e\"]\n",
    "    trueValues[\"f\"] = knownNumbers[1] - trueValues[\"c\"]\n",
    "    trueValues[\"g\"] = int5 - trueValues[\"a\"] - trueValues[\"d\"]\n",
    "    \n",
    "    for foo in sixes:\n",
    "        if not trueValues[\"c\"].issubset(foo):\n",
    "            knownNumbers[6] = foo\n",
    "        if not trueValues[\"e\"].issubset(foo):\n",
    "            knownNumbers[9] = foo\n",
    "        if not trueValues[\"d\"].issubset(foo):\n",
    "            knownNumbers[0] = foo\n",
    "    for foo in fives:\n",
    "        if not trueValues[\"c\"].issubset(foo):\n",
    "            knownNumbers[5] = foo\n",
    "        elif not trueValues[\"f\"].issubset(foo):\n",
    "            knownNumbers[2] = foo\n",
    "        else:\n",
    "            knownNumbers[3] = foo\n",
    "    \n",
    "    msum = 0\n",
    "    for value in answer:\n",
    "        val = -1\n",
    "        for number in knownNumbers:\n",
    "            if knownNumbers[number] == value:\n",
    "                val = number\n",
    "        msum = msum*10 + val\n",
    "    return msum\n",
    "\n"
   ]
  },
  {
   "cell_type": "code",
   "execution_count": 24,
   "id": "354ffcc8-3011-4415-ac7c-59af39f987e6",
   "metadata": {},
   "outputs": [
    {
     "data": {
      "text/plain": [
       "7843"
      ]
     },
     "execution_count": 24,
     "metadata": {},
     "output_type": "execute_result"
    }
   ],
   "source": [
    "doLine(line)"
   ]
  },
  {
   "cell_type": "code",
   "execution_count": 25,
   "id": "83ab23c1-7ca3-46a0-8023-8132c66bb264",
   "metadata": {},
   "outputs": [],
   "source": [
    "msum = 0\n",
    "for line in lines:\n",
    "    msum += doLine(line)"
   ]
  },
  {
   "cell_type": "code",
   "execution_count": 26,
   "id": "11b87e97-7c91-43a7-80c5-5ff8f9f156b0",
   "metadata": {},
   "outputs": [
    {
     "data": {
      "text/plain": [
       "1097568"
      ]
     },
     "execution_count": 26,
     "metadata": {},
     "output_type": "execute_result"
    }
   ],
   "source": [
    "msum"
   ]
  },
  {
   "cell_type": "code",
   "execution_count": null,
   "id": "e4a6ff47-5e0e-492e-a10d-4c173ff6fbd2",
   "metadata": {},
   "outputs": [],
   "source": []
  }
 ],
 "metadata": {
  "kernelspec": {
   "display_name": "Python 3 (ipykernel)",
   "language": "python",
   "name": "python3"
  },
  "language_info": {
   "codemirror_mode": {
    "name": "ipython",
    "version": 3
   },
   "file_extension": ".py",
   "mimetype": "text/x-python",
   "name": "python",
   "nbconvert_exporter": "python",
   "pygments_lexer": "ipython3",
   "version": "3.8.10"
  }
 },
 "nbformat": 4,
 "nbformat_minor": 5
}
