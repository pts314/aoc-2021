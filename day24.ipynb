{
 "cells": [
  {
   "cell_type": "code",
   "execution_count": 7,
   "id": "28558b96-c2f5-4026-a104-30f340eb5fa2",
   "metadata": {},
   "outputs": [],
   "source": [
    "import numpy as np\n",
    "import matplotlib.pyplot as plt\n",
    "import copy\n",
    "import math"
   ]
  },
  {
   "cell_type": "code",
   "execution_count": 10,
   "id": "d45454c9-945c-4426-8c9b-f72dcb0a2428",
   "metadata": {},
   "outputs": [],
   "source": [
    "with open(\"/home/peter/Downloads/AdventOfCode/day24Input.txt\") as fh:\n",
    "    lines = fh.readlines()\n",
    "#for line in lines:\n",
    "#    print(line[0:-1])\n",
    "#with open(\"/home/peter/Downloads/AdventOfCode/day24Test.txt\") as fh:\n",
    "#    lines = fh.readlines()\n",
    "#for line in lines:\n",
    "#    print(line[0:-1])"
   ]
  },
  {
   "cell_type": "code",
   "execution_count": 58,
   "id": "48243045-aef6-40ef-b3f7-ea4a48c5726a",
   "metadata": {},
   "outputs": [],
   "source": [
    "class day24:\n",
    "    def __init__(self,MONAD):\n",
    "        self.mvars = {\n",
    "            \"w\" : 0,\n",
    "            \"x\" : 0,\n",
    "            \"y\" : 0,\n",
    "            \"z\" : 0,\n",
    "        }\n",
    "        self.inputLoc = 0\n",
    "        self.MONAD = MONAD\n",
    "    \n",
    "    def doOp(self,line):\n",
    "        parts = line.split()\n",
    "        opt = parts[0]\n",
    "        if \"inp\" == opt:\n",
    "            self.mvars[parts[1]] = self.MONAD[self.inputLoc]\n",
    "            self.inputLoc += 1\n",
    "            print(\"found inp\")\n",
    "            print(\"status:\")\n",
    "            print(self.mvars)\n",
    "            return 1,self.inputLoc\n",
    "        else:\n",
    "            part2 = self.mvars[parts[2]] if parts[2] in self.mvars else int(parts[2])\n",
    "            if \"add\" == opt:\n",
    "                self.mvars[parts[1]] += part2\n",
    "            elif \"mul\" == opt:\n",
    "                self.mvars[parts[1]] *= part2\n",
    "            elif \"div\" == opt:\n",
    "                \n",
    "                if part2 == 0:\n",
    "                    print(\"bad div on\",line)\n",
    "                    print(self.mvars)\n",
    "                    print(self.inputLoc)\n",
    "                    return None,self.inputLoc\n",
    "                self.mvars[parts[1]] //= part2\n",
    "            elif \"mod\" == opt:\n",
    "                if part2 <= 0:\n",
    "                    print(\"bad mod on\",line)\n",
    "                    print(self.mvars)\n",
    "                    print(self.inputLoc)\n",
    "                    return None,self.inputLoc\n",
    "                self.mvars[parts[1]] %=part2\n",
    "            elif \"eql\" == opt:\n",
    "                self.mvars[parts[1]] = 1 if self.mvars[parts[1]] == part2 else 0\n",
    "        return 1,self.inputLoc\n",
    "        "
   ]
  },
  {
   "cell_type": "code",
   "execution_count": 59,
   "id": "c085030b-668b-4a1b-bbab-a08c344bdd5d",
   "metadata": {},
   "outputs": [
    {
     "name": "stdout",
     "output_type": "stream",
     "text": [
      "{'w': 9, 'x': 1, 'y': 10, 'z': 3310156106}\n",
      "bad div on div w 0\n",
      "{'w': 0, 'x': 0, 'y': 0, 'z': 0}\n",
      "0\n",
      "Found none\n",
      "{'w': 0, 'x': 0, 'y': 0, 'z': 0}\n",
      "0\n"
     ]
    }
   ],
   "source": [
    "print(foo.mvars)\n",
    "blah = day24(MONAD)\n",
    "parts,f = blah.doOp(\"div w 0\")\n",
    "#print(parts)\n",
    "if parts == None:\n",
    "    print(\"Found none\")\n",
    "    print(blah.mvars)\n",
    "    print(blah.inputLoc)"
   ]
  },
  {
   "cell_type": "code",
   "execution_count": 76,
   "id": "30efc8e1-5445-4f0a-b626-0e76e1d50273",
   "metadata": {},
   "outputs": [
    {
     "name": "stdout",
     "output_type": "stream",
     "text": [
      "[9, 6, 9, 7, 9, 9, 8, 9, 6, 9, 2, 4, 9, 5]\n",
      "found inp\n",
      "status:\n",
      "{'w': 9, 'x': 0, 'y': 0, 'z': 0}\n",
      "found inp\n",
      "status:\n",
      "{'w': 6, 'x': 1, 'y': 10, 'z': 10}\n",
      "found inp\n",
      "status:\n",
      "{'w': 9, 'x': 1, 'y': 15, 'z': 275}\n",
      "found inp\n",
      "status:\n",
      "{'w': 7, 'x': 1, 'y': 20, 'z': 7170}\n",
      "found inp\n",
      "status:\n",
      "{'w': 9, 'x': 0, 'y': 0, 'z': 275}\n",
      "found inp\n",
      "status:\n",
      "{'w': 9, 'x': 1, 'y': 15, 'z': 7165}\n",
      "found inp\n",
      "status:\n",
      "{'w': 8, 'x': 1, 'y': 22, 'z': 186312}\n",
      "found inp\n",
      "status:\n",
      "{'w': 9, 'x': 0, 'y': 0, 'z': 7165}\n",
      "found inp\n",
      "status:\n",
      "{'w': 6, 'x': 1, 'y': 14, 'z': 186304}\n",
      "found inp\n",
      "status:\n",
      "{'w': 9, 'x': 0, 'y': 0, 'z': 7165}\n",
      "found inp\n",
      "status:\n",
      "{'w': 2, 'x': 1, 'y': 11, 'z': 186301}\n",
      "found inp\n",
      "status:\n",
      "{'w': 4, 'x': 0, 'y': 0, 'z': 7165}\n",
      "found inp\n",
      "status:\n",
      "{'w': 9, 'x': 0, 'y': 0, 'z': 275}\n",
      "found inp\n",
      "status:\n",
      "{'w': 5, 'x': 0, 'y': 0, 'z': 10}\n",
      "{'w': 5, 'x': 0, 'y': 0, 'z': 0}\n",
      "14\n",
      "[]\n"
     ]
    }
   ],
   "source": [
    "MONAD = [9]*14\n",
    "MONAD = [ 9,  6,  9,  7,  9,  9,  8,  9,  6,  9,  2,  4,  9,  5]\n",
    "print(MONAD)\n",
    "foo = day24(MONAD)\n",
    "ran = False\n",
    "while not ran or foo.mvars['z'] != 0:\n",
    "    foo = day24(MONAD)\n",
    "    for i,line in enumerate(lines):\n",
    "        status,loc = foo.doOp(line)\n",
    "        #print(status,loc)\n",
    "        if status == None:\n",
    "            print(\"bad val\")\n",
    "            break\n",
    "    loc = foo.inputLoc-1\n",
    "    decreased = False\n",
    "    while not decreased:\n",
    "        MONAD[loc] -= 1\n",
    "        if MONAD[loc] == 0:\n",
    "            MONAD[loc] = 9\n",
    "            loc -= 1\n",
    "            decreased = False\n",
    "        else:\n",
    "            decreased = True\n",
    "    break\n",
    "print(foo.mvars)\n",
    "print(foo.inputLoc)\n",
    "def printZ(zVal):\n",
    "    tstr = []\n",
    "    while zVal > 0:\n",
    "        tstr.append(zVal % 26)\n",
    "        zVal //= 26\n",
    "    print(tstr)\n",
    "printZ(foo.mvars['z'])"
   ]
  },
  {
   "cell_type": "code",
   "execution_count": 69,
   "id": "0a3fcd13-6042-42bf-8f26-f62443b48719",
   "metadata": {},
   "outputs": [
    {
     "name": "stdout",
     "output_type": "stream",
     "text": [
      "0\n"
     ]
    }
   ],
   "source": [
    "foo = 9\n",
    "foo *= 0\n",
    "print(foo)"
   ]
  },
  {
   "cell_type": "code",
   "execution_count": null,
   "id": "a48e979a-f0c0-4e29-9a3e-30e2c11d172d",
   "metadata": {},
   "outputs": [],
   "source": []
  }
 ],
 "metadata": {
  "kernelspec": {
   "display_name": "Python 3 (ipykernel)",
   "language": "python",
   "name": "python3"
  },
  "language_info": {
   "codemirror_mode": {
    "name": "ipython",
    "version": 3
   },
   "file_extension": ".py",
   "mimetype": "text/x-python",
   "name": "python",
   "nbconvert_exporter": "python",
   "pygments_lexer": "ipython3",
   "version": "3.8.10"
  }
 },
 "nbformat": 4,
 "nbformat_minor": 5
}
