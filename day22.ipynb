{
 "cells": [
  {
   "cell_type": "code",
   "execution_count": 1,
   "id": "97508a7f-9deb-42a6-8ddc-998ab3328b8e",
   "metadata": {},
   "outputs": [],
   "source": [
    "import numpy as np\n",
    "import matplotlib.pyplot as plt\n",
    "import copy\n",
    "import math\n",
    "import itertools\n",
    "import re\n",
    "from collections import Counter"
   ]
  },
  {
   "cell_type": "code",
   "execution_count": 36,
   "id": "fea76c56-19af-4039-a0e1-907b49f3f854",
   "metadata": {},
   "outputs": [],
   "source": [
    "with open(\"/home/peter/Downloads/AdventOfCode/day22Input.txt\") as fh:\n",
    "    lines = fh.readlines()\n",
    "#with open(\"/home/peter/Downloads/AdventOfCode/day22Test.txt\") as fh:\n",
    "#    lines = fh.readlines()\n",
    "#with open(\"/home/peter/Downloads/AdventOfCode/day22TestT2.txt\") as fh:\n",
    "#    lines = fh.readlines()"
   ]
  },
  {
   "cell_type": "code",
   "execution_count": 37,
   "id": "03c5cf56-04f5-45ad-949f-89590232df11",
   "metadata": {},
   "outputs": [
    {
     "name": "stdout",
     "output_type": "stream",
     "text": [
      "420\n",
      "420\n",
      "[-27, 1, -14, -15, -13, -8, -24, -47, -45, 1, -36, -17, 32, -7, 34, -7, -39, -4, -19, -18, -38704, -11481, -14104, 18108, -5122, -82960, 41884, -92027, -82663, -56376, -29571, -71506, -18850, 30387, 42170, -50232, -29117, 42489, -14477, -73250, -62732, -49882, -70725, -90112, 57934, 13322, 8479, 67524, 59622, 32146, 55538, -31760, 52583, 41338, -58140, 32787, -32867, -80173, -15315, -5631, -21782, 65929, -67840, -52847, 26874, 59596, -51198, -77282, 34838, 867, -80362, -33491, -85897, -39592, 14593, -71776, -29480, -9536, 41264, -27995, -3353, -67845, 11458, -68163, 34234, -36022, 53817, -6929, -34122, -27336, 32912, -23447, -10239, -75920, 67446, -5274, -12309, 1595, 61329, 37007, -77958, 46737, -80607, 66460, -2275, 39928, 39864, 12849, -87576, 63009, -64161, -85354, -43821, 42353, -79497, 35788, 65259, -22398, -55447, 30258, -79399, 32196, 41920, -10445, -1049, -24084, 15238, 20491, 34614, 458, -10794, 25505, -7778, -36415, -46832, 3532, 23374, -61323, 32417, -23418, -23108, -75893, -79429, 64621, -77597, 40517, 56809, 10473, -78328, -68207, 69859, -66319, 60949, 58360, -80502, 25402, 52945, -13794, -46132, -70794, 22338, 40203, -41985, 42148, -35544, -22193, 48600, 13092, -48401, -52791, 44725, -76389, -22048, -66586, 22479, 53558, 763, 51128, 72107, 40382, 25220, -13522, -23296, 34776, -36071, -62204, 11629, -52316, 35774, 11566, 5868, 44436, -64177, 29991, 74349, -78430, 26235, 60142, 21595, -41747, -4996, 63250, -29400, 21014, 72300, 31315, -78622, -53188, 14515, -10430, 24580, -5365, 32604, -83907, 6141, -68588, -24011, -69113, -83790, 29072, 23157, 50457, 33790, 18673, -92185, -58473, 32156, 21679, -35892, -14136, -45919, -10856, -9490, -79126, -2291, -36793, 62758, 34998, 38763, -36202, -37025, -41045, -74686, -59368, 55936, -8262, -71141, -64541, 52295, 9593, -88136, 55878, 59692, 29990, -60707, 25382, 72552, 18848, 34728, 30598, -39483, -30425, 69149, 49974, -1341, 35434, 64716, -57791, -68033, -17869, -30134, -93967, -68010, 37222, -73227, -46934, -71853, -68074, 45047, 33189, 2836, 23281, -71100, -21160, -23703, 36416, 20072, 7771, 1201, 53727, 50597, 27915, 611, 2499, -84228, -49507, -74146, 14384, -3628, 27640, 21474, 49590, -38469, -5104, -555, -49414, 31450, 3458, 28231, 59005, 2748, 23254, 7764, 32495, 16923, 59815, -67336, -32331, 21008, 8134, -4777, -75798, -45034, 57983, 5286, 50198, -7326, -9940, -90155, -50510, -94915, -52105, 48497, -75972, 9506, 2890, 24470, -10791, -48423, -16801, -83487, 13923, -93599, -35603, 60754, 3332, -22074, 56068, -93601, 12540, -26639, -81286, 62094, 55855, -63145, -56303, 27471, -40417, -1111, 77322, -31597, -9207, 51174, -16241, 50138, 59783, -75740, -57635, 9247, 35284, 46211, -49577, 6685, 1286, -72846, 11849, 26128, 31732, -38524, -11008, -66450, 21474, 33557, -51782, -69826, 18444, 53603, 46967, -63628, 38414, -70513, -52050, -23087, -32483, 22556, 19621, -31077, 57780, -38394, 11298, -53747, 24982, -24466, -34837, -47343, 37362, -247, -32358, -82473, -56317, -69145, 28882, 52621, -85217, -64700, -41848, 8118, 15334, 8784, 49338]\n"
     ]
    }
   ],
   "source": [
    "ons = []\n",
    "x1s = []\n",
    "x2s = []\n",
    "y1s = []\n",
    "y2s = []\n",
    "z1s = []\n",
    "z2s = []\n",
    "for line in lines:\n",
    "    m =  re.match(\"(on|off) x=([-0-9]*)\\.\\.([-0-9]*),y=([-0-9]*)\\.\\.([-0-9]*),z=([-0-9]*)\\.\\.([-0-9]*)\",line)\n",
    "    if m:\n",
    "        #print(\"matched\")\n",
    "        on,x1,x2,y1,y2,z1,z2 = m.groups()\n",
    "        #print(m.groups())\n",
    "        on = 1 if on == \"on\" else 0\n",
    "        ons.append(on)\n",
    "        x1s.append(int(x1))\n",
    "        x2s.append(int(x2))\n",
    "        y1s.append(int(y1))\n",
    "        y2s.append(int(y2))\n",
    "        z1s.append(int(z1))\n",
    "        z2s.append(int(z2))\n",
    "    else:\n",
    "        print(\"error on line \",line)\n",
    "print(len(lines))\n",
    "print(len(ons))\n",
    "print(x1s)"
   ]
  },
  {
   "cell_type": "code",
   "execution_count": 38,
   "id": "93a5959e-12c4-42f5-8f44-1ee60715be15",
   "metadata": {},
   "outputs": [],
   "source": [
    "msize = 110\n",
    "stage = np.zeros(shape=(msize,msize,msize),dtype=np.int64)"
   ]
  },
  {
   "cell_type": "code",
   "execution_count": 39,
   "id": "f85ed8a2-83f5-4a8f-91c4-e3d552d88687",
   "metadata": {},
   "outputs": [
    {
     "name": "stdout",
     "output_type": "stream",
     "text": [
      "setting  29 84 15 61 47 95 1\n",
      "setting  57 105 35 89 53 103 1\n",
      "setting  42 90 40 88 35 90 1\n",
      "setting  41 92 44 94 21 66 1\n",
      "setting  43 96 44 95 36 85 1\n",
      "setting  48 96 49 101 56 106 1\n",
      "setting  32 78 56 103 24 77 1\n",
      "setting  9 59 59 106 33 86 1\n",
      "setting  11 57 37 88 8 62 1\n",
      "setting  57 106 50 102 28 78 1\n",
      "setting  20 33 31 48 93 103 0\n",
      "setting  39 90 23 76 36 83 1\n",
      "setting  88 105 10 30 75 88 0\n",
      "setting  49 103 54 106 47 97 1\n",
      "setting  90 106 72 87 82 95 0\n",
      "setting  49 99 23 77 25 80 1\n",
      "setting  17 33 62 81 13 27 0\n",
      "setting  52 101 45 90 34 85 1\n",
      "setting  37 53 67 81 52 72 0\n",
      "setting  38 92 57 104 46 99 1\n"
     ]
    }
   ],
   "source": [
    "limit = (msize-8)/2\n",
    "offset = limit+5\n",
    "for i in range(len(ons)):\n",
    "    # ignore if less than\n",
    "    if x2s[i] < -limit or y2s[i] < -limit or z2s[i] < -limit:\n",
    "        continue\n",
    "    elif x1s[i] > limit or y1s[i] > limit or z1s[i] > limit:\n",
    "        continue\n",
    "    x1 = int(max(0,x1s[i]+offset))\n",
    "    y1 = int(max(0,y1s[i]+offset))\n",
    "    z1 = int(max(0,z1s[i]+offset))\n",
    "    x2 = int(min(msize,x2s[i]+offset+1)) # +1 because clopen\n",
    "    y2 = int(min(msize,y2s[i]+offset+1))\n",
    "    z2 = int(min(msize,z2s[i]+offset+1))\n",
    "    print(\"setting \",x1,x2,y1,y2,z1,z2,ons[i])\n",
    "    stage[x1:x2,y1:y2,z1:z2] = ons[i]"
   ]
  },
  {
   "cell_type": "code",
   "execution_count": 40,
   "id": "1c5cf328-c1a7-4262-b4da-55914a6b25f3",
   "metadata": {},
   "outputs": [
    {
     "data": {
      "text/plain": [
       "587785"
      ]
     },
     "execution_count": 40,
     "metadata": {},
     "output_type": "execute_result"
    }
   ],
   "source": [
    "np.count_nonzero(stage)"
   ]
  },
  {
   "cell_type": "code",
   "execution_count": 41,
   "id": "7f9a90e9-24bc-4b94-a6e6-2249fa1591e6",
   "metadata": {},
   "outputs": [],
   "source": [
    "cubes = Counter()\n",
    "for i in range(len(ons)):\n",
    "    sign = ons[i]\n",
    "    sign = 1 if sign == 1 else -1\n",
    "    x1 = x1s[i]\n",
    "    y1 = y1s[i]\n",
    "    z1 = z1s[i]\n",
    "    x2 = x2s[i]\n",
    "    y2 = y2s[i]\n",
    "    z2 = z2s[i]\n",
    "    newCubes = Counter()\n",
    "    for (cx1,cx2,cy1,cy2,cz1,cz2),count in cubes.items():\n",
    "        #print('.')\n",
    "        px1 = max(x1,cx1)\n",
    "        px2 = min(x2,cx2)\n",
    "        py1 = max(y1,cy1)\n",
    "        py2 = min(y2,cy2)\n",
    "        pz1 = max(z1,cz1)\n",
    "        pz2 = min(z2,cz2)\n",
    "        if px1 <= px2 and py1 <= py2 and pz1 <= pz2:\n",
    "            #print(\"setting \",px1,px2,py1,py2,pz1,pz2,count)\n",
    "            newCubes[(px1,px2,py1,py2,pz1,pz2)] -= count\n",
    "    if sign > 0:\n",
    "        #print(\"foo\")\n",
    "        newCubes[(x1,x2,y1,y2,z1,z2)] += sign\n",
    "    cubes.update(newCubes)\n",
    "\n"
   ]
  },
  {
   "cell_type": "code",
   "execution_count": 42,
   "id": "b9cc51e9-0788-472a-8c38-aebaf1b8c7c3",
   "metadata": {},
   "outputs": [
    {
     "name": "stdout",
     "output_type": "stream",
     "text": [
      "1167985679908143\n"
     ]
    }
   ],
   "source": [
    "dsum = 0\n",
    "for (cx1,cx2,cy1,cy2,cz1,cz2),count in cubes.items():\n",
    "    dsum += (cx2-cx1+1)*(cy2-cy1+1)*(cz2-cz1+1)*count\n",
    "print(dsum)\n",
    "#print(cubes.items())"
   ]
  },
  {
   "cell_type": "code",
   "execution_count": 43,
   "id": "6c8d68d5-684f-41cc-b9e3-3f32a8997d97",
   "metadata": {},
   "outputs": [
    {
     "data": {
      "text/plain": [
       "16"
      ]
     },
     "execution_count": 43,
     "metadata": {},
     "output_type": "execute_result"
    }
   ],
   "source": [
    "len(\"2758514936282235\")"
   ]
  },
  {
   "cell_type": "code",
   "execution_count": 44,
   "id": "ecaab9e0-5d69-4100-9770-5d82d16e2d06",
   "metadata": {},
   "outputs": [
    {
     "name": "stdout",
     "output_type": "stream",
     "text": [
      "1167985679908143\n"
     ]
    }
   ],
   "source": [
    "cubes = Counter()\n",
    "for line in lines:\n",
    "    nsgn = 1 if line.split()[0] == \"on\" else -1\n",
    "    nx0, nx1, ny0, ny1, nz0, nz1 = map(int, re.findall(\"-?\\d+\", line))\n",
    "\n",
    "    update = Counter()\n",
    "    for (ex0, ex1, ey0, ey1, ez0, ez1), esgn in cubes.items():\n",
    "        ix0 = max(nx0, ex0); ix1 = min(nx1, ex1)\n",
    "        iy0 = max(ny0, ey0); iy1 = min(ny1, ey1)\n",
    "        iz0 = max(nz0, ez0); iz1 = min(nz1, ez1)\n",
    "        if ix0 <= ix1 and iy0 <= iy1 and iz0 <= iz1:\n",
    "            update[(ix0, ix1, iy0, iy1, iz0, iz1)] -= esgn\n",
    "    if nsgn > 0:\n",
    "        update[(nx0, nx1, ny0, ny1, nz0, nz1)] += nsgn\n",
    "    cubes.update(update)\n",
    "\n",
    "print(sum((x1 - x0 + 1) * (y1 - y0 + 1) * (z1 - z0 + 1) * sgn\n",
    "          for (x0, x1, y0, y1, z0, z1), sgn in cubes.items()))"
   ]
  },
  {
   "cell_type": "code",
   "execution_count": null,
   "id": "36ae17a7-6df4-46bd-a8ed-d571abe5084b",
   "metadata": {},
   "outputs": [],
   "source": []
  },
  {
   "cell_type": "code",
   "execution_count": null,
   "id": "c7b91d82-f361-4ae2-93d0-6c24cca92249",
   "metadata": {},
   "outputs": [],
   "source": []
  }
 ],
 "metadata": {
  "kernelspec": {
   "display_name": "Python 3 (ipykernel)",
   "language": "python",
   "name": "python3"
  },
  "language_info": {
   "codemirror_mode": {
    "name": "ipython",
    "version": 3
   },
   "file_extension": ".py",
   "mimetype": "text/x-python",
   "name": "python",
   "nbconvert_exporter": "python",
   "pygments_lexer": "ipython3",
   "version": "3.8.10"
  }
 },
 "nbformat": 4,
 "nbformat_minor": 5
}
